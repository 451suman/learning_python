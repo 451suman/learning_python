{
 "cells": [
  {
   "cell_type": "code",
   "execution_count": 3,
   "id": "5ea8223c-4f8e-4a68-8f33-4d5a2918b830",
   "metadata": {},
   "outputs": [],
   "source": [
    "# OOP \n",
    "# class => person  => blueprint\n",
    "# object"
   ]
  },
  {
   "cell_type": "code",
   "execution_count": 4,
   "id": "72070821-eec5-41e7-9200-80947acfa585",
   "metadata": {},
   "outputs": [],
   "source": [
    "# class  in pascale case DateTime\n",
    "#function => lower case\n"
   ]
  },
  {
   "cell_type": "code",
   "execution_count": 5,
   "id": "bf05c2bc-aae3-405d-ae11-c6db474d89b5",
   "metadata": {},
   "outputs": [],
   "source": [
    "class dateTime : \n",
    "    def tode_date():\n",
    "        pass\n",
    "        \n",
    "    def today_time():\n",
    "        pass\n",
    "        \n",
    "    def today_day():\n",
    "        pass\n",
    "\n",
    "    def today_week():\n",
    "        pass\n",
    "\n",
    "    def today_month():\n",
    "        pass\n",
    "\n",
    "    def today_year():\n",
    "        pass\n",
    "\n",
    "    def today_utc_time():\n",
    "        pass"
   ]
  },
  {
   "cell_type": "code",
   "execution_count": 6,
   "id": "5554419f-2a3e-444d-8804-a3eaaddc7aff",
   "metadata": {},
   "outputs": [],
   "source": [
    "class Person:\n",
    "    #attribute / properties\n",
    "    name=\"ram\"\n",
    "    age=22\n",
    "    address=\"ktm\""
   ]
  },
  {
   "cell_type": "code",
   "execution_count": 9,
   "id": "145abcfd-605f-4de7-9776-1312c0ce1c3f",
   "metadata": {},
   "outputs": [
    {
     "name": "stdout",
     "output_type": "stream",
     "text": [
      "<__main__.Person object at 0x000002957407F740>\n"
     ]
    }
   ],
   "source": [
    "ram = Person() # => object of a class => instance\n",
    "print(ram)"
   ]
  },
  {
   "cell_type": "code",
   "execution_count": 10,
   "id": "6ba02be7-d562-4323-b6e1-f1d6e59d033b",
   "metadata": {},
   "outputs": [],
   "source": [
    "class Person:\n",
    "    name=\"ram\"\n",
    "    age=22\n",
    "    address=\"ktm\"\n",
    "\n",
    "    def eat():\n",
    "        pass\n",
    "\n",
    "    def sleep():\n",
    "        pass\n",
    "\n",
    "    def walk():\n",
    "        pass\n",
    "\n"
   ]
  },
  {
   "cell_type": "code",
   "execution_count": 17,
   "id": "67d7ca06-dfee-4141-8c0e-dc490b2fa369",
   "metadata": {},
   "outputs": [
    {
     "data": {
      "text/plain": [
       "22"
      ]
     },
     "execution_count": 17,
     "metadata": {},
     "output_type": "execute_result"
    }
   ],
   "source": [
    "p1= Person()\n",
    "p1.age\n"
   ]
  },
  {
   "cell_type": "code",
   "execution_count": 16,
   "id": "d7ef3357-5e6b-4d49-85ff-afedadb4e31d",
   "metadata": {},
   "outputs": [
    {
     "data": {
      "text/plain": [
       "'ktm'"
      ]
     },
     "execution_count": 16,
     "metadata": {},
     "output_type": "execute_result"
    }
   ],
   "source": [
    "p1.address\n"
   ]
  },
  {
   "cell_type": "code",
   "execution_count": 15,
   "id": "90fa9d99-6406-45ec-8669-e8d54ca7f4bf",
   "metadata": {},
   "outputs": [
    {
     "data": {
      "text/plain": [
       "'ram'"
      ]
     },
     "execution_count": 15,
     "metadata": {},
     "output_type": "execute_result"
    }
   ],
   "source": [
    "p1.name"
   ]
  },
  {
   "cell_type": "code",
   "execution_count": 20,
   "id": "8921d2bd-aecc-4c2c-b9a1-7dcf4aca9ca9",
   "metadata": {},
   "outputs": [
    {
     "name": "stdout",
     "output_type": "stream",
     "text": [
      "john 22 bkt\n"
     ]
    }
   ],
   "source": [
    "class Person:\n",
    "    def __init__(self,name,age, address):\n",
    "        print(name, age, address)\n",
    "\n",
    "p1= Person(\"john\",22,\"bkt\")"
   ]
  },
  {
   "cell_type": "code",
   "execution_count": 24,
   "id": "e93022f7-c720-474d-b80e-c582cb35bdb3",
   "metadata": {},
   "outputs": [
    {
     "name": "stdout",
     "output_type": "stream",
     "text": [
      "john\n",
      "22\n"
     ]
    }
   ],
   "source": [
    "class Person:\n",
    "    def __init__(self,name,age, address):\n",
    "        self.name=name\n",
    "        self.age=age\n",
    "        self.address=address\n",
    "        \n",
    "p1= Person(\"john\",22,\"bkt\")\n",
    "\n",
    "print(p1.name)\n",
    "print(p1.age)"
   ]
  },
  {
   "cell_type": "code",
   "execution_count": null,
   "id": "59a44ce8-df1d-4b7c-a678-92d60b169a0d",
   "metadata": {},
   "outputs": [],
   "source": []
  }
 ],
 "metadata": {
  "kernelspec": {
   "display_name": "Python 3 (ipykernel)",
   "language": "python",
   "name": "python3"
  },
  "language_info": {
   "codemirror_mode": {
    "name": "ipython",
    "version": 3
   },
   "file_extension": ".py",
   "mimetype": "text/x-python",
   "name": "python",
   "nbconvert_exporter": "python",
   "pygments_lexer": "ipython3",
   "version": "3.12.4"
  }
 },
 "nbformat": 4,
 "nbformat_minor": 5
}
