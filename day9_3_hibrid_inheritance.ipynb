{
 "cells": [
  {
   "cell_type": "code",
   "execution_count": 1,
   "id": "5b656ea6-ad33-4d64-8758-55d8e0127cba",
   "metadata": {},
   "outputs": [],
   "source": [
    "#HIbrid inheritance"
   ]
  },
  {
   "cell_type": "code",
   "execution_count": 3,
   "id": "7237b9d4-a9f7-42b4-8004-87a8c6c9564f",
   "metadata": {},
   "outputs": [
    {
     "name": "stdout",
     "output_type": "stream",
     "text": [
      "this is vehicle\n",
      "Car name is bmw\n",
      "this is vehicle\n",
      "Truck name is Ford\n"
     ]
    }
   ],
   "source": [
    "class Vehicle:\n",
    "    def info(self):\n",
    "        print(\"this is vehicle\")\n",
    "class Car(Vehicle):\n",
    "    def car_info(self,name):\n",
    "        print(\"Car name is\",name)\n",
    "class Truck(Vehicle):\n",
    "    def truck_info(self,name):\n",
    "        print(\"Truck name is\",name)\n",
    "class SportsCar(Car,Vehicle):\n",
    "    def sports_car_info(self):\n",
    "        print(\"inside sports car class\")\n",
    "obj1=Car()\n",
    "obj1.info()\n",
    "obj1.car_info(\"bmw\")\n",
    "\n",
    "obj2=Truck()\n",
    "obj2.info()\n",
    "obj2.truck_info(\"Ford\")"
   ]
  },
  {
   "cell_type": "code",
   "execution_count": null,
   "id": "07d21d64-bb4a-4b46-baef-2622bed783d0",
   "metadata": {},
   "outputs": [],
   "source": []
  },
  {
   "cell_type": "code",
   "execution_count": null,
   "id": "e6ac4a4b-81c9-41a6-b57c-07bfe976f49f",
   "metadata": {},
   "outputs": [],
   "source": [
    "\n",
    "#access modifier"
   ]
  },
  {
   "cell_type": "code",
   "execution_count": 4,
   "id": "3eb39a1e-eb10-4629-9960-9390794325c7",
   "metadata": {},
   "outputs": [
    {
     "name": "stdout",
     "output_type": "stream",
     "text": [
      "<__main__.Hello object at 0x000001EF8D449400>\n"
     ]
    }
   ],
   "source": []
  },
  {
   "cell_type": "code",
   "execution_count": 9,
   "id": "d5a233fb-5c90-4203-a56b-180e9ea48792",
   "metadata": {},
   "outputs": [
    {
     "data": {
      "text/plain": [
       "20"
      ]
     },
     "execution_count": 9,
     "metadata": {},
     "output_type": "execute_result"
    }
   ],
   "source": []
  },
  {
   "cell_type": "code",
   "execution_count": 11,
   "id": "f0db96a9-e21b-4d5d-9cee-0f08ef8bedf6",
   "metadata": {},
   "outputs": [
    {
     "data": {
      "text/plain": [
       "18"
      ]
     },
     "execution_count": 11,
     "metadata": {},
     "output_type": "execute_result"
    }
   ],
   "source": [
    "r.perimeter()"
   ]
  },
  {
   "cell_type": "code",
   "execution_count": null,
   "id": "94ba887a-af64-4a4d-a3cf-f5af16fb3211",
   "metadata": {},
   "outputs": [],
   "source": []
  }
 ],
 "metadata": {
  "kernelspec": {
   "display_name": "Python 3 (ipykernel)",
   "language": "python",
   "name": "python3"
  },
  "language_info": {
   "codemirror_mode": {
    "name": "ipython",
    "version": 3
   },
   "file_extension": ".py",
   "mimetype": "text/x-python",
   "name": "python",
   "nbconvert_exporter": "python",
   "pygments_lexer": "ipython3",
   "version": "3.12.4"
  }
 },
 "nbformat": 4,
 "nbformat_minor": 5
}
