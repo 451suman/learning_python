{
 "cells": [
  {
   "cell_type": "code",
   "execution_count": 1,
   "metadata": {},
   "outputs": [
    {
     "name": "stdout",
     "output_type": "stream",
     "text": [
      "{1, 2, 3, 4, 5, 6} <class 'set'>\n"
     ]
    }
   ],
   "source": [
    "#set data type\n",
    "s={1,2,3,4,5,6}\n",
    "print(s,type(s))"
   ]
  },
  {
   "cell_type": "code",
   "execution_count": 3,
   "metadata": {},
   "outputs": [
    {
     "name": "stdout",
     "output_type": "stream",
     "text": [
      "{1, 3, 4.5, 'ram', (7, 8, 9), 'shyam', 'hari'}\n"
     ]
    }
   ],
   "source": [
    "s={'ram',1,'hari',4.5,3,'shyam',(7,8,9)} #set is an unorder collection becayuse input ko order ani outputko order is different\n",
    "print(s)"
   ]
  },
  {
   "cell_type": "code",
   "execution_count": 4,
   "metadata": {},
   "outputs": [
    {
     "name": "stdout",
     "output_type": "stream",
     "text": [
      "{1, 3, 4.5, 'ram', (7, 8, 9), 'shyam', 'hari'}\n"
     ]
    }
   ],
   "source": [
    "s={'ram',1,'hari',4.5,'ram',3,'shyam',(7,8,9)} #set is an unique onorder collection (unique lust like database) no repeat\n",
    "print(s)"
   ]
  },
  {
   "cell_type": "code",
   "execution_count": 7,
   "metadata": {},
   "outputs": [
    {
     "ename": "TypeError",
     "evalue": "unhashable type: 'list'",
     "output_type": "error",
     "traceback": [
      "\u001b[1;31m---------------------------------------------------------------------------\u001b[0m",
      "\u001b[1;31mTypeError\u001b[0m                                 Traceback (most recent call last)",
      "Cell \u001b[1;32mIn[7], line 1\u001b[0m\n\u001b[1;32m----> 1\u001b[0m s\u001b[38;5;241m=\u001b[39m{\u001b[38;5;124m'\u001b[39m\u001b[38;5;124mram\u001b[39m\u001b[38;5;124m'\u001b[39m,\u001b[38;5;241m1\u001b[39m,\u001b[38;5;124m'\u001b[39m\u001b[38;5;124mhari\u001b[39m\u001b[38;5;124m'\u001b[39m,\u001b[38;5;241m4.5\u001b[39m,\u001b[38;5;124m'\u001b[39m\u001b[38;5;124mram\u001b[39m\u001b[38;5;124m'\u001b[39m,\u001b[38;5;241m3\u001b[39m,\u001b[38;5;124m'\u001b[39m\u001b[38;5;124mshyam\u001b[39m\u001b[38;5;124m'\u001b[39m,(\u001b[38;5;241m7\u001b[39m,\u001b[38;5;241m8\u001b[39m,\u001b[38;5;241m9\u001b[39m),[\u001b[38;5;241m1\u001b[39m,\u001b[38;5;241m2\u001b[39m,\u001b[38;5;241m3\u001b[39m]} \u001b[38;5;66;03m# this is error because list data can be change but\u001b[39;00m\n\u001b[0;32m      2\u001b[0m \u001b[38;5;66;03m#set data cannot be change after print so this statement is error\u001b[39;00m\n\u001b[0;32m      3\u001b[0m \u001b[38;5;28mprint\u001b[39m(s)\n",
      "\u001b[1;31mTypeError\u001b[0m: unhashable type: 'list'"
     ]
    }
   ],
   "source": [
    "s={'ram',1,'hari',4.5,'ram',3,'shyam',(7,8,9),[1,2,3]} # this is error because list data can be change but\n",
    "#set data cannot be change after print so this statement is error\n",
    "print(s)"
   ]
  },
  {
   "cell_type": "code",
   "execution_count": 8,
   "metadata": {},
   "outputs": [],
   "source": [
    "# different types of empty \n",
    "empty_string=\"\"\n",
    "empty_list=[]\n",
    "empty_tuple=()\n",
    "empty_dict={}\n",
    "empty_set=set()"
   ]
  },
  {
   "cell_type": "code",
   "execution_count": 3,
   "metadata": {},
   "outputs": [
    {
     "name": "stdout",
     "output_type": "stream",
     "text": [
      "{1, 3, 4.5, 'shyam', 'ram', (7, 8, 9), 'hari', '33'}\n"
     ]
    }
   ],
   "source": [
    "s={'ram',1,'hari',4.5,3,'shyam',(7,8,9)} \n",
    "# add data in set\n",
    "s.add('33')\n",
    "print (s)"
   ]
  },
  {
   "cell_type": "code",
   "execution_count": 2,
   "metadata": {},
   "outputs": [
    {
     "name": "stdout",
     "output_type": "stream",
     "text": [
      "set()\n"
     ]
    }
   ],
   "source": [
    "s={'ram',1,'hari',4.5,3,'shyam',(7,8,9)} #remove all daa from set\n",
    "s.clear() \n",
    "print (s)"
   ]
  },
  {
   "cell_type": "code",
   "execution_count": 4,
   "metadata": {},
   "outputs": [
    {
     "name": "stdout",
     "output_type": "stream",
     "text": [
      "{1, 3, 4.5, 'shyam', 'ram', (7, 8, 9), (1, 5, 0, 2), 'hari'}\n"
     ]
    }
   ],
   "source": [
    "s={'ram',1,'hari',4.5,3,'shyam',(7,8,9)} \n",
    "# add tuple data in set\n",
    "s.add((1,5,0,2))\n",
    "print (s)"
   ]
  },
  {
   "cell_type": "code",
   "execution_count": 5,
   "metadata": {},
   "outputs": [
    {
     "name": "stdout",
     "output_type": "stream",
     "text": [
      "{1, 2, 3, 4.5, 4, 6, 7, 'shyam', 'ram', 'hari', (7, 8, 9)}\n"
     ]
    }
   ],
   "source": [
    "s={'ram',1,'hari',4.5,3,'shyam',(7,8,9)} \n",
    "s.update((2,4,6,7)) #in update it add sing le data insted of tuple data\n",
    "print (s)"
   ]
  },
  {
   "cell_type": "code",
   "execution_count": 7,
   "metadata": {},
   "outputs": [
    {
     "name": "stdout",
     "output_type": "stream",
     "text": [
      "{3, 4.5, 'shyam', 'ram', (7, 8, 9), 'hari'}\n"
     ]
    }
   ],
   "source": [
    "s={'ram',1,'hari',4.5,3,'shyam',(7,8,9)} \n",
    "s.remove(1) #remove 1 from set\n",
    "print (s)"
   ]
  },
  {
   "cell_type": "code",
   "execution_count": 9,
   "metadata": {},
   "outputs": [
    {
     "ename": "KeyError",
     "evalue": "11",
     "output_type": "error",
     "traceback": [
      "\u001b[1;31m---------------------------------------------------------------------------\u001b[0m",
      "\u001b[1;31mKeyError\u001b[0m                                  Traceback (most recent call last)",
      "Cell \u001b[1;32mIn[9], line 2\u001b[0m\n\u001b[0;32m      1\u001b[0m s\u001b[38;5;241m=\u001b[39m{\u001b[38;5;124m'\u001b[39m\u001b[38;5;124mram\u001b[39m\u001b[38;5;124m'\u001b[39m,\u001b[38;5;241m1\u001b[39m,\u001b[38;5;124m'\u001b[39m\u001b[38;5;124mhari\u001b[39m\u001b[38;5;124m'\u001b[39m,\u001b[38;5;241m4.5\u001b[39m,\u001b[38;5;241m3\u001b[39m,\u001b[38;5;124m'\u001b[39m\u001b[38;5;124mshyam\u001b[39m\u001b[38;5;124m'\u001b[39m,(\u001b[38;5;241m7\u001b[39m,\u001b[38;5;241m8\u001b[39m,\u001b[38;5;241m9\u001b[39m)} \n\u001b[1;32m----> 2\u001b[0m \u001b[43ms\u001b[49m\u001b[38;5;241;43m.\u001b[39;49m\u001b[43mremove\u001b[49m\u001b[43m(\u001b[49m\u001b[38;5;241;43m11\u001b[39;49m\u001b[43m)\u001b[49m \u001b[38;5;66;03m#remove 11 from set => ans is error because 11 is not i set\u001b[39;00m\n\u001b[0;32m      3\u001b[0m \u001b[38;5;28mprint\u001b[39m (s)\n",
      "\u001b[1;31mKeyError\u001b[0m: 11"
     ]
    }
   ],
   "source": [
    "s={'ram',1,'hari',4.5,3,'shyam',(7,8,9)} \n",
    "s.remove(11) #remove 11 from set => ans is error because 11 is not in set\n",
    "print (s)"
   ]
  },
  {
   "cell_type": "code",
   "execution_count": 11,
   "metadata": {},
   "outputs": [
    {
     "name": "stdout",
     "output_type": "stream",
     "text": [
      "{1, 3, 4.5, 'shyam', 'ram', (7, 8, 9), 'hari'}\n"
     ]
    }
   ],
   "source": [
    "s={'ram',1,'hari',4.5,3,'shyam',(7,8,9)} \n",
    "s.discard(11) #remove if 11 is present in set \n",
    "#else print jasta ko testai set\n",
    "print (s)"
   ]
  },
  {
   "cell_type": "code",
   "execution_count": 15,
   "metadata": {},
   "outputs": [
    {
     "name": "stdout",
     "output_type": "stream",
     "text": [
      "3\n",
      "{4.5, 'shyam', 'ram', (7, 8, 9), 'hari'}\n"
     ]
    }
   ],
   "source": [
    "s={'ram',1,'hari',4.5,3,'shyam',(7,8,9)} \n",
    "s.pop() #remove 1 from set\n",
    "print(s.pop())\n",
    "print (s)"
   ]
  },
  {
   "cell_type": "code",
   "execution_count": 16,
   "metadata": {},
   "outputs": [
    {
     "name": "stdout",
     "output_type": "stream",
     "text": [
      "3\n",
      "{4.5, 'shyam', 'ram', (7, 8, 9), 'hari'}\n"
     ]
    }
   ],
   "source": [
    "s={'ram',1,'hari',4.5,3,'shyam',(7,8,9)} \n",
    "s.pop() #remove 1 from set\n",
    "print(s.pop())\n",
    "print (s)"
   ]
  },
  {
   "cell_type": "code",
   "execution_count": null,
   "metadata": {},
   "outputs": [],
   "source": []
  }
 ],
 "metadata": {
  "kernelspec": {
   "display_name": "Python 3",
   "language": "python",
   "name": "python3"
  },
  "language_info": {
   "codemirror_mode": {
    "name": "ipython",
    "version": 3
   },
   "file_extension": ".py",
   "mimetype": "text/x-python",
   "name": "python",
   "nbconvert_exporter": "python",
   "pygments_lexer": "ipython3",
   "version": "3.12.4"
  }
 },
 "nbformat": 4,
 "nbformat_minor": 2
}
