{
 "cells": [
  {
   "cell_type": "code",
   "execution_count": 10,
   "id": "b5c1b047-3165-4fae-a8f1-3797ce641ffc",
   "metadata": {},
   "outputs": [
    {
     "name": "stdout",
     "output_type": "stream",
     "text": [
      "[1, 4, 9, 16, 25]\n"
     ]
    }
   ],
   "source": [
    "# Write a Python program that takes a list of integers as input and prints the square of each number in the list. Use a for loop to iterate through the list.\n",
    "\n",
    "# Example:\n",
    "# If the input list is [1, 2, 3, 4, 5], the output should be:\n",
    "\n",
    "# 1\n",
    "# 4\n",
    "# 9\n",
    "# 16\n",
    "# 25\n",
    "\n",
    "x = [1, 2, 3, 4, 5]\n",
    "output=[]\n",
    "for y in x:\n",
    "    \n",
    "    output.append(y * y)\n",
    "\n",
    "print(output)\n"
   ]
  },
  {
   "cell_type": "code",
   "execution_count": 11,
   "id": "371ff781-1a93-4042-8532-f6fe2d3ef896",
   "metadata": {},
   "outputs": [
    {
     "name": "stdout",
     "output_type": "stream",
     "text": [
      "[4, 16]\n"
     ]
    }
   ],
   "source": [
    "\n",
    "output=[]\n",
    "for y in x:\n",
    "    if y%2==0:\n",
    "        output.append(y * y)\n",
    "\n",
    "print(output)"
   ]
  },
  {
   "cell_type": "code",
   "execution_count": 20,
   "id": "c0202585-8b67-4df0-bd50-c987eae00aed",
   "metadata": {},
   "outputs": [
    {
     "name": "stdout",
     "output_type": "stream",
     "text": [
      "1\n",
      "2\n",
      "3\n",
      "4\n",
      "asdasdasd 5\n"
     ]
    }
   ],
   "source": [
    "for i in range(1, len(x)):\n",
    "    print(i)\n",
    "print(f\"asdasdasd {len(x)}\")"
   ]
  },
  {
   "cell_type": "code",
   "execution_count": 27,
   "id": "2acdcce9-c338-485c-bc70-ac055488cb06",
   "metadata": {},
   "outputs": [
    {
     "name": "stdout",
     "output_type": "stream",
     "text": [
      "0\n",
      "1\n",
      "2\n",
      "4\n",
      "5\n",
      "6\n",
      "7\n",
      "8\n"
     ]
    }
   ],
   "source": [
    "# Break the loop when x is 3, and see what happens with the else block:\n",
    "for i in range(9):\n",
    "    if i==3:\n",
    "        continue\n",
    "    else:\n",
    "        print(i)\n",
    "\n"
   ]
  },
  {
   "cell_type": "code",
   "execution_count": 32,
   "id": "a7d1ffa1-f959-45e1-bd74-71f67af3a673",
   "metadata": {},
   "outputs": [
    {
     "name": "stdout",
     "output_type": "stream",
     "text": [
      "1 10\n",
      "1 20\n",
      "1 30\n",
      "1 40\n",
      "1 50\n",
      "2 10\n",
      "2 20\n",
      "2 30\n",
      "2 40\n",
      "2 50\n",
      "3 10\n",
      "3 20\n",
      "3 30\n",
      "3 40\n",
      "3 50\n",
      "4 10\n",
      "4 20\n",
      "4 30\n",
      "4 40\n",
      "4 50\n",
      "5 10\n",
      "5 20\n",
      "5 30\n",
      "5 40\n",
      "5 50\n"
     ]
    }
   ],
   "source": [
    "# Print each adjective for every fruit:\n",
    "x=[1,2,3,4,5]\n",
    "y=[10,20,30,40,50]\n",
    "\n",
    "for i in x:\n",
    "    for j in y:\n",
    "        print(i,j)"
   ]
  },
  {
   "cell_type": "code",
   "execution_count": null,
   "id": "310c325f-e90f-4332-86f2-a497953dbce5",
   "metadata": {},
   "outputs": [],
   "source": []
  }
 ],
 "metadata": {
  "kernelspec": {
   "display_name": "Python 3 (ipykernel)",
   "language": "python",
   "name": "python3"
  },
  "language_info": {
   "codemirror_mode": {
    "name": "ipython",
    "version": 3
   },
   "file_extension": ".py",
   "mimetype": "text/x-python",
   "name": "python",
   "nbconvert_exporter": "python",
   "pygments_lexer": "ipython3",
   "version": "3.12.4"
  }
 },
 "nbformat": 4,
 "nbformat_minor": 5
}
