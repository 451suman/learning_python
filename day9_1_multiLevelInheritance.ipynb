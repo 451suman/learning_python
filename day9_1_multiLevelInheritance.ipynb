{
 "cells": [
  {
   "cell_type": "code",
   "execution_count": 1,
   "id": "11a12c25-858e-4be9-9403-59dd400811da",
   "metadata": {},
   "outputs": [],
   "source": [
    "#multi level inheritance\n",
    "\n"
   ]
  },
  {
   "cell_type": "code",
   "execution_count": 2,
   "id": "2d16e1e8",
   "metadata": {},
   "outputs": [],
   "source": [
    "class Person:\n",
    "    pass\n",
    "class Students(Person):\n",
    "    pass\n",
    "class BachelorStudent(Students):\n",
    "    pass"
   ]
  },
  {
   "cell_type": "code",
   "execution_count": 5,
   "id": "1d544421-a116-4dc8-90ae-02097c9f2e2c",
   "metadata": {},
   "outputs": [
    {
     "name": "stdout",
     "output_type": "stream",
     "text": [
      "Name: suman\n",
      "Age: 20\n",
      "Address: bkt\n",
      "College: XYZ College\n",
      "Faculty: java\n",
      "Roll No: 001\n",
      "University: ABC University\n"
     ]
    }
   ],
   "source": [
    "class Person:\n",
    "    def __init__(self, name, age, address):\n",
    "        self.name = name\n",
    "        self.age = age\n",
    "        self.address = address\n",
    "        \n",
    "    def info(self):\n",
    "        print(f\"Name: {self.name}\")\n",
    "        print(f\"Age: {self.age}\")\n",
    "        print(f\"Address: {self.address}\")\n",
    "\n",
    "class Student(Person):\n",
    "    def __init__(self, name, age, address, college, faculty, roll_no):\n",
    "        super().__init__(name, age, address)\n",
    "        self.college = college\n",
    "        self.faculty = faculty\n",
    "        self.roll_no = roll_no\n",
    "\n",
    "    def info(self):\n",
    "        super().info()  # Call the info method of the Person class\n",
    "        print(f\"College: {self.college}\")\n",
    "        print(f\"Faculty: {self.faculty}\")\n",
    "        print(f\"Roll No: {self.roll_no}\")\n",
    "\n",
    "class BachelorStudent(Student):\n",
    "    def __init__(self, name, age, address, college, faculty, roll_no, university):\n",
    "        super().__init__(name, age, address, college, faculty, roll_no)\n",
    "        self.university = university\n",
    "\n",
    "    def info(self):\n",
    "        super().info()  # Call the info method of the Student class\n",
    "        print(f\"University: {self.university}\")\n",
    "\n",
    "# Example usage:\n",
    "bachelor_student = BachelorStudent(\"suman\", 20, \"bkt\", \"XYZ College\", \"java\", \"001\", \"ABC University\")\n",
    "bachelor_student.info()\n"
   ]
  },
  {
   "cell_type": "code",
   "execution_count": null,
   "id": "4aa05937-1b83-4e0f-9f78-691f1afc42fe",
   "metadata": {},
   "outputs": [],
   "source": [
    "\n"
   ]
  }
 ],
 "metadata": {
  "kernelspec": {
   "display_name": "Python 3 (ipykernel)",
   "language": "python",
   "name": "python3"
  },
  "language_info": {
   "codemirror_mode": {
    "name": "ipython",
    "version": 3
   },
   "file_extension": ".py",
   "mimetype": "text/x-python",
   "name": "python",
   "nbconvert_exporter": "python",
   "pygments_lexer": "ipython3",
   "version": "3.12.4"
  }
 },
 "nbformat": 4,
 "nbformat_minor": 5
}
