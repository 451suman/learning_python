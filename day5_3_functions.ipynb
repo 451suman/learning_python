{
 "cells": [
  {
   "cell_type": "code",
   "execution_count": 13,
   "id": "d81ad114-3ad9-4082-a037-0060d2f9fc20",
   "metadata": {},
   "outputs": [
    {
     "name": "stdin",
     "output_type": "stream",
     "text": [
      "enter the value of x 88\n",
      "enter the value of y 4\n"
     ]
    },
    {
     "name": "stdout",
     "output_type": "stream",
     "text": [
      "sum of 88 and 4 is 92\n"
     ]
    }
   ],
   "source": [
    "def addition(x,y):\n",
    "    sum=x+y\n",
    "    print(\"sum of\",x,\"and\",y, \"is\",sum)\n",
    "\n",
    "x=int(input(\"enter the value of x\"))\n",
    "y=int(input(\"enter the value of y\"))\n",
    "addition(x,y)"
   ]
  },
  {
   "cell_type": "code",
   "execution_count": 14,
   "id": "4e8c1ac4-0b10-43a4-952c-ee9c61e59c86",
   "metadata": {},
   "outputs": [
    {
     "name": "stdout",
     "output_type": "stream",
     "text": [
      "The youngest child is Linus\n"
     ]
    }
   ],
   "source": [
    "def my_function(*kids):\n",
    "  print(\"The youngest child is \" + kids[2])\n",
    "\n",
    "my_function(\"Emil\", \"Tobias\", \"Linus\")"
   ]
  },
  {
   "cell_type": "code",
   "execution_count": 16,
   "id": "136635d4-8252-4b3f-bf5e-ce19e4a9dec0",
   "metadata": {},
   "outputs": [
    {
     "name": "stdout",
     "output_type": "stream",
     "text": [
      "one= 1\n"
     ]
    }
   ],
   "source": [
    "x=1\n",
    "print(\"one=\",1)"
   ]
  },
  {
   "cell_type": "code",
   "execution_count": null,
   "id": "44c3f93c-f1ea-4ac4-992e-82deef0d7e0d",
   "metadata": {},
   "outputs": [],
   "source": []
  }
 ],
 "metadata": {
  "kernelspec": {
   "display_name": "Python 3 (ipykernel)",
   "language": "python",
   "name": "python3"
  },
  "language_info": {
   "codemirror_mode": {
    "name": "ipython",
    "version": 3
   },
   "file_extension": ".py",
   "mimetype": "text/x-python",
   "name": "python",
   "nbconvert_exporter": "python",
   "pygments_lexer": "ipython3",
   "version": "3.12.4"
  }
 },
 "nbformat": 4,
 "nbformat_minor": 5
}
