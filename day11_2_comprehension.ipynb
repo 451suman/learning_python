{
 "cells": [
  {
   "cell_type": "code",
   "execution_count": 1,
   "id": "f491ed9c-c2d5-421b-9907-ed086e80f12b",
   "metadata": {},
   "outputs": [],
   "source": [
    "#comprehension\n"
   ]
  },
  {
   "cell_type": "code",
   "execution_count": 5,
   "id": "e770de77-7444-491f-8073-3060c21a95eb",
   "metadata": {},
   "outputs": [
    {
     "name": "stdout",
     "output_type": "stream",
     "text": [
      "[1, 4, 9, 16, 25, 36]\n"
     ]
    }
   ],
   "source": [
    "# printing squares\n",
    "ls=[1,2,3,4,5,6]\n",
    "a=[]\n",
    "for i in ls:\n",
    "    a.append(i**2)\n",
    "\n",
    "print(a)\n",
    "\n",
    "\n",
    "# this is not pythonic code \n",
    "# in this topic we will solve this problen in next way (compresion way)"
   ]
  },
  {
   "cell_type": "code",
   "execution_count": null,
   "id": "f08ba20b-dca8-478d-b64b-8ae5294e230d",
   "metadata": {},
   "outputs": [],
   "source": [
    "\n"
   ]
  },
  {
   "cell_type": "code",
   "execution_count": 7,
   "id": "8ee16000-1418-497d-9542-584ddaa18f18",
   "metadata": {},
   "outputs": [
    {
     "name": "stdout",
     "output_type": "stream",
     "text": [
      "[1, 4, 9, 16, 25]\n"
     ]
    }
   ],
   "source": [
    "#list compresion\n",
    "ls=[1,2,3,4,5]\n",
    "\n",
    "# pythonic dodes\n",
    "squares= [i**2 for i in ls]\n",
    "print(squares)"
   ]
  },
  {
   "cell_type": "code",
   "execution_count": null,
   "id": "686441ec-e7e5-46c4-811c-3bb1e9843766",
   "metadata": {},
   "outputs": [],
   "source": []
  },
  {
   "cell_type": "code",
   "execution_count": 9,
   "id": "50972c1b-1172-48e3-bbc8-02b7493c05b2",
   "metadata": {},
   "outputs": [
    {
     "name": "stdout",
     "output_type": "stream",
     "text": [
      "unauthorize\n"
     ]
    }
   ],
   "source": [
    "age = 17\n",
    "if age >18:\n",
    "    print(\"authorized\")\n",
    "\n",
    "else:\n",
    "    print(\"unauthorize\")"
   ]
  },
  {
   "cell_type": "code",
   "execution_count": 15,
   "id": "bbba1fe5-c00b-4de1-9318-1bfad1e61176",
   "metadata": {},
   "outputs": [
    {
     "name": "stdout",
     "output_type": "stream",
     "text": [
      "authorize\n"
     ]
    }
   ],
   "source": [
    "#ternary operations\n",
    "age = 19\n",
    "is_authorize = \"Unauthorized\" if age< 18 else \"authorize\"\n",
    "print(is_authorize)"
   ]
  },
  {
   "cell_type": "code",
   "execution_count": null,
   "id": "a470a111-455a-40b7-9dc7-275ea45a3a5b",
   "metadata": {},
   "outputs": [],
   "source": []
  },
  {
   "cell_type": "code",
   "execution_count": 25,
   "id": "512fc663-afbf-4484-ab5f-194942376b64",
   "metadata": {},
   "outputs": [
    {
     "name": "stdout",
     "output_type": "stream",
     "text": [
      "['odd', 'odd', 'even', 'odd', 'even', 'even', 'even']\n"
     ]
    }
   ],
   "source": [
    "numbers=[1,23,4,3,4,2,2]\n",
    "is_even=[\"even\" if i%2==0 else \"odd\" for i in numbers]\n",
    "print(is_even)"
   ]
  },
  {
   "cell_type": "code",
   "execution_count": 34,
   "id": "ea747c71-91ac-43a5-bf92-eab45bfd2e1a",
   "metadata": {},
   "outputs": [
    {
     "name": "stdout",
     "output_type": "stream",
     "text": [
      "['', '', 3, '', '', 1, 4, 3, 5, '', 6, 8, 10]\n"
     ]
    }
   ],
   "source": [
    "numbers = [-8,-7,3,-1,0,1,4,3,5,-7,6,8,10]\n",
    "positive = [ i if i > 0 else \"\"for i in numbers]\n",
    "print(positive)"
   ]
  },
  {
   "cell_type": "code",
   "execution_count": 33,
   "id": "9e05dff9-b0c7-4ceb-b3ea-9e368946427f",
   "metadata": {},
   "outputs": [
    {
     "name": "stdout",
     "output_type": "stream",
     "text": [
      "[3, 1, 4, 3, 5, 6, 8, 10]\n"
     ]
    }
   ],
   "source": [
    "# when there is only in caulse\n",
    "numbers = [-8, -7, 3, -1, 0, 1, 4, 3, 5, -7, 6, 8, 10]\n",
    "positive = [i for i in numbers if i > 0]  # List comprehension to filter positive numbers\n",
    "print(positive)\n"
   ]
  },
  {
   "cell_type": "code",
   "execution_count": null,
   "id": "dfe89a51-de02-40cf-a9e9-67e1095f3f43",
   "metadata": {},
   "outputs": [],
   "source": []
  },
  {
   "cell_type": "code",
   "execution_count": 37,
   "id": "cec3ae54-1f93-49d2-aa0d-172d5ff68cbc",
   "metadata": {},
   "outputs": [
    {
     "name": "stdout",
     "output_type": "stream",
     "text": [
      "{'milk': 280.84999999999997, 'bread': 356.2, 'butter': 356.2}\n"
     ]
    }
   ],
   "source": [
    "us_price={'milk':2.05,'bread':2.6,'butter':2.6} #convert into nepali price\n",
    "nep_price={}\n",
    "for product, price, in us_price.items():\n",
    "    nep_price.update({product:price * 137})\n",
    "\n",
    "print(nep_price)"
   ]
  },
  {
   "cell_type": "code",
   "execution_count": 39,
   "id": "10e6cb7c-b4ef-48c6-bb8e-aff277a59031",
   "metadata": {},
   "outputs": [
    {
     "name": "stdout",
     "output_type": "stream",
     "text": [
      "{'milk': 280.84999999999997, 'bread': 356.2, 'butter': 356.2}\n"
     ]
    }
   ],
   "source": [
    "us_price={'milk':2.05,'bread':2.6,'butter':2.6}\n",
    "nep_price = {product:price * 137 for product, price, in us_price.items()}\n",
    "print(nep_price)"
   ]
  },
  {
   "cell_type": "code",
   "execution_count": 6,
   "id": "f238f309-9d22-4566-acb6-4ac860ea087b",
   "metadata": {},
   "outputs": [
    {
     "name": "stdout",
     "output_type": "stream",
     "text": [
      "{'milk': 303.6236549999999, 'bread': 385.08365999999995, 'butter': 385.08365999999995}\n"
     ]
    }
   ],
   "source": [
    "us_price={'milk':2.05,'bread':2.6,'butter':2.6} #convert into nepali price +  13 % tax\n",
    "nep_price={}\n",
    "for product, price, in us_price.items():\n",
    "    if price <5:\n",
    "        nep_price.update({product:price * 131.07*1.13})\n",
    "    else:\n",
    "        nep_price.update({product:price * 131.07*1.20})\n",
    "\n",
    "print(nep_price)\n"
   ]
  },
  {
   "cell_type": "code",
   "execution_count": 7,
   "id": "2385b186-63b7-4bdd-93de-ab5e4ed9b981",
   "metadata": {},
   "outputs": [
    {
     "name": "stdout",
     "output_type": "stream",
     "text": [
      "{'milk': 303.6236549999999, 'bread': 385.08365999999995, 'butter': 385.08365999999995}\n"
     ]
    }
   ],
   "source": [
    "us_price={'milk':2.05,'bread':2.6,'butter':2.6}\n",
    "#pythonic Way\n",
    "nep_price={\n",
    "    product: (price * 131.07*1.13 if price < 5 else price * 131.07*1.20) for product,price in us_price.items()\n",
    "}\n",
    "print(nep_price)"
   ]
  },
  {
   "cell_type": "code",
   "execution_count": null,
   "id": "a33e7e06-ce8e-430b-aa8d-79086787cda5",
   "metadata": {},
   "outputs": [],
   "source": []
  }
 ],
 "metadata": {
  "kernelspec": {
   "display_name": "Python 3 (ipykernel)",
   "language": "python",
   "name": "python3"
  },
  "language_info": {
   "codemirror_mode": {
    "name": "ipython",
    "version": 3
   },
   "file_extension": ".py",
   "mimetype": "text/x-python",
   "name": "python",
   "nbconvert_exporter": "python",
   "pygments_lexer": "ipython3",
   "version": "3.12.4"
  }
 },
 "nbformat": 4,
 "nbformat_minor": 5
}
