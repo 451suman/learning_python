{
 "cells": [
  {
   "cell_type": "code",
   "execution_count": 13,
   "id": "d81ad114-3ad9-4082-a037-0060d2f9fc20",
   "metadata": {},
   "outputs": [
    {
     "name": "stdin",
     "output_type": "stream",
     "text": [
      "enter the value of x 88\n",
      "enter the value of y 4\n"
     ]
    },
    {
     "name": "stdout",
     "output_type": "stream",
     "text": [
      "sum of 88 and 4 is 92\n"
     ]
    }
   ],
   "source": [
    "def addition(x,y):\n",
    "    sum=x+y\n",
    "    print(\"sum of\",x,\"and\",y, \"is\",sum)\n",
    "\n",
    "x=int(input(\"enter the value of x\"))\n",
    "y=int(input(\"enter the value of y\"))\n",
    "addition(x,y)"
   ]
  },
  {
   "cell_type": "code",
   "execution_count": 14,
   "id": "4e8c1ac4-0b10-43a4-952c-ee9c61e59c86",
   "metadata": {},
   "outputs": [
    {
     "name": "stdout",
     "output_type": "stream",
     "text": [
      "The youngest child is Linus\n"
     ]
    }
   ],
   "source": [
    "def my_function(*kids):\n",
    "  print(\"The youngest child is \" + kids[2])\n",
    "\n",
    "my_function(\"Emil\", \"Tobias\", \"Linus\")"
   ]
  },
  {
   "cell_type": "code",
   "execution_count": 16,
   "id": "136635d4-8252-4b3f-bf5e-ce19e4a9dec0",
   "metadata": {},
   "outputs": [
    {
     "name": "stdout",
     "output_type": "stream",
     "text": [
      "one= 1\n"
     ]
    }
   ],
   "source": [
    "x=1\n",
    "print(\"one=\",1)"
   ]
  },
  {
   "cell_type": "code",
   "execution_count": 5,
   "id": "44c3f93c-f1ea-4ac4-992e-82deef0d7e0d",
   "metadata": {},
   "outputs": [
    {
     "name": "stdout",
     "output_type": "stream",
     "text": [
      "5\n"
     ]
    }
   ],
   "source": [
    "def add(x,y):\n",
    "    global c\n",
    "    c=x+y\n",
    "    return c\n",
    "\n",
    "add(2,3)\n",
    "print(c)"
   ]
  },
  {
   "cell_type": "code",
   "execution_count": 6,
   "id": "d989664a-3365-450b-87e3-8ee22c6566ad",
   "metadata": {},
   "outputs": [
    {
     "name": "stdout",
     "output_type": "stream",
     "text": [
      "5\n"
     ]
    }
   ],
   "source": [
    "def add(x,y=0):\n",
    "    c=x+y\n",
    "    print(c)\n",
    "\n",
    "add(2,3)\n"
   ]
  },
  {
   "cell_type": "code",
   "execution_count": 8,
   "id": "32cc9ca5-14d9-46b5-aa02-47c9efc71ae3",
   "metadata": {},
   "outputs": [
    {
     "name": "stdout",
     "output_type": "stream",
     "text": [
      "2\n"
     ]
    }
   ],
   "source": [
    "def add(x,y=0): #if y ko value is not passef through method call then by default y = 0\n",
    "    c=x+y\n",
    "    print(c)\n",
    "\n",
    "add(2)\n"
   ]
  },
  {
   "cell_type": "code",
   "execution_count": 9,
   "id": "fd31320b-0fb1-490b-af73-cb2537ae9e2f",
   "metadata": {},
   "outputs": [
    {
     "name": "stdout",
     "output_type": "stream",
     "text": [
      "0\n"
     ]
    }
   ],
   "source": [
    "def add(x=0,y=0): #if  x and y ko value is not passef through method call then by default x=0, y = 0\n",
    "    c=x+y\n",
    "    print(c)\n",
    "\n",
    "add()"
   ]
  },
  {
   "cell_type": "code",
   "execution_count": 12,
   "id": "c06f11f7-487a-4eca-8057-f7cfb1b1003f",
   "metadata": {},
   "outputs": [
    {
     "name": "stdout",
     "output_type": "stream",
     "text": [
      "1\n"
     ]
    }
   ],
   "source": [
    "add(1)"
   ]
  },
  {
   "cell_type": "code",
   "execution_count": 17,
   "id": "c4bc829b-ee0b-4c45-87a1-d7aaaba4709a",
   "metadata": {},
   "outputs": [
    {
     "name": "stdout",
     "output_type": "stream",
     "text": [
      "5\n"
     ]
    }
   ],
   "source": [
    "def add(x,y):\n",
    "    \"\"\" add function is used to add two numbers \"\"\"\n",
    "    c=x+y\n",
    "    return c\n",
    "\n",
    "addition=add(2,3)\n",
    "print(addition)"
   ]
  },
  {
   "cell_type": "code",
   "execution_count": 19,
   "id": "de06a5be-9d38-4d6b-89a4-4c74b9166bac",
   "metadata": {},
   "outputs": [
    {
     "name": "stdout",
     "output_type": "stream",
     "text": [
      "Help on function add in module __main__:\n",
      "\n",
      "add(x, y)\n",
      "    add function is used to add two numbers\n",
      "\n"
     ]
    }
   ],
   "source": [
    "help(add) #dcumentaion string "
   ]
  },
  {
   "cell_type": "code",
   "execution_count": null,
   "id": "8b6a1f13-13b0-486b-9158-9e63795ccee8",
   "metadata": {},
   "outputs": [],
   "source": []
  },
  {
   "cell_type": "code",
   "execution_count": 20,
   "id": "e7ee0094-4b4b-4dd4-bb9d-e41ab9699d63",
   "metadata": {},
   "outputs": [],
   "source": [
    "from math import sqrt"
   ]
  },
  {
   "cell_type": "code",
   "execution_count": 15,
   "id": "eccdfe10-bb86-437d-9f28-ba479074af16",
   "metadata": {},
   "outputs": [
    {
     "name": "stdout",
     "output_type": "stream",
     "text": [
      "Help on built-in function sqrt in module math:\n",
      "\n",
      "sqrt(x, /)\n",
      "    Return the square root of x.\n",
      "\n"
     ]
    }
   ],
   "source": [
    "help(sqrt)"
   ]
  },
  {
   "cell_type": "code",
   "execution_count": 28,
   "id": "2149d1cd-e78c-4419-b9fb-8d6a89422f62",
   "metadata": {},
   "outputs": [
    {
     "name": "stdout",
     "output_type": "stream",
     "text": [
      "addition= 11\n",
      "subration= -1\n",
      "multiply= 30\n",
      "divide= 0.8333333333333334\n"
     ]
    }
   ],
   "source": [
    "def cal(x=0,y=0):\n",
    "    add=x+y\n",
    "    sub=x-y\n",
    "    mul=x*y\n",
    "    print(\"addition= \"+str(add))\n",
    "    print(\"subration= \"+str(sub))\n",
    "    print(\"multiply= \"+str(mul))\n",
    "    if y!=0:\n",
    "        div=x/y\n",
    "        print(\"divide= \"+str(div))\n",
    " \n",
    "\n",
    "\n",
    "cal(5,6)"
   ]
  },
  {
   "cell_type": "code",
   "execution_count": 29,
   "id": "a02eb886-24aa-4d91-8d09-518e011941c3",
   "metadata": {},
   "outputs": [
    {
     "name": "stdout",
     "output_type": "stream",
     "text": [
      "addition= 4\n",
      "subration= 4\n",
      "multiply= 0\n"
     ]
    }
   ],
   "source": [
    "cal(4,0)"
   ]
  },
  {
   "cell_type": "code",
   "execution_count": 31,
   "id": "c3485769-8fd5-4905-9918-2c68e0df49d5",
   "metadata": {},
   "outputs": [
    {
     "data": {
      "text/plain": [
       "(11, -1, 30, 0.8333333333333334)"
      ]
     },
     "execution_count": 31,
     "metadata": {},
     "output_type": "execute_result"
    }
   ],
   "source": [
    "def cal(x=0,y=0):\n",
    "    add=x+y\n",
    "    sub=x-y\n",
    "    mul=x*y\n",
    "    div=x/y\n",
    "    return add, sub,mul,div  #returning the value in tuple\n",
    "\n",
    "cal(5,6)"
   ]
  },
  {
   "cell_type": "code",
   "execution_count": 32,
   "id": "87f3e5bc-449f-40c8-8306-bf4b6aa2367b",
   "metadata": {},
   "outputs": [
    {
     "name": "stdout",
     "output_type": "stream",
     "text": [
      "9 -1 20 0.8\n"
     ]
    }
   ],
   "source": [
    "addition,subratction, multiplication,division= cal(4,5) #tuple unpacking\n",
    "print(addition,subratction, multiplication,division)"
   ]
  },
  {
   "cell_type": "code",
   "execution_count": 33,
   "id": "bc956b3e-7376-42fb-b796-334d01a968dc",
   "metadata": {},
   "outputs": [
    {
     "name": "stdout",
     "output_type": "stream",
     "text": [
      "13\n"
     ]
    }
   ],
   "source": [
    "def cal(a,s,d,f):\n",
    "    sum=a+s+d+f\n",
    "    print(sum)\n",
    "\n",
    "cal(1,3,4,5)"
   ]
  },
  {
   "cell_type": "code",
   "execution_count": 34,
   "id": "14553699-50b6-4de0-a37e-5475d341d264",
   "metadata": {},
   "outputs": [
    {
     "name": "stdout",
     "output_type": "stream",
     "text": [
      "13\n"
     ]
    }
   ],
   "source": [
    "def cal(a,s,d,f):\n",
    "    sum=a+s+d+f\n",
    "    return sum\n",
    "\n",
    "s=cal(1,3,4,5)\n",
    "print(s)"
   ]
  },
  {
   "cell_type": "code",
   "execution_count": 40,
   "id": "73d96f8b-71ab-489b-bc47-9073fb09a0af",
   "metadata": {},
   "outputs": [
    {
     "name": "stdout",
     "output_type": "stream",
     "text": [
      "30\n"
     ]
    }
   ],
   "source": [
    "def cal(*args): # collect all data 1 by onejust like in array\n",
    "    sum=0\n",
    "    for i in args:\n",
    "        sum+=i\n",
    "    print(sum)\n",
    "\n",
    "cal(5,5,5,5,5,5)\n",
    "# When you call cal(5, 5, 5, 5, 5, 5), it will output 30, which is the sum of the provided numbers. \n",
    "# This function uses the *args parameter to accept a variable number of arguments, collects them into a tuple, and iterates through them to compute \n",
    "# their sum.\n",
    "\n"
   ]
  },
  {
   "cell_type": "code",
   "execution_count": 41,
   "id": "89bf5c2a-de28-4d29-86a6-0b3d2b750326",
   "metadata": {},
   "outputs": [
    {
     "ename": "TypeError",
     "evalue": "cal() got an unexpected keyword argument 'x'",
     "output_type": "error",
     "traceback": [
      "\u001b[1;31m---------------------------------------------------------------------------\u001b[0m",
      "\u001b[1;31mTypeError\u001b[0m                                 Traceback (most recent call last)",
      "Cell \u001b[1;32mIn[41], line 2\u001b[0m\n\u001b[0;32m      1\u001b[0m \u001b[38;5;66;03m# but it doesnot support keyword argument\u001b[39;00m\n\u001b[1;32m----> 2\u001b[0m \u001b[43mcal\u001b[49m\u001b[43m(\u001b[49m\u001b[43mx\u001b[49m\u001b[38;5;241;43m=\u001b[39;49m\u001b[38;5;241;43m1\u001b[39;49m\u001b[43m,\u001b[49m\u001b[43my\u001b[49m\u001b[38;5;241;43m=\u001b[39;49m\u001b[38;5;241;43m3\u001b[39;49m\u001b[43m)\u001b[49m\n",
      "\u001b[1;31mTypeError\u001b[0m: cal() got an unexpected keyword argument 'x'"
     ]
    }
   ],
   "source": [
    "# but it doesnot support keyword argument\n",
    "cal(x=1,y=3)"
   ]
  },
  {
   "cell_type": "code",
   "execution_count": 47,
   "id": "b0dc25b0-39ac-4a96-920e-7bb7c93aa4e1",
   "metadata": {},
   "outputs": [
    {
     "name": "stdout",
     "output_type": "stream",
     "text": [
      "{'x': 1, 'y': 3} <class 'dict'>\n",
      "4\n"
     ]
    }
   ],
   "source": [
    "# to  support keyword argument we need to padd two (**) in parameter\n",
    "def addition(**suman):\n",
    "    print(suman,type(suman)) # it is in dictionary so to sum ne need values only\n",
    "    sum = 0\n",
    "    for value in suman.values():\n",
    "        sum += value\n",
    "    print(sum)\n",
    "\n",
    "addition(x=1, y=3)\n"
   ]
  },
  {
   "cell_type": "code",
   "execution_count": 60,
   "id": "6b4a55d8-27c2-4877-ab9e-61e2b2d3a056",
   "metadata": {},
   "outputs": [
    {
     "name": "stdout",
     "output_type": "stream",
     "text": [
      "10\n"
     ]
    }
   ],
   "source": [
    "def addition(*suman, **sumanM):  # to support both value only and key-value data\n",
    "    sum = 0\n",
    "    for i in suman:\n",
    "        sum += i\n",
    "    for i in sumanM.values():\n",
    "        sum += i\n",
    "    return sum\n",
    "\n",
    "s = addition(1, 2, 1, x=1, y=3, z=2)\n",
    "print(s)\n"
   ]
  },
  {
   "cell_type": "code",
   "execution_count": 56,
   "id": "df808435-52d1-47eb-9650-cc42a60b3bfb",
   "metadata": {},
   "outputs": [
    {
     "name": "stdout",
     "output_type": "stream",
     "text": [
      "hello\n"
     ]
    }
   ],
   "source": [
    " def hello():\n",
    "     xyz=\"hello\"\n",
    "     print(xyz)\n",
    "hello()"
   ]
  },
  {
   "cell_type": "code",
   "execution_count": null,
   "id": "73264d77-5e5f-4578-82c3-e84994b68a5d",
   "metadata": {},
   "outputs": [],
   "source": []
  },
  {
   "cell_type": "code",
   "execution_count": 57,
   "id": "83fa6bcf-b493-4ba6-8d66-f34e7f447c03",
   "metadata": {},
   "outputs": [
    {
     "ename": "NameError",
     "evalue": "name 'xyz' is not defined",
     "output_type": "error",
     "traceback": [
      "\u001b[1;31m---------------------------------------------------------------------------\u001b[0m",
      "\u001b[1;31mNameError\u001b[0m                                 Traceback (most recent call last)",
      "Cell \u001b[1;32mIn[57], line 1\u001b[0m\n\u001b[1;32m----> 1\u001b[0m \u001b[38;5;28mprint\u001b[39m (\u001b[43mxyz\u001b[49m) \u001b[38;5;66;03m#error because xyz is local variable inside function out side function it is destroyed \u001b[39;00m\n",
      "\u001b[1;31mNameError\u001b[0m: name 'xyz' is not defined"
     ]
    }
   ],
   "source": [
    "print (xyz) #error because xyz is local variable inside function out side function it is destroyed "
   ]
  },
  {
   "cell_type": "code",
   "execution_count": 61,
   "id": "8866727d-8a91-4a3f-afc2-c28f101679bf",
   "metadata": {},
   "outputs": [],
   "source": [
    "#buidl in scope => anywhere in python file => print, min ,max, sorted\n",
    "#global scope => created variable within python file  module\n",
    "#local scope => inside function"
   ]
  },
  {
   "cell_type": "code",
   "execution_count": 67,
   "id": "378536f7-bedf-4c0d-a73f-e3e13191855b",
   "metadata": {},
   "outputs": [
    {
     "name": "stdout",
     "output_type": "stream",
     "text": [
      "5\n",
      "from inside method 2\n",
      "5\n"
     ]
    }
   ],
   "source": [
    "x = 5\n",
    "def hello():\n",
    "    x=2 #local varable of function\n",
    "    print(\"from inside method\",x)\n",
    "\n",
    "print(x)\n",
    "hello()\n",
    "print(x)"
   ]
  },
  {
   "cell_type": "code",
   "execution_count": 72,
   "id": "0e0e504b-1371-4b11-8804-d359699f3ca5",
   "metadata": {},
   "outputs": [
    {
     "name": "stdout",
     "output_type": "stream",
     "text": [
      "5\n",
      "from inside method 7\n",
      "5\n"
     ]
    }
   ],
   "source": [
    "x = 5\n",
    "def hello():\n",
    "    y = x + 2 #local value\n",
    "    print(\"from inside method\",y)\n",
    "\n",
    "print(x)\n",
    "hello()\n",
    "print(x)"
   ]
  },
  {
   "cell_type": "code",
   "execution_count": 76,
   "id": "e8b74959-c081-496d-900d-a0e5ad95c490",
   "metadata": {},
   "outputs": [
    {
     "name": "stdout",
     "output_type": "stream",
     "text": [
      "5\n",
      "6\n",
      "6\n"
     ]
    }
   ],
   "source": [
    "\n",
    "x=5 #global value\n",
    "def hello():\n",
    "    global x  #x ko value is change into global\n",
    "    x=x+1\n",
    "    print(x) #global => 7\n",
    "    \n",
    "print(x) #global => 5\n",
    "hello() \n",
    "print(x) #global => 7"
   ]
  },
  {
   "cell_type": "code",
   "execution_count": 82,
   "id": "2ca296f0-eb02-420f-95d3-a2c8bb2324b3",
   "metadata": {},
   "outputs": [
    {
     "name": "stdout",
     "output_type": "stream",
     "text": [
      "120\n"
     ]
    }
   ],
   "source": [
    "def fact(x):\n",
    "    factorial = 1\n",
    "    for i in range(1, x + 1):  #for(i=1; i>=n; i++)\n",
    "        factorial *= i\n",
    "    print(factorial)\n",
    "\n",
    "fact(5)\n"
   ]
  },
  {
   "cell_type": "code",
   "execution_count": 83,
   "id": "226b8bad-c3b6-4516-a38a-18fce319532a",
   "metadata": {},
   "outputs": [
    {
     "name": "stdout",
     "output_type": "stream",
     "text": [
      "120\n"
     ]
    }
   ],
   "source": [
    "def fact(x):\n",
    "    factorial = 1\n",
    "    for i in range(x,0,-1):   # (i= 5 ; i<0 ; i--)\n",
    "        factorial *= i\n",
    "    print(factorial)\n",
    "\n",
    "fact(5)\n"
   ]
  },
  {
   "cell_type": "code",
   "execution_count": null,
   "id": "7b65131a-6ec5-40e8-b234-780bb76bd851",
   "metadata": {},
   "outputs": [],
   "source": [
    "#recursion =>calling itse\n",
    "# 1. call itself\n",
    "# 2. base condition condition =>termination  condition /  returninig\n"
   ]
  },
  {
   "cell_type": "code",
   "execution_count": null,
   "id": "5022591a-3069-4071-80b6-c1843c48080e",
   "metadata": {},
   "outputs": [],
   "source": []
  },
  {
   "cell_type": "code",
   "execution_count": null,
   "id": "8dcd1202-b308-4749-98e2-eaae3033fb2d",
   "metadata": {},
   "outputs": [],
   "source": []
  }
 ],
 "metadata": {
  "kernelspec": {
   "display_name": "Python 3 (ipykernel)",
   "language": "python",
   "name": "python3"
  },
  "language_info": {
   "codemirror_mode": {
    "name": "ipython",
    "version": 3
   },
   "file_extension": ".py",
   "mimetype": "text/x-python",
   "name": "python",
   "nbconvert_exporter": "python",
   "pygments_lexer": "ipython3",
   "version": "3.12.4"
  }
 },
 "nbformat": 4,
 "nbformat_minor": 5
}
