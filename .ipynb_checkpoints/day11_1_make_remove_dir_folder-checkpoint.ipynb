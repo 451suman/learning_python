{
 "cells": [
  {
   "cell_type": "code",
   "execution_count": 1,
   "id": "0f8c1743-9300-45fa-b07c-90abe9b415cc",
   "metadata": {},
   "outputs": [],
   "source": [
    "#make directory / dolders"
   ]
  },
  {
   "cell_type": "code",
   "execution_count": 7,
   "id": "c3c75b0c-c881-420d-bd6f-d6377d979141",
   "metadata": {},
   "outputs": [],
   "source": [
    "import os\n",
    "os.mkdir(\"hello\") #make folder"
   ]
  },
  {
   "cell_type": "code",
   "execution_count": 8,
   "id": "57fd8a75-1212-4d4c-89b1-513a23eaa5fb",
   "metadata": {},
   "outputs": [],
   "source": [
    "os.rename(\"hello\",\"hi\") \n",
    "#change folder name"
   ]
  },
  {
   "cell_type": "code",
   "execution_count": 9,
   "id": "321f8fa6-54e2-46d4-9536-a314404b009e",
   "metadata": {},
   "outputs": [],
   "source": [
    "os.rmdir(\"hi\")"
   ]
  },
  {
   "cell_type": "code",
   "execution_count": 12,
   "id": "970766a3-f595-40b3-adbe-49404b39652c",
   "metadata": {},
   "outputs": [],
   "source": [
    "os.remove(\"persons2.csv\") #remove file"
   ]
  },
  {
   "cell_type": "code",
   "execution_count": 15,
   "id": "386dbaf5-6554-4ca4-86f6-d3f23af3e38e",
   "metadata": {},
   "outputs": [
    {
     "name": "stdout",
     "output_type": "stream",
     "text": [
      "[WinError 2] The system cannot find the file specified: 'persons2.csv'\n"
     ]
    }
   ],
   "source": [
    "try:\n",
    "    os.remove(\"persons2.csv\")\n",
    "except Exception as e:\n",
    "    print(e)"
   ]
  },
  {
   "cell_type": "code",
   "execution_count": 16,
   "id": "1c7b3ba4-5624-4371-b098-6e1466c7bf39",
   "metadata": {},
   "outputs": [
    {
     "name": "stdout",
     "output_type": "stream",
     "text": [
      "file doesnot exists\n"
     ]
    }
   ],
   "source": [
    "if os.path.exists(\"students.csv\"):\n",
    "    os.remove(\"students.csv\")\n",
    "\n",
    "else:\n",
    "    print(\"file doesnot exists\")"
   ]
  },
  {
   "cell_type": "code",
   "execution_count": null,
   "id": "81de6430-85a5-42ca-9afb-95a79f885629",
   "metadata": {},
   "outputs": [],
   "source": []
  },
  {
   "cell_type": "code",
   "execution_count": 17,
   "id": "4b3c98a4-e10a-427b-a9e4-6b93d159e848",
   "metadata": {},
   "outputs": [
    {
     "data": {
      "text/plain": [
       "'D:\\\\python'"
      ]
     },
     "execution_count": 17,
     "metadata": {},
     "output_type": "execute_result"
    }
   ],
   "source": [
    "os.getcwd() #get  current working directory"
   ]
  },
  {
   "cell_type": "code",
   "execution_count": null,
   "id": "e6425c4f-9e06-4eec-8418-53afe5de5b86",
   "metadata": {},
   "outputs": [],
   "source": []
  }
 ],
 "metadata": {
  "kernelspec": {
   "display_name": "Python 3 (ipykernel)",
   "language": "python",
   "name": "python3"
  },
  "language_info": {
   "codemirror_mode": {
    "name": "ipython",
    "version": 3
   },
   "file_extension": ".py",
   "mimetype": "text/x-python",
   "name": "python",
   "nbconvert_exporter": "python",
   "pygments_lexer": "ipython3",
   "version": "3.12.4"
  }
 },
 "nbformat": 4,
 "nbformat_minor": 5
}
