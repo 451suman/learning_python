{
 "cells": [
  {
   "cell_type": "code",
   "execution_count": 1,
   "id": "cb4cdc5f-5c1a-417b-8f53-6a6dc46c2fc9",
   "metadata": {},
   "outputs": [],
   "source": [
    "#hierarchical interface\n"
   ]
  },
  {
   "cell_type": "code",
   "execution_count": 2,
   "id": "9e9648a1-d29d-4535-9a9b-f8273da96f5a",
   "metadata": {},
   "outputs": [],
   "source": [
    "class Person:\n",
    "    pass\n",
    "\n",
    "\n",
    "class Student(Person):\n",
    "    pass\n",
    "\n",
    "\n",
    "class Teacher(Person):\n",
    "    pass\n",
    "\n",
    "\n",
    "class Employee(Person):\n",
    "    pass\n",
    "\n",
    "class principle(Person):\n",
    "    pass\n",
    "\n"
   ]
  },
  {
   "cell_type": "code",
   "execution_count": 11,
   "id": "402632dc-9268-4858-a1c6-f18f4ff175e6",
   "metadata": {},
   "outputs": [
    {
     "name": "stdout",
     "output_type": "stream",
     "text": [
      "this is vehicle\n",
      "car name is  BMY+W\n",
      "this is vehicle\n",
      "truck name is:  Nissan\n"
     ]
    }
   ],
   "source": [
    "class Vehicle:\n",
    "    def info (self):\n",
    "        print(\"this is vehicle\")\n",
    "\n",
    "class Car(Vehicle):\n",
    "    def car_info (self,name):\n",
    "        print(\"car name is \", name)\n",
    "\n",
    "class Truck(Vehicle):\n",
    "    def truck_info(self, name):\n",
    "        print(\"truck name is: \", name)\n",
    "\n",
    "obj1 = Car()\n",
    "obj1.info()\n",
    "obj1.car_info(\"BMY+W\")\n",
    "\n",
    "\n",
    "obj2 = Truck()\n",
    "obj2.info()\n",
    "obj2.truck_info(\"Nissan\")"
   ]
  },
  {
   "cell_type": "code",
   "execution_count": null,
   "id": "af3a0d9a-93b8-4a2f-8d48-bf7bb7c95f93",
   "metadata": {},
   "outputs": [],
   "source": []
  }
 ],
 "metadata": {
  "kernelspec": {
   "display_name": "Python 3 (ipykernel)",
   "language": "python",
   "name": "python3"
  },
  "language_info": {
   "codemirror_mode": {
    "name": "ipython",
    "version": 3
   },
   "file_extension": ".py",
   "mimetype": "text/x-python",
   "name": "python",
   "nbconvert_exporter": "python",
   "pygments_lexer": "ipython3",
   "version": "3.12.4"
  }
 },
 "nbformat": 4,
 "nbformat_minor": 5
}
