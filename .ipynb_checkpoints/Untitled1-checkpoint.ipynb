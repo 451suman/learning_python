{
 "cells": [
  {
   "cell_type": "code",
   "execution_count": 3,
   "id": "a29ef7f4-bbb6-412e-b3c4-6b2bb6b284b1",
   "metadata": {},
   "outputs": [],
   "source": [
    "# Single inheritance"
   ]
  },
  {
   "cell_type": "code",
   "execution_count": 4,
   "id": "1e74b601-af02-4229-ab58-d2bb7e4752cc",
   "metadata": {},
   "outputs": [
    {
     "name": "stdout",
     "output_type": "stream",
     "text": [
      "hello\n"
     ]
    }
   ],
   "source": [
    "class Parent:\n",
    "    def hello(self):\n",
    "        print(\"hello\")\n",
    "\n",
    "class Child(Parent):\n",
    "    pass\n",
    "\n",
    "obj=Child()\n",
    "obj.hello()"
   ]
  },
  {
   "cell_type": "code",
   "execution_count": 7,
   "id": "1041daaa-2225-432f-a724-7bcea27448c3",
   "metadata": {},
   "outputs": [],
   "source": [
    "class Person:\n",
    "    def __init__(self, name ,age, address):\n",
    "        self.name = name\n",
    "        self.age = age\n",
    "        self.address = address\n",
    "    \n",
    "    def eat(self): # self is object\n",
    "        print(f'{self.name} is eating')\n",
    "    \n",
    "    def sleep(self):\n",
    "        print(f'{self.name} is sleeping')\n",
    "    \n",
    "    def walk(self):\n",
    "        print(f'{self.name} is walking')\n",
    "        \n",
    "    def info(self):\n",
    "        print(f\"Name: {self.name}\")\n",
    "        print(f\"Age: {self.age}\")\n",
    "        print(f\"Address: {self.address}\")\n",
    "\n",
    "class Student(Person):\n",
    "    def __init__(self, name, age, address, college, faculty, roll_no):\n",
    "        self.name = name\n",
    "        self.age = age        \n",
    "        self.address = address        \n",
    "        self.college = college\n",
    "        self.faculty = faculty        \n",
    "        self.roll_no = roll_no\n",
    "               \n",
    "    def info(self):\n",
    "        print(f\"Name: {self.name}\")\n",
    "        print(f\"Age: {self.age}\")\n",
    "        print(f\"Address: {self.address}\")\n",
    "        print(f\"College: {self.college}\")\n",
    "        print(f\"Faculty: {self.faculty}\")\n",
    "        print(f\"Roll no: {self.roll_no}\")\n",
    "\n",
    "obj = Student(\"suman\",22,\"bkt\",\"khwopa\",\"bca\",15)\n",
    "\n",
    "        "
   ]
  },
  {
   "cell_type": "code",
   "execution_count": 18,
   "id": "f0e8965b-fa20-4afc-b2b4-29f4c9033daf",
   "metadata": {},
   "outputs": [
    {
     "name": "stdout",
     "output_type": "stream",
     "text": [
      "Name: suman\n",
      "Age: 22\n",
      "Address: bkt\n",
      "College: khwopa\n",
      "Faculty: bca\n",
      "Roll no: 15\n"
     ]
    }
   ],
   "source": [
    "class Person:\n",
    "    def __init__(self, name ,age, address):\n",
    "        self.name = name\n",
    "        self.age = age\n",
    "        self.address = address\n",
    "        \n",
    "    def info(self):\n",
    "        print(f\"Name: {self.name}\")\n",
    "        print(f\"Age: {self.age}\")\n",
    "        print(f\"Address: {self.address}\")\n",
    "\n",
    "class Student(Person):\n",
    "    def __init__(self, name, age, address, college, faculty, roll_no):\n",
    "        super().__init__(name,age,address)\n",
    "        self.college = college\n",
    "        self.faculty = faculty        \n",
    "        self.roll_no = roll_no\n",
    "            \n",
    "    def info(self):\n",
    "        super().info()\n",
    "        print(f\"College: {self.college}\")\n",
    "        print(f\"Faculty: {self.faculty}\")\n",
    "        print(f\"Roll no: {self.roll_no}\")\n",
    "        \n",
    "obj = Student(\"suman\",22,\"bkt\",\"khwopa\",\"bca\",15)\n",
    "\n",
    "obj.info()\n"
   ]
  },
  {
   "cell_type": "code",
   "execution_count": 19,
   "id": "a5f5c724-77f7-4ea0-9777-91a7d7c8c990",
   "metadata": {},
   "outputs": [],
   "source": [
    "#multiple Inheritance \n"
   ]
  },
  {
   "cell_type": "code",
   "execution_count": null,
   "id": "5ecce75b-9b30-401a-8631-e44e8816bb22",
   "metadata": {},
   "outputs": [],
   "source": []
  },
  {
   "cell_type": "raw",
   "id": "88d3bdc8-9a99-48ca-88c9-6c3a599adfe1",
   "metadata": {},
   "source": [
    "\n"
   ]
  },
  {
   "cell_type": "code",
   "execution_count": 24,
   "id": "105770e6-dc4e-42c5-9587-8c87f4c1b24b",
   "metadata": {},
   "outputs": [
    {
     "name": "stdout",
     "output_type": "stream",
     "text": [
      "inside person calss\n",
      "name= suman Age= 22\n",
      "inside company calss\n",
      "company name= xyz location= ktm\n",
      "inside employee class\n",
      "salary= 10000 skill= django\n"
     ]
    }
   ],
   "source": [
    "class Person:\n",
    "    def person_info(self,name,age):\n",
    "        print(\"inside person calss\")\n",
    "        print(\"name=\", name, \"Age=\", age)\n",
    "\n",
    "class Conpany:\n",
    "    def company_info(self,company_name,location):\n",
    "        print(\"inside company calss\")\n",
    "        print(\"company name=\" , company_name,\"location=\",location)\n",
    "\n",
    "class Employee(Person, Conpany):\n",
    "    def employee_info(self,salary,skill):\n",
    "        print(\"inside employee class\")\n",
    "        print(\"salary=\", salary, \"skill=\", skill)\n",
    "\n",
    "\n",
    "emp =Employee()\n",
    "emp.person_info('suman',22)\n",
    "emp.company_info('xyz','ktm')\n",
    "emp.employee_info(10000,\"django\")"
   ]
  },
  {
   "cell_type": "code",
   "execution_count": null,
   "id": "1faa5506-63ab-410c-9492-9b9f010fecc7",
   "metadata": {},
   "outputs": [],
   "source": []
  }
 ],
 "metadata": {
  "kernelspec": {
   "display_name": "Python 3 (ipykernel)",
   "language": "python",
   "name": "python3"
  },
  "language_info": {
   "codemirror_mode": {
    "name": "ipython",
    "version": 3
   },
   "file_extension": ".py",
   "mimetype": "text/x-python",
   "name": "python",
   "nbconvert_exporter": "python",
   "pygments_lexer": "ipython3",
   "version": "3.12.4"
  }
 },
 "nbformat": 4,
 "nbformat_minor": 5
}
