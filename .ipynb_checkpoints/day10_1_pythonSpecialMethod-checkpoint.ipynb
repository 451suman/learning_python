{
 "cells": [
  {
   "cell_type": "code",
   "execution_count": 7,
   "id": "c905b304-da91-4568-8300-422c4d06ab21",
   "metadata": {},
   "outputs": [],
   "source": [
    "class Point:\n",
    "    def __init__(self,x,y):\n",
    "        self.x=x\n",
    "        self.y=y\n",
    "\n"
   ]
  },
  {
   "cell_type": "code",
   "execution_count": 8,
   "id": "75dc439e-8cd5-47bc-bad1-5f438e760488",
   "metadata": {},
   "outputs": [],
   "source": [
    "p = Point(3,5)"
   ]
  },
  {
   "cell_type": "code",
   "execution_count": 9,
   "id": "8d288344-94d5-41c6-ae09-caff097991fd",
   "metadata": {},
   "outputs": [
    {
     "name": "stdout",
     "output_type": "stream",
     "text": [
      "<__main__.Point object at 0x000002B811DF0560>\n"
     ]
    }
   ],
   "source": [
    "print(p)"
   ]
  },
  {
   "cell_type": "code",
   "execution_count": 12,
   "id": "5ea791e9-6502-4c4b-9031-12d0492700ca",
   "metadata": {},
   "outputs": [],
   "source": [
    "class Point:\n",
    "    def __init__(self,x,y):\n",
    "        self.x=x\n",
    "        self.y=y\n",
    "\n",
    "    def __str__(self):\n",
    "        return (f\"Point {self.x}, {self.y}\")"
   ]
  },
  {
   "cell_type": "code",
   "execution_count": 13,
   "id": "3cf8c5cf-c219-46df-8c5e-59bcb6b4bb4f",
   "metadata": {},
   "outputs": [],
   "source": [
    "p = Point(3,5)"
   ]
  },
  {
   "cell_type": "code",
   "execution_count": 14,
   "id": "7cd2a2e7-52f4-468c-8ebb-b62b9ade4e8b",
   "metadata": {},
   "outputs": [
    {
     "data": {
      "text/plain": [
       "<__main__.Point at 0x2b811ddebd0>"
      ]
     },
     "execution_count": 14,
     "metadata": {},
     "output_type": "execute_result"
    }
   ],
   "source": [
    "p"
   ]
  },
  {
   "cell_type": "code",
   "execution_count": 15,
   "id": "cee9ba09-639c-44f4-89c9-b03ebd755d94",
   "metadata": {},
   "outputs": [
    {
     "name": "stdout",
     "output_type": "stream",
     "text": [
      "Point 3, 5\n"
     ]
    }
   ],
   "source": [
    "print(p) # Value is print inside print"
   ]
  },
  {
   "cell_type": "code",
   "execution_count": null,
   "id": "a5ee699f-10c6-459c-81e3-bb4cc6a87119",
   "metadata": {},
   "outputs": [],
   "source": []
  },
  {
   "cell_type": "code",
   "execution_count": 31,
   "id": "4f65c8c2-95b9-4607-8201-b0026bef715e",
   "metadata": {},
   "outputs": [],
   "source": [
    "class Point:\n",
    "    def __init__(self, x, y):\n",
    "        self.x = x\n",
    "        self.y = y\n",
    "\n",
    "    def __repr__(self):\n",
    "        print('repr')\n",
    "        return f\"Point({self.x}, {self.y})\"  # More formal representation\n",
    "\n",
    "    def __str__(self):\n",
    "        print('str')\n",
    "        return f\"Point: {self.x}, {self.y}\"  # User-friendly representation\n"
   ]
  },
  {
   "cell_type": "code",
   "execution_count": 32,
   "id": "41ee75bc-f901-46a5-931e-fd25ecb50e00",
   "metadata": {},
   "outputs": [],
   "source": [
    "p = Point(3,5)"
   ]
  },
  {
   "cell_type": "code",
   "execution_count": 33,
   "id": "991e8e99-b843-4851-93d7-e9ac0674578a",
   "metadata": {},
   "outputs": [
    {
     "name": "stdout",
     "output_type": "stream",
     "text": [
      "repr\n"
     ]
    },
    {
     "data": {
      "text/plain": [
       "Point(3, 5)"
      ]
     },
     "execution_count": 33,
     "metadata": {},
     "output_type": "execute_result"
    }
   ],
   "source": [
    "p # just reite p and it will print"
   ]
  },
  {
   "cell_type": "code",
   "execution_count": 35,
   "id": "f1836cab-7be5-4fe3-b4f0-7b2b4791d544",
   "metadata": {},
   "outputs": [
    {
     "name": "stdout",
     "output_type": "stream",
     "text": [
      "str\n",
      "Point: 3, 5\n"
     ]
    }
   ],
   "source": [
    "print(p)"
   ]
  },
  {
   "cell_type": "code",
   "execution_count": null,
   "id": "4da17203-e923-46b3-bbc8-4fda54bddddf",
   "metadata": {},
   "outputs": [],
   "source": []
  },
  {
   "cell_type": "code",
   "execution_count": 36,
   "id": "10520edd-18ae-495e-bcf1-fa34b484dff7",
   "metadata": {},
   "outputs": [],
   "source": []
  },
  {
   "cell_type": "code",
   "execution_count": 38,
   "id": "9990575d-5ce4-47e5-9d0a-2c69090a9c4d",
   "metadata": {},
   "outputs": [],
   "source": [
    "class Point:\n",
    "    def __init__(self,x,y):\n",
    "        self.x=x\n",
    "        self.y=y\n",
    "\n",
    "    def __repr__(self):\n",
    "        print(\"this is repr\")\n",
    "        return (f\"Point {self.x}, {self.y}\")\n",
    "\n",
    "    def __str__(self):\n",
    "        print(\"this is str\")\n",
    "        return (f\"Point {self.x}, {self.y}\")\n",
    "\n",
    "    def __add__(self,other):\n",
    "        total_x=self.x+other.x\n",
    "        total_y=self.y+other.y\n",
    "        return Point(total_x,total_y)"
   ]
  },
  {
   "cell_type": "code",
   "execution_count": 41,
   "id": "17e6250e-60a3-413e-82b4-fc8d6c00dc35",
   "metadata": {},
   "outputs": [],
   "source": [
    "p1=Point(1,6)\n",
    "p2=Point(2,3)"
   ]
  },
  {
   "cell_type": "code",
   "execution_count": 42,
   "id": "0c95cb96-7c78-4901-885a-ca0bb4dd27bb",
   "metadata": {},
   "outputs": [
    {
     "name": "stdout",
     "output_type": "stream",
     "text": [
      "this is repr\n"
     ]
    },
    {
     "data": {
      "text/plain": [
       "Point 3, 9"
      ]
     },
     "execution_count": 42,
     "metadata": {},
     "output_type": "execute_result"
    }
   ],
   "source": [
    "p1+p2"
   ]
  },
  {
   "cell_type": "code",
   "execution_count": null,
   "id": "75be1e8c-1211-4476-ba26-148f9847dae8",
   "metadata": {},
   "outputs": [],
   "source": []
  },
  {
   "cell_type": "code",
   "execution_count": 44,
   "id": "3b2d4452-368f-4f8d-9d31-62b5efffc9be",
   "metadata": {},
   "outputs": [],
   "source": [
    "class Point:\n",
    "    def __init__(self,x,y):\n",
    "        self.x=x\n",
    "        self.y=y\n",
    "\n",
    "    def __repr__(self):\n",
    "        print(\"this is repr\")\n",
    "        return (f\"Point {self.x}, {self.y}\")\n",
    "\n",
    "    def __str__(self):\n",
    "        print(\"this is str\")\n",
    "        return (f\"Point {self.x}, {self.y}\")\n",
    "\n",
    "    def __sub__(self,other):\n",
    "        total_x=self.x - other.x\n",
    "        total_y=self.y - other.y\n",
    "        return Point(total_x,total_y)"
   ]
  },
  {
   "cell_type": "code",
   "execution_count": 45,
   "id": "eb5c91e4-09ff-4777-bab0-4dd556afbde0",
   "metadata": {},
   "outputs": [],
   "source": [
    "p1=Point(1,2)\n",
    "p2=Point(2,3)"
   ]
  },
  {
   "cell_type": "code",
   "execution_count": 46,
   "id": "b87ad397-43e3-4e00-be15-d5c450a2b73b",
   "metadata": {},
   "outputs": [
    {
     "name": "stdout",
     "output_type": "stream",
     "text": [
      "this is repr\n"
     ]
    },
    {
     "data": {
      "text/plain": [
       "Point -1, -1"
      ]
     },
     "execution_count": 46,
     "metadata": {},
     "output_type": "execute_result"
    }
   ],
   "source": [
    "p1-p2\n"
   ]
  },
  {
   "cell_type": "code",
   "execution_count": null,
   "id": "085c871f-9fa8-400d-9a50-19394461c609",
   "metadata": {},
   "outputs": [],
   "source": []
  },
  {
   "cell_type": "code",
   "execution_count": 62,
   "id": "3abb3215-f8b5-4a0c-843b-230ecb665bda",
   "metadata": {},
   "outputs": [],
   "source": [
    "from math import sqrt\n",
    "\n",
    "class Point:\n",
    "    def __init__(self, x, y):\n",
    "        self.x = x\n",
    "        self.y = y\n",
    "\n",
    "    def __repr__(self):\n",
    "        return f\"Point({self.x}, {self.y})\"\n",
    "\n",
    "    def __str__(self):\n",
    "        return f\"Point({self.x}, {self.y})\"\n",
    "\n",
    "    def __add__(self, other):\n",
    "        total_x = self.x + other.x\n",
    "        total_y = self.y + other.y\n",
    "        return Point(total_x, total_y)\n",
    "\n",
    "    def __sub__(self, other):\n",
    "        total_x = self.x - other.x\n",
    "        total_y = self.y - other.y\n",
    "        return Point(total_x, total_y)\n",
    "\n",
    "    def __gt__(self, other):\n",
    "        self_distance_sq = self.x**2 + self.y**2\n",
    "        other_distance_sq = other.x**2 + other.y**2\n",
    "        return self_distance_sq > other_distance_sq\n",
    "\n",
    "    def __lt__(self, other):\n",
    "        self_distance_sq = self.x**2 + self.y**2\n",
    "        other_distance_sq = other.x**2 + other.y**2\n",
    "        return self_distance_sq < other_distance_sq\n",
    "\n",
    "    def __eq__(self, other):\n",
    "        self_distance_sq = self.x**2 + self.y**2\n",
    "        other_distance_sq = other.x**2 + other.y**2\n",
    "        return self_distance_sq == other_distance_sq\n"
   ]
  },
  {
   "cell_type": "code",
   "execution_count": null,
   "id": "f3e611a5-c190-4e3d-9816-78c6198509f2",
   "metadata": {},
   "outputs": [],
   "source": []
  },
  {
   "cell_type": "code",
   "execution_count": 73,
   "id": "7606f30a-e040-4a49-9842-72ad145977ed",
   "metadata": {},
   "outputs": [
    {
     "name": "stdout",
     "output_type": "stream",
     "text": [
      "False\n",
      "False\n",
      "True\n"
     ]
    }
   ],
   "source": [
    "from math import sqrt\n",
    "class Point:\n",
    "    def __init__(self,x,y):\n",
    "        self.x = x\n",
    "        self.y = y\n",
    "    def __str__(self):\n",
    "        return f\"Point({self.x}, {self.y})\"\n",
    "    def __repr__(self):\n",
    "        return f\"Point({self.x}, {self.y})\" \n",
    "    def __gt__(self, other):\n",
    "        self_distance = sqrt(self.x ** 2 + self.y**2)\n",
    "        other_distance = sqrt(other.x ** 2 + other.y**2)\n",
    "        if self_distance > other_distance:\n",
    "            return True\n",
    "        else:\n",
    "            return False\n",
    "    def __lt__(self, other):\n",
    "        self_distance = sqrt(self.x ** 2 + self.y**2)\n",
    "        other_distance = sqrt(other.x ** 2 + other.y**2)\n",
    "        if self_distance < other_distance:\n",
    "            return True\n",
    "        else:\n",
    "            return False\n",
    "    def __eq__(self, other):\n",
    "            self_distance = sqrt(self.x ** 2 + self.y**2)\n",
    "            other_distance = sqrt(other.x ** 2 + other.y**2)\n",
    "            if self_distance == other_distance:\n",
    "                return True\n",
    "            else:\n",
    "                return False\n",
    "p1=Point(2 , 5)\n",
    "p2=Point(5 , 2)\n",
    "c= p1>p2\n",
    "c2= p1<p2\n",
    "e= p1==p2\n",
    "print(c)\n",
    "print(c2)\n",
    "print(e)"
   ]
  },
  {
   "cell_type": "code",
   "execution_count": 75,
   "id": "12a8a499-66f1-48af-ba6f-8c7fa217e333",
   "metadata": {},
   "outputs": [
    {
     "ename": "TypeError",
     "evalue": "unsupported operand type(s) for +: 'Point' and 'Point'",
     "output_type": "error",
     "traceback": [
      "\u001b[1;31m---------------------------------------------------------------------------\u001b[0m",
      "\u001b[1;31mTypeError\u001b[0m                                 Traceback (most recent call last)",
      "Cell \u001b[1;32mIn[75], line 5\u001b[0m\n\u001b[0;32m      2\u001b[0m p2 \u001b[38;5;241m=\u001b[39m Point(\u001b[38;5;241m1\u001b[39m, \u001b[38;5;241m2\u001b[39m)\n\u001b[0;32m      4\u001b[0m \u001b[38;5;66;03m# Addition\u001b[39;00m\n\u001b[1;32m----> 5\u001b[0m p3 \u001b[38;5;241m=\u001b[39m \u001b[43mp1\u001b[49m\u001b[43m \u001b[49m\u001b[38;5;241;43m+\u001b[39;49m\u001b[43m \u001b[49m\u001b[43mp2\u001b[49m\n\u001b[0;32m      6\u001b[0m \u001b[38;5;28mprint\u001b[39m(p3)  \u001b[38;5;66;03m# Output: Point(4, 6)\u001b[39;00m\n\u001b[0;32m      8\u001b[0m \u001b[38;5;66;03m# Subtraction\u001b[39;00m\n",
      "\u001b[1;31mTypeError\u001b[0m: unsupported operand type(s) for +: 'Point' and 'Point'"
     ]
    }
   ],
   "source": [
    "p1 = Point(3, 4)\n",
    "p2 = Point(1, 2)\n",
    "\n",
    "# Addition\n",
    "p3 = p1 + p2\n",
    "print(p3)  # Output: Point(4, 6)\n",
    "\n",
    "# Subtraction\n",
    "p4 = p1 - p2\n",
    "print(p4)  # Output: Point(2, 2)\n",
    "\n",
    "# Comparisons\n",
    "print(p1 > p2)  # True\n",
    "print(p1 < p2)  # False\n",
    "print(p1 == p2)  # False\n"
   ]
  },
  {
   "cell_type": "code",
   "execution_count": 76,
   "id": "291dcf9a-8f8f-4601-ac8e-df60becc47fb",
   "metadata": {},
   "outputs": [
    {
     "data": {
      "text/plain": [
       "True"
      ]
     },
     "execution_count": 76,
     "metadata": {},
     "output_type": "execute_result"
    }
   ],
   "source": [
    "p1 = Point(1, 2)\n",
    "p2 = Point(1, 2)\n",
    "p1==p2"
   ]
  },
  {
   "cell_type": "code",
   "execution_count": null,
   "id": "9327cc00-ea0a-4949-9918-e04e13ce3649",
   "metadata": {},
   "outputs": [],
   "source": []
  },
  {
   "cell_type": "code",
   "execution_count": null,
   "id": "c3706e76-9fcd-4e72-836a-47e0d144af18",
   "metadata": {},
   "outputs": [],
   "source": []
  },
  {
   "cell_type": "code",
   "execution_count": null,
   "id": "f7d61a57-b620-451a-8c66-1023a1030dcf",
   "metadata": {},
   "outputs": [],
   "source": []
  }
 ],
 "metadata": {
  "kernelspec": {
   "display_name": "Python 3 (ipykernel)",
   "language": "python",
   "name": "python3"
  },
  "language_info": {
   "codemirror_mode": {
    "name": "ipython",
    "version": 3
   },
   "file_extension": ".py",
   "mimetype": "text/x-python",
   "name": "python",
   "nbconvert_exporter": "python",
   "pygments_lexer": "ipython3",
   "version": "3.12.4"
  }
 },
 "nbformat": 4,
 "nbformat_minor": 5
}
