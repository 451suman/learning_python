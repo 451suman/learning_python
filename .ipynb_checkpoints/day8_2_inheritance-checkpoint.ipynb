{
 "cells": [
  {
   "cell_type": "code",
   "execution_count": 2,
   "metadata": {},
   "outputs": [],
   "source": [
    "#single inheritance"
   ]
  },
  {
   "cell_type": "code",
   "execution_count": 6,
   "metadata": {},
   "outputs": [
    {
     "name": "stdout",
     "output_type": "stream",
     "text": [
      "Name: Suman\n",
      "Age: 22\n",
      "Address: Bkt\n",
      "College: Khwopa\n",
      "Faculty: BCA\n",
      "Roll no: 15\n"
     ]
    }
   ],
   "source": [
    "class Person:\n",
    "    def __init__(self, name, age, address):\n",
    "        self.name = name\n",
    "        self.age = age\n",
    "        self.address = address\n",
    "    \n",
    "    def info(self):\n",
    "        print(f\"Name: {self.name}\")\n",
    "        print(f\"Age: {self.age}\")\n",
    "        print(f\"Address: {self.address}\")\n",
    "\n",
    "class Student(Person):  # Correct inheritance\n",
    "    def __init__(self, name, age, address, college, faculty, roll_no):\n",
    "        super().__init__(name, age, address)  # Call the base class constructor\n",
    "        self.college = college\n",
    "        self.faculty = faculty        \n",
    "        self.roll_no = roll_no\n",
    "\n",
    "    def info(self):\n",
    "        super().info()  # Call the base class info method\n",
    "        print(f\"College: {self.college}\")\n",
    "        print(f\"Faculty: {self.faculty}\")\n",
    "        print(f\"Roll no: {self.roll_no}\")\n",
    "\n",
    "# Create an instance of Student\n",
    "obj = Student(\"Suman\", 22, \"Bkt\", \"Khwopa\", \"BCA\", 15)\n",
    "\n",
    "# Call the info method to print the details\n",
    "obj.info()\n"
   ]
  },
  {
   "cell_type": "code",
   "execution_count": 7,
   "metadata": {},
   "outputs": [],
   "source": [
    "#multiple Inheritance\n",
    "\n",
    "\n",
    "class Father:\n",
    "    pass\n",
    "class Mother:\n",
    "    pass \n",
    "class Child(Father,Mother):   #multiple in heritance is uspported in python but not in java and C#\n",
    "    pass\n"
   ]
  },
  {
   "cell_type": "code",
   "execution_count": 5,
   "metadata": {},
   "outputs": [
    {
     "name": "stdout",
     "output_type": "stream",
     "text": [
      "Inside Person class\n",
      "Name: suman Age: 28\n",
      "Inside Company class\n",
      "Company Name: Google Location: Atlanta\n",
      "Inside Employee class\n",
      "Salary: 12000 Skill: Machine Learning\n"
     ]
    }
   ],
   "source": [
    "# Parent class 1\n",
    "class Person:\n",
    "    def person_info(self, name, age):\n",
    "        print('Inside Person class')\n",
    "        print('Name:', name, 'Age:', age)\n",
    "\n",
    "# Parent class 2\n",
    "class Company:\n",
    "    def company_info(self, company_name, location):\n",
    "        print('Inside Company class')\n",
    "        print('Company Name:', company_name, 'Location:', location)\n",
    "\n",
    "# Child class\n",
    "class Employee(Person, Company):\n",
    "    def employee_info(self, salary, skill):\n",
    "        print('Inside Employee class')\n",
    "        print('Salary:', salary, 'Skill:', skill)\n",
    "\n",
    "# Create object of Employee\n",
    "emp = Employee()\n",
    "\n",
    "# Access data\n",
    "emp.person_info('suman', 28)\n",
    "emp.company_info('Google', 'Atlanta')\n",
    "emp.employee_info(12000, 'Machine Learning')\n"
   ]
  },
  {
   "cell_type": "code",
   "execution_count": null,
   "metadata": {},
   "outputs": [],
   "source": []
  }
 ],
 "metadata": {
  "kernelspec": {
   "display_name": "Python 3",
   "language": "python",
   "name": "python3"
  },
  "language_info": {
   "codemirror_mode": {
    "name": "ipython",
    "version": 3
   },
   "file_extension": ".py",
   "mimetype": "text/x-python",
   "name": "python",
   "nbconvert_exporter": "python",
   "pygments_lexer": "ipython3",
   "version": "3.12.4"
  }
 },
 "nbformat": 4,
 "nbformat_minor": 2
}
