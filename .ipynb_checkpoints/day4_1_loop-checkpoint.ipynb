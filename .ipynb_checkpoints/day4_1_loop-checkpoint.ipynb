{
 "cells": [
  {
   "cell_type": "code",
   "execution_count": 2,
   "id": "eff56684-733c-40a4-9390-3571c2f0df06",
   "metadata": {},
   "outputs": [
    {
     "name": "stdout",
     "output_type": "stream",
     "text": [
      "1\n",
      "2\n",
      "3\n",
      "4\n"
     ]
    }
   ],
   "source": [
    "x=[1,2,3,4]\n",
    "for i in x:\n",
    "    print(i)"
   ]
  },
  {
   "cell_type": "code",
   "execution_count": 3,
   "id": "4b3c9e82-5622-49ed-9963-c1d62c6d1ff4",
   "metadata": {},
   "outputs": [
    {
     "name": "stdout",
     "output_type": "stream",
     "text": [
      "10\n"
     ]
    }
   ],
   "source": [
    "x=[1,2,3,4]\n",
    "sum = 0\n",
    "for i in x:\n",
    "    sum = sum+i\n",
    "print(sum)\n"
   ]
  },
  {
   "cell_type": "code",
   "execution_count": 5,
   "id": "49485700-7330-4d1f-b129-f81dfbf13559",
   "metadata": {},
   "outputs": [
    {
     "name": "stdout",
     "output_type": "stream",
     "text": [
      "24\n"
     ]
    }
   ],
   "source": [
    "x=[1,2,3,4]\n",
    "mul = 1\n",
    "for i in x:\n",
    "    mul = mul*i\n",
    "print(mul)\n"
   ]
  },
  {
   "cell_type": "code",
   "execution_count": 12,
   "id": "918e5356-0d3a-437a-a97f-4542f88a1ee2",
   "metadata": {},
   "outputs": [
    {
     "name": "stdout",
     "output_type": "stream",
     "text": [
      "[2, 4, 6, 8, 10]\n"
     ]
    }
   ],
   "source": [
    "x=[1,2,3,4,5]\n",
    "\n",
    "output=[]\n",
    "for i in x:\n",
    "    output.append(i*2)\n",
    "\n",
    "print(output)\n",
    "\n",
    "    "
   ]
  },
  {
   "cell_type": "code",
   "execution_count": 16,
   "id": "c2cab5f9-7410-46d7-833b-43d4c85aefc4",
   "metadata": {},
   "outputs": [
    {
     "name": "stdout",
     "output_type": "stream",
     "text": [
      "['odd', 'even', 'odd', 'even', 'odd']\n"
     ]
    }
   ],
   "source": [
    "x=[1,2,3,4,5]\n",
    "output=[]\n",
    "for i in x:\n",
    "    if i%2==0:\n",
    "        output.append(\"even\")\n",
    "    else:\n",
    "        output.append(\"odd\")               \n",
    "\n",
    "print(output)  "
   ]
  },
  {
   "cell_type": "code",
   "execution_count": 27,
   "id": "1b18d312-4213-4c49-bad1-11e7e9ea0e39",
   "metadata": {},
   "outputs": [
    {
     "name": "stdout",
     "output_type": "stream",
     "text": [
      "[11, 23, 32, 43, 44]\n"
     ]
    }
   ],
   "source": [
    "x=[11,23,43,11,32,44,32,11]\n",
    "y=set(x)\n",
    "z=sorted(list(y))\n",
    "print (z)"
   ]
  },
  {
   "cell_type": "code",
   "execution_count": 33,
   "id": "d010bf7a-9aea-4a1c-b64c-3c10e2f72304",
   "metadata": {},
   "outputs": [
    {
     "name": "stdout",
     "output_type": "stream",
     "text": [
      "[11, 23, 43, 32, 44]\n"
     ]
    }
   ],
   "source": [
    "x=[11,23,43,11,32,44,32,11] #output: [11, 23, 32, 43, 44]\n",
    "\n",
    "output=[]\n",
    "for i in x:\n",
    "    if i not in output:\n",
    "        output.append(i)\n",
    "\n",
    "print(output)\n",
    "    "
   ]
  },
  {
   "cell_type": "code",
   "execution_count": 45,
   "id": "ff4e0141-4f11-4903-b0e4-7bba835bed3a",
   "metadata": {},
   "outputs": [
    {
     "name": "stdout",
     "output_type": "stream",
     "text": [
      "vowel =5\n",
      "cons =11\n"
     ]
    }
   ],
   "source": [
    "name=\"suman mushyakhwo\"\n",
    "\n",
    "vowel=0\n",
    "cons =0\n",
    "for  i in name:\n",
    "    if i==\"a\" or i==\"e\" or i==\"i\" or i==\"o\" or i==\"u\":\n",
    "        vowel+=1\n",
    "    else:\n",
    "        cons+=1\n",
    "print(f\"vowel ={vowel}\")\n",
    "print(f\"cons ={cons}\")\n",
    "        "
   ]
  },
  {
   "cell_type": "code",
   "execution_count": 47,
   "id": "ff8ce3e7-633d-41d7-9185-5ce3a3ba51f6",
   "metadata": {},
   "outputs": [
    {
     "name": "stdout",
     "output_type": "stream",
     "text": [
      "vowel =5\n",
      "cons =11\n"
     ]
    }
   ],
   "source": [
    "name=\"sumAn mushyaKhwo\"\n",
    "\n",
    "vowel=0\n",
    "cons =0\n",
    "for  i in name:\n",
    "    if i.lower() in 'aeiou':\n",
    "        vowel+=1\n",
    "    else:\n",
    "        cons+=1\n",
    "print(f\"vowel ={vowel}\")\n",
    "print(f\"cons ={cons}\")\n",
    "        "
   ]
  },
  {
   "cell_type": "code",
   "execution_count": 52,
   "id": "e0b18a32-5ad5-43a2-8525-0a20be2f025e",
   "metadata": {},
   "outputs": [
    {
     "name": "stdout",
     "output_type": "stream",
     "text": [
      "180\n"
     ]
    }
   ],
   "source": [
    "marks = {'alan':90,\n",
    "         'bill':80,\n",
    "         'suman':10}\n",
    "sum=0\n",
    "for  i in marks.values(): # marks.value() le set ko value matra chutai dincha\n",
    "    sum+=i\n",
    "\n",
    "print(sum)"
   ]
  },
  {
   "cell_type": "code",
   "execution_count": 62,
   "id": "9fa321d8-a494-4360-ad63-fa970e30979f",
   "metadata": {},
   "outputs": [
    {
     "name": "stdout",
     "output_type": "stream",
     "text": [
      "{'suman': 5, 'rojan': 5, 'prem': 4, 'bill': 4}\n"
     ]
    }
   ],
   "source": [
    "students={'suman','bill','rojan','prem'}  # convert in to dictionery students={'suman','bill','rojan','prem'}\n",
    "x={}\n",
    "for i in students:\n",
    "    x[i]=len(i)\n",
    "    \n",
    "print(x)\n",
    "x={}\n",
    "for i in students:\n",
    "    x[i]=len(i)\n",
    "    \n",
    "print(x)\n",
    "# x=\"asdasasD\"\n",
    "# print(len(x))\n"
   ]
  },
  {
   "cell_type": "code",
   "execution_count": 63,
   "id": "1ff163db-5f63-4d10-a16a-b6008335d8ab",
   "metadata": {},
   "outputs": [
    {
     "name": "stdout",
     "output_type": "stream",
     "text": [
      "{'suman': 5, 'rojan': 5, 'prem': 4, 'bill': 4}\n"
     ]
    }
   ],
   "source": [
    "students={'suman','bill','rojan','prem'} \n",
    "x={}\n",
    "for i in students:\n",
    "   x.update({ i:len(i)})\n",
    "    \n",
    "print(x)"
   ]
  },
  {
   "cell_type": "code",
   "execution_count": 73,
   "id": "ae1ed3f9-b770-4094-beec-7c51ed341071",
   "metadata": {},
   "outputs": [
    {
     "name": "stdout",
     "output_type": "stream",
     "text": [
      "{'suman': 0, 'rojan': 1, 'prem': 2, 'bill': 3}\n"
     ]
    }
   ],
   "source": [
    "students={'suman','bill','rojan','prem'} \n",
    "x={}\n",
    "a=0\n",
    "for i in students:\n",
    "   x.update({ i:a})\n",
    "   a=a+1\n",
    "print(x)"
   ]
  },
  {
   "cell_type": "code",
   "execution_count": null,
   "id": "7bbea1d5-1895-4a2e-8b0d-23e3a9b10120",
   "metadata": {},
   "outputs": [],
   "source": []
  }
 ],
 "metadata": {
  "kernelspec": {
   "display_name": "Python 3 (ipykernel)",
   "language": "python",
   "name": "python3"
  },
  "language_info": {
   "codemirror_mode": {
    "name": "ipython",
    "version": 3
   },
   "file_extension": ".py",
   "mimetype": "text/x-python",
   "name": "python",
   "nbconvert_exporter": "python",
   "pygments_lexer": "ipython3",
   "version": "3.12.4"
  }
 },
 "nbformat": 4,
 "nbformat_minor": 5
}
