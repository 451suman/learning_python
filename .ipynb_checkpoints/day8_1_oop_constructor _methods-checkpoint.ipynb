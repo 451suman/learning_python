{
 "cells": [
  {
   "cell_type": "code",
   "execution_count": 3,
   "id": "5ea8223c-4f8e-4a68-8f33-4d5a2918b830",
   "metadata": {},
   "outputs": [],
   "source": [
    "# OOP \n",
    "# class => person  => blueprint\n",
    "# object"
   ]
  },
  {
   "cell_type": "code",
   "execution_count": 4,
   "id": "72070821-eec5-41e7-9200-80947acfa585",
   "metadata": {},
   "outputs": [],
   "source": [
    "# class  in pascale case DateTime\n",
    "#function => lower case\n"
   ]
  },
  {
   "cell_type": "code",
   "execution_count": 5,
   "id": "bf05c2bc-aae3-405d-ae11-c6db474d89b5",
   "metadata": {},
   "outputs": [],
   "source": [
    "class dateTime : \n",
    "    def tode_date():\n",
    "        pass\n",
    "        \n",
    "    def today_time():\n",
    "        pass\n",
    "        \n",
    "    def today_day():\n",
    "        pass\n",
    "\n",
    "    def today_week():\n",
    "        pass\n",
    "\n",
    "    def today_month():\n",
    "        pass\n",
    "\n",
    "    def today_year():\n",
    "        pass\n",
    "\n",
    "    def today_utc_time():\n",
    "        pass"
   ]
  },
  {
   "cell_type": "code",
   "execution_count": 6,
   "id": "5554419f-2a3e-444d-8804-a3eaaddc7aff",
   "metadata": {},
   "outputs": [],
   "source": [
    "class Person:\n",
    "    #attribute / properties\n",
    "    name=\"ram\"\n",
    "    age=22\n",
    "    address=\"ktm\""
   ]
  },
  {
   "cell_type": "code",
   "execution_count": 9,
   "id": "145abcfd-605f-4de7-9776-1312c0ce1c3f",
   "metadata": {},
   "outputs": [
    {
     "name": "stdout",
     "output_type": "stream",
     "text": [
      "<__main__.Person object at 0x000002957407F740>\n"
     ]
    }
   ],
   "source": [
    "ram = Person() # => object of a class => instance\n",
    "print(ram)"
   ]
  },
  {
   "cell_type": "code",
   "execution_count": 10,
   "id": "6ba02be7-d562-4323-b6e1-f1d6e59d033b",
   "metadata": {},
   "outputs": [],
   "source": [
    "class Person:\n",
    "    name=\"ram\"\n",
    "    age=22\n",
    "    address=\"ktm\"\n",
    "\n",
    "    def eat():\n",
    "        pass\n",
    "\n",
    "    def sleep():\n",
    "        pass\n",
    "\n",
    "    def walk():\n",
    "        pass\n",
    "\n"
   ]
  },
  {
   "cell_type": "code",
   "execution_count": 17,
   "id": "67d7ca06-dfee-4141-8c0e-dc490b2fa369",
   "metadata": {},
   "outputs": [
    {
     "data": {
      "text/plain": [
       "22"
      ]
     },
     "execution_count": 17,
     "metadata": {},
     "output_type": "execute_result"
    }
   ],
   "source": [
    "p1= Person()\n",
    "p1.age\n"
   ]
  },
  {
   "cell_type": "code",
   "execution_count": 16,
   "id": "d7ef3357-5e6b-4d49-85ff-afedadb4e31d",
   "metadata": {},
   "outputs": [
    {
     "data": {
      "text/plain": [
       "'ktm'"
      ]
     },
     "execution_count": 16,
     "metadata": {},
     "output_type": "execute_result"
    }
   ],
   "source": [
    "p1.address\n"
   ]
  },
  {
   "cell_type": "code",
   "execution_count": 15,
   "id": "90fa9d99-6406-45ec-8669-e8d54ca7f4bf",
   "metadata": {},
   "outputs": [
    {
     "data": {
      "text/plain": [
       "'ram'"
      ]
     },
     "execution_count": 15,
     "metadata": {},
     "output_type": "execute_result"
    }
   ],
   "source": [
    "p1.name"
   ]
  },
  {
   "cell_type": "code",
   "execution_count": 20,
   "id": "8921d2bd-aecc-4c2c-b9a1-7dcf4aca9ca9",
   "metadata": {},
   "outputs": [
    {
     "name": "stdout",
     "output_type": "stream",
     "text": [
      "john 22 bkt\n"
     ]
    }
   ],
   "source": [
    "class Person:\n",
    "    def __init__(self,name,age, address):\n",
    "        print(name, age, address)\n",
    "\n",
    "p1= Person(\"john\",22,\"bkt\")"
   ]
  },
  {
   "cell_type": "code",
   "execution_count": 24,
   "id": "e93022f7-c720-474d-b80e-c582cb35bdb3",
   "metadata": {},
   "outputs": [
    {
     "name": "stdout",
     "output_type": "stream",
     "text": [
      "john\n",
      "22\n"
     ]
    }
   ],
   "source": [
    "class Person:\n",
    "    def __init__(self,name,age, address):\n",
    "        self.name=name\n",
    "        self.age=age\n",
    "        self.address=address\n",
    "        \n",
    "p1= Person(\"john\",22,\"bkt\")\n",
    "\n",
    "print(p1.name)\n",
    "print(p1.age)"
   ]
  },
  {
   "cell_type": "code",
   "execution_count": 10,
   "id": "59a44ce8-df1d-4b7c-a678-92d60b169a0d",
   "metadata": {},
   "outputs": [
    {
     "name": "stdout",
     "output_type": "stream",
     "text": [
      "asdlkjajsldknasdkln\n",
      "suman\n"
     ]
    }
   ],
   "source": [
    "class c1:\n",
    "    name=\"suman\"\n",
    "    def __init__(self): # self is compulsary to write in constructior an methso\n",
    "        pass\n",
    "\n",
    "    def a(self,z):\n",
    "        print(z)\n",
    "\n",
    "\n",
    "aa=c1()\n",
    "aa.a(\"asdlkjajsldknasdkln\")\n",
    "print(aa.name)"
   ]
  },
  {
   "cell_type": "code",
   "execution_count": 14,
   "id": "73fca4a1-3a27-4704-ba33-942090a720ac",
   "metadata": {},
   "outputs": [
    {
     "name": "stdout",
     "output_type": "stream",
     "text": [
      "person is eating\n",
      "person is walking\n",
      "person is sleeping\n"
     ]
    }
   ],
   "source": [
    "class Person:\n",
    "    def __init__(self):\n",
    "        pass\n",
    "\n",
    "    def eat(self):\n",
    "        print(\"person is eating\")\n",
    "\n",
    "    def sleep(self):\n",
    "        print(\"person is sleeping\")\n",
    "\n",
    "    def walk(self):\n",
    "        print(\"person is walking\")\n",
    "\n",
    "obj = Person()\n",
    "obj.eat()\n",
    "obj.walk()\n",
    "obj.sleep()"
   ]
  },
  {
   "cell_type": "code",
   "execution_count": 22,
   "id": "6ef62b7f-8e28-4659-8a1f-f91afc2f2cd0",
   "metadata": {},
   "outputs": [
    {
     "name": "stdout",
     "output_type": "stream",
     "text": [
      "suman 22 bkt khwopa bca 15\n",
      "suman 22 khwopa bkt bca 15\n"
     ]
    }
   ],
   "source": [
    "class Person:\n",
    "    def __init__ (self,name, age, address, college, faculity,roll_no):\n",
    "        self.name=name\n",
    "        self.age=age\n",
    "        self.address=address\n",
    "        self.college=college\n",
    "        self.faculity=faculity\n",
    "        self.roll_no=roll_no\n",
    "\n",
    "    def display(self):\n",
    "        print(self.name, self.age, self.address, self.college, self.faculity,self.roll_no)\n",
    "\n",
    "obj=Person(\"suman\",22,\"bkt\",\"khwopa\",\"bca\",15)\n",
    "obj.display()\n",
    "obj2=Person(name=\"suman\",age=22,college=\"bkt\",address=\"khwopa\",faculity=\"bca\",roll_no=15)\n",
    "obj2.display()\n",
    "    "
   ]
  },
  {
   "cell_type": "code",
   "execution_count": 42,
   "id": "3114cdfb-8f6d-4e00-8214-acf60bf9c0cf",
   "metadata": {},
   "outputs": [
    {
     "data": {
      "text/plain": [
       "['java', 'python']"
      ]
     },
     "execution_count": 42,
     "metadata": {},
     "output_type": "execute_result"
    }
   ],
   "source": [
    "class Person:\n",
    "    def __init__ (self,name, age, address, college, faculity,roll_no):\n",
    "        self.name=name\n",
    "        self.age=age\n",
    "        self.address=address\n",
    "        self.college=college\n",
    "        self.faculity=faculity\n",
    "        self.roll_no=roll_no\n",
    "        self.subjects=[]\n",
    "\n",
    "    # def display(self):\n",
    "        # print(self.name, self.age, self.address, self.college, self.faculity,self.roll_no)\n",
    "\n",
    "    def learn(self):\n",
    "        print(self.subjects)\n",
    "\n",
    "    def add_subject(self,subName):\n",
    "        if subName.lower() not in self.subjects:\n",
    "            self.subjects.append(subName.lower())\n",
    "        \n",
    "obj=Person(\"suman\",22,\"bkt\",\"khwopa\",\"bca\",15)\n",
    "# obj.display()\n",
    "\n",
    "obj.add_subject(\"jAva\")\n",
    "obj.add_subject(\"python\")\n",
    "obj.add_subject(\"pYthon\")\n",
    "obj.add_subject(\"pyThon\")\n",
    "obj.add_subject(\"jaVa\")\n",
    "obj.subjects\n",
    "\n",
    "    "
   ]
  },
  {
   "cell_type": "code",
   "execution_count": 51,
   "id": "13f76e7f-6a2c-4419-9eba-06d9010db549",
   "metadata": {},
   "outputs": [
    {
     "name": "stdout",
     "output_type": "stream",
     "text": [
      "30\n",
      "22\n"
     ]
    }
   ],
   "source": [
    "\n",
    "class Rectangle:\n",
    "    def __init__(self,length, breath):\n",
    "        self.length= length\n",
    "        self.breath= breath\n",
    "\n",
    "    def area(self):\n",
    "        area = self.length * self.breath\n",
    "        return area\n",
    "\n",
    "    def perimeter(self):\n",
    "        peri= 2*(self.length + self.breath)\n",
    "        return peri\n",
    "\n",
    "obj = Rectangle(5,6)\n",
    "print(obj.area())\n",
    "print(obj.perimeter())\n",
    "        "
   ]
  },
  {
   "cell_type": "code",
   "execution_count": null,
   "id": "ce93b41c-ea92-453d-81c1-57db8730c303",
   "metadata": {},
   "outputs": [],
   "source": [
    "\n",
    "class Circle:\n",
    "    def __init__(self,r):\n",
    "        self.r= r\n",
    "        \n",
    "    def area(self):\n",
    "        area = 2*3.14*r**2 #r**2 means r^2\n",
    "        return area\n",
    "\n",
    "    def perimeter(self):\n",
    "        peri= 2 *3.14*self.r\n",
    "        return peri\n",
    "\n",
    "obj = Rectangle(5,6)\n",
    "print(obj.area())\n",
    "print(obj.perimeter())\n",
    "        "
   ]
  }
 ],
 "metadata": {
  "kernelspec": {
   "display_name": "Python 3 (ipykernel)",
   "language": "python",
   "name": "python3"
  },
  "language_info": {
   "codemirror_mode": {
    "name": "ipython",
    "version": 3
   },
   "file_extension": ".py",
   "mimetype": "text/x-python",
   "name": "python",
   "nbconvert_exporter": "python",
   "pygments_lexer": "ipython3",
   "version": "3.12.4"
  }
 },
 "nbformat": 4,
 "nbformat_minor": 5
}
