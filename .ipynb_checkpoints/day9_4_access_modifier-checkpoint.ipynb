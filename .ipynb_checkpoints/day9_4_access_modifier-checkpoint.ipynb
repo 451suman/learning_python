{
 "cells": [
  {
   "cell_type": "code",
   "execution_count": 1,
   "id": "54a7f768-8ff3-4038-b4e7-22682d2faaaa",
   "metadata": {},
   "outputs": [],
   "source": [
    "#access modifier\n"
   ]
  },
  {
   "cell_type": "code",
   "execution_count": 2,
   "id": "32e873cc-3577-4a20-8eec-72911c159f6a",
   "metadata": {},
   "outputs": [],
   "source": [
    "#public"
   ]
  },
  {
   "cell_type": "code",
   "execution_count": 4,
   "id": "019cbc5e-61a7-4829-9a32-b7026b882108",
   "metadata": {},
   "outputs": [
    {
     "name": "stdout",
     "output_type": "stream",
     "text": [
      "<__main__.Hello object at 0x000001E759C9F2F0>\n"
     ]
    }
   ],
   "source": [
    "class Hello:\n",
    "    def hello(self):\n",
    "        print(self)\n",
    "\n",
    "obj = Hello()\n",
    "obj.hello()\n",
    "\n"
   ]
  },
  {
   "cell_type": "code",
   "execution_count": 11,
   "id": "3a1f9cd1-9f61-4ff7-8807-3bb9eb4be21d",
   "metadata": {},
   "outputs": [
    {
     "name": "stdout",
     "output_type": "stream",
     "text": [
      "Length: 4\n",
      "Breadth: 5\n",
      "Area: 20\n",
      "Perimeter: 18\n"
     ]
    }
   ],
   "source": [
    "# Public access modifier example\n",
    "class Rectangle:\n",
    "    def __init__(self, length, breadth):\n",
    "        # Public attributes\n",
    "        self.length = length\n",
    "        self.breadth = breadth\n",
    "\n",
    "    # Public methods\n",
    "    def area(self):\n",
    "        area = self.length * self.breadth\n",
    "        return area\n",
    "\n",
    "    def perimeter(self):\n",
    "        peri = 2 * (self.length + self.breadth)\n",
    "        return peri\n",
    "\n",
    "# Create an instance of Rectangle\n",
    "r = Rectangle(4, 5)\n",
    "\n",
    "# Calculate and print the area and perimeter\n",
    "print(\"Length:\", r.length)         # Accessing the public attribute\n",
    "print(\"Breadth:\", r.breadth)       # Accessing the public attribute\n",
    "print(\"Area:\", r.area())           # Calling the area method\n",
    "print(\"Perimeter:\", r.perimeter()) # Calling the perimeter method\n"
   ]
  },
  {
   "cell_type": "code",
   "execution_count": 6,
   "id": "d583581e-4ef5-4543-913a-f651d85b1f7e",
   "metadata": {},
   "outputs": [],
   "source": [
    "#private access modifier"
   ]
  },
  {
   "cell_type": "code",
   "execution_count": 14,
   "id": "dc5faf9f-d080-4a65-a533-9824c1bfc73d",
   "metadata": {},
   "outputs": [
    {
     "ename": "AttributeError",
     "evalue": "'Rectangle' object has no attribute 'length'",
     "output_type": "error",
     "traceback": [
      "\u001b[1;31m---------------------------------------------------------------------------\u001b[0m",
      "\u001b[1;31mAttributeError\u001b[0m                            Traceback (most recent call last)",
      "Cell \u001b[1;32mIn[14], line 29\u001b[0m\n\u001b[0;32m     26\u001b[0m r \u001b[38;5;241m=\u001b[39m Rectangle(\u001b[38;5;241m4\u001b[39m, \u001b[38;5;241m5\u001b[39m)\n\u001b[0;32m     28\u001b[0m \u001b[38;5;66;03m# Calculate and print the area and perimeter\u001b[39;00m\n\u001b[1;32m---> 29\u001b[0m \u001b[38;5;28mprint\u001b[39m(\u001b[38;5;124m\"\u001b[39m\u001b[38;5;124mLength:\u001b[39m\u001b[38;5;124m\"\u001b[39m, \u001b[43mr\u001b[49m\u001b[38;5;241;43m.\u001b[39;49m\u001b[43mlength\u001b[49m())         \u001b[38;5;66;03m# Accessing the private attribute through the getter\u001b[39;00m\n\u001b[0;32m     30\u001b[0m \u001b[38;5;28mprint\u001b[39m(\u001b[38;5;124m\"\u001b[39m\u001b[38;5;124mBreadth:\u001b[39m\u001b[38;5;124m\"\u001b[39m, r\u001b[38;5;241m.\u001b[39mget_breadth())       \u001b[38;5;66;03m# Accessing the private attribute through the getter\u001b[39;00m\n\u001b[0;32m     31\u001b[0m \u001b[38;5;28mprint\u001b[39m(\u001b[38;5;124m\"\u001b[39m\u001b[38;5;124mArea:\u001b[39m\u001b[38;5;124m\"\u001b[39m, r\u001b[38;5;241m.\u001b[39marea())                  \u001b[38;5;66;03m# Calling the area method\u001b[39;00m\n",
      "\u001b[1;31mAttributeError\u001b[0m: 'Rectangle' object has no attribute 'length'"
     ]
    }
   ],
   "source": [
    "#private access modifier\n",
    "class Rectangle:\n",
    "    def __init__(self,length, breath):\n",
    "        #public attributes\n",
    "        self.__length= length\n",
    "        self.__breath= breath\n",
    "\n",
    "    #public methods\n",
    "    def area(self):\n",
    "        area = self.__length * self.__breath\n",
    "        return area\n",
    "\n",
    "    def perimeter(self):\n",
    "        peri= 2*(self.__length + self.__breath)\n",
    "        return peri\n",
    "\n",
    "\n",
    "r=Rectangle(4,5)\n",
    "r.area()\n",
    "\n",
    "        "
   ]
  },
  {
   "cell_type": "code",
   "execution_count": 8,
   "id": "9d25f10d-1c0f-40be-b14e-9875295e88af",
   "metadata": {},
   "outputs": [
    {
     "ename": "AttributeError",
     "evalue": "'Rectangle' object has no attribute '__length'",
     "output_type": "error",
     "traceback": [
      "\u001b[1;31m---------------------------------------------------------------------------\u001b[0m",
      "\u001b[1;31mAttributeError\u001b[0m                            Traceback (most recent call last)",
      "Cell \u001b[1;32mIn[8], line 1\u001b[0m\n\u001b[1;32m----> 1\u001b[0m \u001b[43mr\u001b[49m\u001b[38;5;241;43m.\u001b[39;49m\u001b[43m__length\u001b[49m(\u001b[38;5;241m5555\u001b[39m)\n",
      "\u001b[1;31mAttributeError\u001b[0m: 'Rectangle' object has no attribute '__length'"
     ]
    }
   ],
   "source": [
    "# Calculate and print the area and perimeter\n",
    "print(\"Length:\", r.length())        #erroe Accessing the private attribute \n",
    "print(\"Breadth:\", r.breadth())       #"
   ]
  },
  {
   "cell_type": "code",
   "execution_count": null,
   "id": "f7feaa61-c2ed-4f1b-8ca8-7db93a17cb4c",
   "metadata": {},
   "outputs": [],
   "source": []
  },
  {
   "cell_type": "code",
   "execution_count": 19,
   "id": "9ef93011-2495-4af7-ad2b-2cca9ef045d8",
   "metadata": {},
   "outputs": [],
   "source": [
    "# Private access modifier example\n",
    "class Rectangle:\n",
    "    def __init__(self, length, breadth):\n",
    "        # Private attributes\n",
    "        self.__length = length\n",
    "        self.__breadth = breadth\n",
    "\n",
    "    # Public method to calculate area\n",
    "    def area(self):\n",
    "        area = self.__length * self.__breadth\n",
    "        return area\n",
    "\n",
    "    # Public method to calculate perimeter\n",
    "    def perimeter(self):\n",
    "        peri = 2 * (self.__length + self.__breadth)\n",
    "        return peri\n",
    "\n",
    "    # Public getter methods to access private attributes\n",
    "    def get_length(self):\n",
    "        return self.__length\n",
    "\n",
    "    def get_breadth(self):\n",
    "        return self.__breadth\n",
    "\n",
    "    # Setter methods to modify private attributes\n",
    "    def length_setter(self, value):\n",
    "        self.__length = value\n",
    "\n",
    "    def breadth_setter(self, value):\n",
    "        self.__breadth = value\n",
    "\n",
    "\n",
    "\n"
   ]
  },
  {
   "cell_type": "code",
   "execution_count": 24,
   "id": "2a08cd9d-911f-4adb-8885-05414a373b15",
   "metadata": {},
   "outputs": [
    {
     "name": "stdout",
     "output_type": "stream",
     "text": [
      "Length: 4\n",
      "Breadth: 5\n",
      "Area: 20\n",
      "Perimeter: 18\n"
     ]
    }
   ],
   "source": [
    "\n",
    "# Create an instance of Rectangle\n",
    "r = Rectangle(4, 5)\n",
    "\n",
    "# Calculate and print the area and perimeter\n",
    "print(\"Length:\", r.get_length())         # Accessing the private attribute through the getter\n",
    "print(\"Breadth:\", r.get_breadth())       # Accessing the private attribute through the getter\n",
    "print(\"Area:\", r.area())                  # Calling the area method\n",
    "print(\"Perimeter:\", r.perimeter())        # Calling the perimeter method\n"
   ]
  },
  {
   "cell_type": "code",
   "execution_count": null,
   "id": "e2b18204-8270-4ee5-a6c9-ac529c349cdc",
   "metadata": {},
   "outputs": [],
   "source": [
    "\n"
   ]
  },
  {
   "cell_type": "code",
   "execution_count": 22,
   "id": "961be7b4-70f6-492f-87e8-b2845619f751",
   "metadata": {},
   "outputs": [],
   "source": [
    "r.length_setter(2)"
   ]
  },
  {
   "cell_type": "code",
   "execution_count": null,
   "id": "58ecdae2-7242-47fb-9616-87591aaaa429",
   "metadata": {},
   "outputs": [],
   "source": []
  },
  {
   "cell_type": "code",
   "execution_count": null,
   "id": "2655af8b-9a94-48fb-86bd-05e8d77dfa1f",
   "metadata": {},
   "outputs": [],
   "source": [
    "# instance ko kaam to check value is either integer or float or etc$##"
   ]
  },
  {
   "cell_type": "code",
   "execution_count": 25,
   "id": "da7c04a1-2838-4514-ac1d-552fd48ef554",
   "metadata": {},
   "outputs": [
    {
     "data": {
      "text/plain": [
       "True"
      ]
     },
     "execution_count": 25,
     "metadata": {},
     "output_type": "execute_result"
    }
   ],
   "source": [
    "isinstance(1,int)"
   ]
  },
  {
   "cell_type": "code",
   "execution_count": 26,
   "id": "b1f8332c-371c-4f29-9ab2-b6802de5d96e",
   "metadata": {},
   "outputs": [
    {
     "data": {
      "text/plain": [
       "True"
      ]
     },
     "execution_count": 26,
     "metadata": {},
     "output_type": "execute_result"
    }
   ],
   "source": [
    "isinstance(1,(int,float))"
   ]
  },
  {
   "cell_type": "code",
   "execution_count": 48,
   "id": "b37954d6-ef93-4fe0-ab0b-365ffef8d20a",
   "metadata": {},
   "outputs": [],
   "source": [
    "# Private access modifier example\n",
    "class Rectangle:\n",
    "    def __init__(self, length, breadth):\n",
    "        # Private attributes\n",
    "        self.__length = length\n",
    "        self.__breadth = breadth\n",
    "\n",
    "    # Public method to calculate area\n",
    "    def area(self):\n",
    "        area = self.__length * self.__breadth\n",
    "        return area\n",
    "\n",
    "    # Public method to calculate perimeter\n",
    "    def perimeter(self):\n",
    "        peri = 2 * (self.__length + self.__breadth)\n",
    "        return peri\n",
    "\n",
    "    # Public getter methods to access private attributes\n",
    "    def get_length(self):\n",
    "        return self.__length\n",
    "\n",
    "    def get_breadth(self):\n",
    "        return self.__breadth\n",
    "\n",
    "    # Setter methods to modify private attributes\n",
    "    def length_setter(self, value):\n",
    "        if not isinstance(value,(int,float)):\n",
    "            raise ValueError(\"Invalid data types in length\")\n",
    "        self.__length = value\n",
    "\n",
    "    def breadth_setter(self, value):\n",
    "        if not isinstance(value,(int,float)):\n",
    "            raise ValueError(\"Invalid data types in breadth\")\n",
    "        self.__breadth = value\n",
    "\n",
    "\n"
   ]
  },
  {
   "cell_type": "code",
   "execution_count": 49,
   "id": "d183c189-f2c6-46cc-8dd6-df7907b01e09",
   "metadata": {},
   "outputs": [],
   "source": [
    "r=Rectangle(3,5)"
   ]
  },
  {
   "cell_type": "raw",
   "id": "eefa3d03-601a-4a87-90f7-1fc770f56953",
   "metadata": {},
   "source": [
    "r.area()"
   ]
  },
  {
   "cell_type": "code",
   "execution_count": 50,
   "id": "eb321fd1-7d0b-4879-83a8-9704f17bec91",
   "metadata": {},
   "outputs": [
    {
     "ename": "ValueError",
     "evalue": "Invalid data types in length",
     "output_type": "error",
     "traceback": [
      "\u001b[1;31m---------------------------------------------------------------------------\u001b[0m",
      "\u001b[1;31mValueError\u001b[0m                                Traceback (most recent call last)",
      "Cell \u001b[1;32mIn[50], line 1\u001b[0m\n\u001b[1;32m----> 1\u001b[0m \u001b[43mr\u001b[49m\u001b[38;5;241;43m.\u001b[39;49m\u001b[43mlength_setter\u001b[49m\u001b[43m(\u001b[49m\u001b[38;5;124;43m'\u001b[39;49m\u001b[38;5;124;43masdasd\u001b[39;49m\u001b[38;5;124;43m'\u001b[39;49m\u001b[43m)\u001b[49m\n",
      "Cell \u001b[1;32mIn[48], line 28\u001b[0m, in \u001b[0;36mRectangle.length_setter\u001b[1;34m(self, value)\u001b[0m\n\u001b[0;32m     26\u001b[0m \u001b[38;5;28;01mdef\u001b[39;00m \u001b[38;5;21mlength_setter\u001b[39m(\u001b[38;5;28mself\u001b[39m, value):\n\u001b[0;32m     27\u001b[0m     \u001b[38;5;28;01mif\u001b[39;00m \u001b[38;5;129;01mnot\u001b[39;00m \u001b[38;5;28misinstance\u001b[39m(value,(\u001b[38;5;28mint\u001b[39m,\u001b[38;5;28mfloat\u001b[39m)):\n\u001b[1;32m---> 28\u001b[0m         \u001b[38;5;28;01mraise\u001b[39;00m \u001b[38;5;167;01mValueError\u001b[39;00m(\u001b[38;5;124m\"\u001b[39m\u001b[38;5;124mInvalid data types in length\u001b[39m\u001b[38;5;124m\"\u001b[39m)\n\u001b[0;32m     29\u001b[0m     \u001b[38;5;28mself\u001b[39m\u001b[38;5;241m.\u001b[39m__length \u001b[38;5;241m=\u001b[39m value\n",
      "\u001b[1;31mValueError\u001b[0m: Invalid data types in length"
     ]
    }
   ],
   "source": [
    "r.length_setter('asdasd')"
   ]
  },
  {
   "cell_type": "code",
   "execution_count": 51,
   "id": "001e85ed-2570-4181-8fde-09aa04f89d77",
   "metadata": {},
   "outputs": [
    {
     "ename": "ValueError",
     "evalue": "Invalid data types in breadth",
     "output_type": "error",
     "traceback": [
      "\u001b[1;31m---------------------------------------------------------------------------\u001b[0m",
      "\u001b[1;31mValueError\u001b[0m                                Traceback (most recent call last)",
      "Cell \u001b[1;32mIn[51], line 1\u001b[0m\n\u001b[1;32m----> 1\u001b[0m \u001b[43mr\u001b[49m\u001b[38;5;241;43m.\u001b[39;49m\u001b[43mbreadth_setter\u001b[49m\u001b[43m(\u001b[49m\u001b[38;5;124;43m'\u001b[39;49m\u001b[38;5;124;43masdads\u001b[39;49m\u001b[38;5;124;43m'\u001b[39;49m\u001b[43m)\u001b[49m\n",
      "Cell \u001b[1;32mIn[48], line 33\u001b[0m, in \u001b[0;36mRectangle.breadth_setter\u001b[1;34m(self, value)\u001b[0m\n\u001b[0;32m     31\u001b[0m \u001b[38;5;28;01mdef\u001b[39;00m \u001b[38;5;21mbreadth_setter\u001b[39m(\u001b[38;5;28mself\u001b[39m, value):\n\u001b[0;32m     32\u001b[0m     \u001b[38;5;28;01mif\u001b[39;00m \u001b[38;5;129;01mnot\u001b[39;00m \u001b[38;5;28misinstance\u001b[39m(value,(\u001b[38;5;28mint\u001b[39m,\u001b[38;5;28mfloat\u001b[39m)):\n\u001b[1;32m---> 33\u001b[0m         \u001b[38;5;28;01mraise\u001b[39;00m \u001b[38;5;167;01mValueError\u001b[39;00m(\u001b[38;5;124m\"\u001b[39m\u001b[38;5;124mInvalid data types in breadth\u001b[39m\u001b[38;5;124m\"\u001b[39m)\n\u001b[0;32m     34\u001b[0m     \u001b[38;5;28mself\u001b[39m\u001b[38;5;241m.\u001b[39m__breadth \u001b[38;5;241m=\u001b[39m value\n",
      "\u001b[1;31mValueError\u001b[0m: Invalid data types in breadth"
     ]
    }
   ],
   "source": [
    "r.breadth_setter('asdads')"
   ]
  },
  {
   "cell_type": "code",
   "execution_count": null,
   "id": "40520f09-50f0-479a-afb8-beee88d16977",
   "metadata": {},
   "outputs": [],
   "source": []
  },
  {
   "cell_type": "code",
   "execution_count": 63,
   "id": "fc94ef69-f4e0-4f0f-8c70-335d0115e8a8",
   "metadata": {},
   "outputs": [
    {
     "ename": "ValueError",
     "evalue": "Invalid data types suman fix it",
     "output_type": "error",
     "traceback": [
      "\u001b[1;31m---------------------------------------------------------------------------\u001b[0m",
      "\u001b[1;31mValueError\u001b[0m                                Traceback (most recent call last)",
      "Cell \u001b[1;32mIn[63], line 41\u001b[0m\n\u001b[0;32m     37\u001b[0m             \u001b[38;5;28;01mraise\u001b[39;00m \u001b[38;5;167;01mValueError\u001b[39;00m(\u001b[38;5;124m\"\u001b[39m\u001b[38;5;124mInvalid data types suman fix it\u001b[39m\u001b[38;5;124m\"\u001b[39m)\n\u001b[0;32m     40\u001b[0m rec\u001b[38;5;241m=\u001b[39mRectangle(\u001b[38;5;241m3\u001b[39m,\u001b[38;5;241m5\u001b[39m)\n\u001b[1;32m---> 41\u001b[0m \u001b[43mrec\u001b[49m\u001b[38;5;241;43m.\u001b[39;49m\u001b[43mbreadth_setter\u001b[49m\u001b[43m(\u001b[49m\u001b[38;5;124;43m'\u001b[39;49m\u001b[38;5;124;43masdads\u001b[39;49m\u001b[38;5;124;43m'\u001b[39;49m\u001b[43m)\u001b[49m\n",
      "Cell \u001b[1;32mIn[63], line 31\u001b[0m, in \u001b[0;36mRectangle.breadth_setter\u001b[1;34m(self, value)\u001b[0m\n\u001b[0;32m     30\u001b[0m \u001b[38;5;28;01mdef\u001b[39;00m \u001b[38;5;21mbreadth_setter\u001b[39m(\u001b[38;5;28mself\u001b[39m, value):\n\u001b[1;32m---> 31\u001b[0m     \u001b[38;5;28;43mself\u001b[39;49m\u001b[38;5;241;43m.\u001b[39;49m\u001b[43mvalidate\u001b[49m\u001b[43m(\u001b[49m\u001b[43mvalue\u001b[49m\u001b[43m)\u001b[49m\n\u001b[0;32m     32\u001b[0m     \u001b[38;5;28mself\u001b[39m\u001b[38;5;241m.\u001b[39m__breadth \u001b[38;5;241m=\u001b[39m value\n",
      "Cell \u001b[1;32mIn[63], line 37\u001b[0m, in \u001b[0;36mRectangle.validate\u001b[1;34m(self, value)\u001b[0m\n\u001b[0;32m     35\u001b[0m \u001b[38;5;28;01mdef\u001b[39;00m \u001b[38;5;21mvalidate\u001b[39m(\u001b[38;5;28mself\u001b[39m, value):\n\u001b[0;32m     36\u001b[0m      \u001b[38;5;28;01mif\u001b[39;00m \u001b[38;5;129;01mnot\u001b[39;00m \u001b[38;5;28misinstance\u001b[39m(value,(\u001b[38;5;28mint\u001b[39m,\u001b[38;5;28mfloat\u001b[39m)):\n\u001b[1;32m---> 37\u001b[0m         \u001b[38;5;28;01mraise\u001b[39;00m \u001b[38;5;167;01mValueError\u001b[39;00m(\u001b[38;5;124m\"\u001b[39m\u001b[38;5;124mInvalid data types suman fix it\u001b[39m\u001b[38;5;124m\"\u001b[39m)\n",
      "\u001b[1;31mValueError\u001b[0m: Invalid data types suman fix it"
     ]
    }
   ],
   "source": [
    "# Private access modifier example\n",
    "class Rectangle:\n",
    "    def __init__(self, length, breadth):\n",
    "        # Private attributes\n",
    "        self.__length = length\n",
    "        self.__breadth = breadth\n",
    "\n",
    "    # Public method to calculate area\n",
    "    def area(self):\n",
    "        area = self.__length * self.__breadth\n",
    "        return area\n",
    "\n",
    "    # Public method to calculate perimeter\n",
    "    def perimeter(self):\n",
    "        peri = 2 * (self.__length + self.__breadth)\n",
    "        return peri\n",
    "\n",
    "    # Public getter methods to access private attributes\n",
    "    def get_length(self):\n",
    "        return self.__length\n",
    "\n",
    "    def get_breadth(self):\n",
    "        return self.__breadth\n",
    "\n",
    "    # Setter methods to modify private attributes\n",
    "    def length_setter(self, value):\n",
    "        validate(value)\n",
    "        self.__length = value\n",
    "\n",
    "    def breadth_setter(self, value):\n",
    "        self.validate(value)\n",
    "        self.__breadth = value\n",
    "\n",
    "    #private methods\n",
    "    def validate(self, value):\n",
    "         if not isinstance(value,(int,float)):\n",
    "            raise ValueError(\"Invalid data types suman fix it\")\n",
    "        \n",
    "\n",
    "rec=Rectangle(3,5)\n",
    "rec.breadth_setter('asdads')\n"
   ]
  },
  {
   "cell_type": "code",
   "execution_count": 65,
   "id": "f6839ff6-c6fe-4666-a32f-5984ebd16764",
   "metadata": {},
   "outputs": [
    {
     "ename": "AttributeError",
     "evalue": "'Rectangle' object has no attribute 'validate'",
     "output_type": "error",
     "traceback": [
      "\u001b[1;31m---------------------------------------------------------------------------\u001b[0m",
      "\u001b[1;31mAttributeError\u001b[0m                            Traceback (most recent call last)",
      "Cell \u001b[1;32mIn[65], line 41\u001b[0m\n\u001b[0;32m     37\u001b[0m             \u001b[38;5;28;01mraise\u001b[39;00m \u001b[38;5;167;01mValueError\u001b[39;00m(\u001b[38;5;124m\"\u001b[39m\u001b[38;5;124mInvalid data types suman fix it\u001b[39m\u001b[38;5;124m\"\u001b[39m)\n\u001b[0;32m     40\u001b[0m rec\u001b[38;5;241m=\u001b[39mRectangle(\u001b[38;5;241m3\u001b[39m,\u001b[38;5;241m5\u001b[39m)\n\u001b[1;32m---> 41\u001b[0m \u001b[43mrec\u001b[49m\u001b[38;5;241;43m.\u001b[39;49m\u001b[43mbreadth_setter\u001b[49m\u001b[43m(\u001b[49m\u001b[38;5;124;43m'\u001b[39;49m\u001b[38;5;124;43masdads\u001b[39;49m\u001b[38;5;124;43m'\u001b[39;49m\u001b[43m)\u001b[49m\n",
      "Cell \u001b[1;32mIn[65], line 31\u001b[0m, in \u001b[0;36mRectangle.breadth_setter\u001b[1;34m(self, value)\u001b[0m\n\u001b[0;32m     30\u001b[0m \u001b[38;5;28;01mdef\u001b[39;00m \u001b[38;5;21mbreadth_setter\u001b[39m(\u001b[38;5;28mself\u001b[39m, value):\n\u001b[1;32m---> 31\u001b[0m     \u001b[38;5;28;43mself\u001b[39;49m\u001b[38;5;241;43m.\u001b[39;49m\u001b[43mvalidate\u001b[49m(value)\n\u001b[0;32m     32\u001b[0m     \u001b[38;5;28mself\u001b[39m\u001b[38;5;241m.\u001b[39m__breadth \u001b[38;5;241m=\u001b[39m value\n",
      "\u001b[1;31mAttributeError\u001b[0m: 'Rectangle' object has no attribute 'validate'"
     ]
    }
   ],
   "source": [
    "# Private access modifier example\n",
    "class Rectangle:\n",
    "    def __init__(self, length, breadth):\n",
    "        # Private attributes\n",
    "        self.__length = length\n",
    "        self.__breadth = breadth\n",
    "\n",
    "    # Public method to calculate area\n",
    "    def area(self):\n",
    "        area = self.__length * self.__breadth\n",
    "        return area\n",
    "\n",
    "    # Public method to calculate perimeter\n",
    "    def perimeter(self):\n",
    "        peri = 2 * (self.__length + self.__breadth)\n",
    "        return peri\n",
    "\n",
    "    # Public getter methods to access private attributes\n",
    "    def get_length(self):\n",
    "        return self.__length\n",
    "\n",
    "    def get_breadth(self):\n",
    "        return self.__breadth\n",
    "\n",
    "    # Setter methods to modify private attributes\n",
    "    def length_setter(self, value):\n",
    "        validate(value)\n",
    "        self.__length = value\n",
    "\n",
    "    def breadth_setter(self, value):\n",
    "        self.validate(value)\n",
    "        self.__breadth = value\n",
    "\n",
    "    #private methods\n",
    "    def __validate(self, value):\n",
    "         if not isinstance(value,(int,float)):\n",
    "            raise ValueError(\"Invalid data types suman fix it\")\n",
    "        \n",
    "\n",
    "rec=Rectangle(3,5)\n",
    "rec.breadth_setter('asdads')\n"
   ]
  },
  {
   "cell_type": "code",
   "execution_count": null,
   "id": "e023601a-a39f-497a-85a6-464319b13511",
   "metadata": {},
   "outputs": [],
   "source": []
  },
  {
   "cell_type": "code",
   "execution_count": null,
   "id": "f06062fc-8a03-498a-8dba-7799bcdd5870",
   "metadata": {},
   "outputs": [],
   "source": []
  }
 ],
 "metadata": {
  "kernelspec": {
   "display_name": "Python 3 (ipykernel)",
   "language": "python",
   "name": "python3"
  },
  "language_info": {
   "codemirror_mode": {
    "name": "ipython",
    "version": 3
   },
   "file_extension": ".py",
   "mimetype": "text/x-python",
   "name": "python",
   "nbconvert_exporter": "python",
   "pygments_lexer": "ipython3",
   "version": "3.12.4"
  }
 },
 "nbformat": 4,
 "nbformat_minor": 5
}
