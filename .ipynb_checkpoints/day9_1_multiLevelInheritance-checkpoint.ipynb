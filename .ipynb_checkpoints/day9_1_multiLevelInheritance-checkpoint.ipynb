{
 "cells": [
  {
   "cell_type": "code",
   "execution_count": 1,
   "id": "11a12c25-858e-4be9-9403-59dd400811da",
   "metadata": {},
   "outputs": [],
   "source": [
    "#multi level inheritance\n",
    "\n"
   ]
  },
  {
   "cell_type": "code",
   "execution_count": 2,
   "id": "2d16e1e8",
   "metadata": {},
   "outputs": [],
   "source": [
    "class Person:\n",
    "    pass\n",
    "class Students(Person):\n",
    "    pass\n",
    "class BachelorStudent(Students):\n",
    "    pass"
   ]
  },
  {
   "cell_type": "code",
   "execution_count": null,
   "id": "1d544421-a116-4dc8-90ae-02097c9f2e2c",
   "metadata": {},
   "outputs": [],
   "source": [
    "#single inheritance\n",
    "class Person:\n",
    "    def __init__(self, name ,age, address):\n",
    "        self.name = name\n",
    "        self.age = age\n",
    "        self.address = address\n",
    "    \n",
    "    def eat(self): # self is object\n",
    "        print(f'{self.name} is eating')\n",
    "    \n",
    "    def sleep(self):\n",
    "        print(f'{self.name} is sleeping')\n",
    "    \n",
    "    def walk(self):\n",
    "        print(f'{self.name} is walking')\n",
    "        \n",
    "    def info(self):\n",
    "        print(f\"Name: {self.name}\")\n",
    "        print(f\"Age: {self.age}\")\n",
    "        print(f\"Address: {self.address}\")\n",
    "\n",
    "class Student(Person):\n",
    "    def __init__(self, name, age, address, college, faculty, roll_no):\n",
    "        super.__init__(name,age,address)\n",
    "        self.name = name\n",
    "        self.age = age        \n",
    "        self.address = address        \n",
    "        self.college = college\n",
    "        self.faculty = faculty        \n",
    "        self.roll_no = roll_no\n",
    "        \n",
    "        print(f\"Name: {self.name}\")\n",
    "        print(f\"Age: {self.age}\")\n",
    "        print(f\"Address: {self.address}\")\n",
    "        print(f\"College: {self.college}\")\n",
    "        print(f\"Faculty: {self.faculty}\")\n",
    "        print(f\"Roll no: {self.roll_no}\")\n",
    "        print(f\"Subjects: {self.subjects}\")\n",
    "\n",
    "\n",
    "class BachelorStudent(Student):\n",
    "    "
   ]
  }
 ],
 "metadata": {
  "kernelspec": {
   "display_name": "Python 3",
   "language": "python",
   "name": "python3"
  },
  "language_info": {
   "codemirror_mode": {
    "name": "ipython",
    "version": 3
   },
   "file_extension": ".py",
   "mimetype": "text/x-python",
   "name": "python",
   "nbconvert_exporter": "python",
   "pygments_lexer": "ipython3",
   "version": "3.12.4"
  }
 },
 "nbformat": 4,
 "nbformat_minor": 5
}
