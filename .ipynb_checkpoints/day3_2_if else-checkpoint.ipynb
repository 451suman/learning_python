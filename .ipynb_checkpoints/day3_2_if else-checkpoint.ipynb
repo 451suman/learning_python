{
 "cells": [
  {
   "cell_type": "code",
   "execution_count": 4,
   "id": "3dbefcd2-bbd7-4f2e-bf53-aeb0523fd7e1",
   "metadata": {},
   "outputs": [
    {
     "name": "stdin",
     "output_type": "stream",
     "text": [
      "enter the value of x= 9\n",
      "enter the value of y= 8\n",
      "enter the value of z= 7\n"
     ]
    },
    {
     "name": "stdout",
     "output_type": "stream",
     "text": [
      "value of x is geater\n"
     ]
    }
   ],
   "source": [
    "x = int(input(\"enter the value of x=\"))\n",
    "y = int(input(\"enter the value of y=\"))\n",
    "z = int(input(\"enter the value of z=\"))\n",
    "if (x>y and x>z):\n",
    "    print(\"value of x is geater\")\n",
    "elif  (y>x and y>z):\n",
    "    print(\"value of y is greater\")\n",
    "else:\n",
    "    print(\"value of z is greater\")\n",
    "\n"
   ]
  },
  {
   "cell_type": "code",
   "execution_count": 7,
   "id": "a934474c-f7ff-4d68-9577-4d4653e31edb",
   "metadata": {},
   "outputs": [
    {
     "name": "stdout",
     "output_type": "stream",
     "text": [
      "hello1\n"
     ]
    }
   ],
   "source": [
    "if True:\n",
    "    print(\"hello1\")  #first condition is true so  aaru condition check garena\n",
    "elif True:\n",
    "    print(\"hello2\") # mathi ko condition is true os eliif condition ma ayena\n",
    "else:\n",
    "    print(\"hello3\")"
   ]
  },
  {
   "cell_type": "code",
   "execution_count": 4,
   "id": "dabdf93a-e02b-434e-8a76-13ad19544b99",
   "metadata": {},
   "outputs": [
    {
     "name": "stdout",
     "output_type": "stream",
     "text": [
      "hello2\n"
     ]
    }
   ],
   "source": [
    "if False:\n",
    "    print(\"hello1\") \n",
    "elif True:\n",
    "    print(\"hello2\")\n",
    "else:\n",
    "    print(\"hello3\")"
   ]
  },
  {
   "cell_type": "code",
   "execution_count": 8,
   "id": "7c4b5ef2-e742-4a29-a963-82661a602cb9",
   "metadata": {},
   "outputs": [
    {
     "name": "stdin",
     "output_type": "stream",
     "text": [
      "enter a username admin\n",
      "enter a password suman\n"
     ]
    },
    {
     "name": "stdout",
     "output_type": "stream",
     "text": [
      "welcome to dashboard\n"
     ]
    }
   ],
   "source": [
    "username=input(\"enter a username\")\n",
    "password=input(\"enter a password\")\n",
    "if (username == \"admin\" and password == \"suman\"):\n",
    "    print(\"welcome to dashboard\")\n",
    "else:\n",
    "    print(\"please insert validate username and password\") "
   ]
  },
  {
   "cell_type": "code",
   "execution_count": 13,
   "id": "0ae8b60c-9f36-4d72-a86a-7c10fa8437f7",
   "metadata": {},
   "outputs": [
    {
     "name": "stdin",
     "output_type": "stream",
     "text": [
      "enter a username asda\n",
      "enter a password asd\n",
      "enter a secrete key 12345\n"
     ]
    },
    {
     "name": "stdout",
     "output_type": "stream",
     "text": [
      "error\n"
     ]
    }
   ],
   "source": [
    "username=input(\"enter a username\")\n",
    "password=input(\"enter a password\")\n",
    "secret=input(\"enter a secrete key\")\n",
    "if (username==\"admin\" and password == \"suman\") or (username==\"admin\" and secret ==\"12345\"):\n",
    "    print(\"login successfull\")\n",
    "else:\n",
    "    print(\"error\")\n"
   ]
  },
  {
   "cell_type": "code",
   "execution_count": 15,
   "id": "94362758-5032-4767-a35c-da145703c0dc",
   "metadata": {},
   "outputs": [
    {
     "name": "stdin",
     "output_type": "stream",
     "text": [
      "enter a username admin\n",
      "enter a password suman\n"
     ]
    },
    {
     "name": "stdout",
     "output_type": "stream",
     "text": [
      "login successfull\n"
     ]
    }
   ],
   "source": [
    "username=input(\"enter a username\")\n",
    "password=input(\"enter a password\")\n",
    "\n",
    "if (username==\"admin\" and password == \"suman\"):\n",
    "    print(\"login successfull\")\n",
    "\n",
    "else:\n",
    "    secret=input(\"enter a secrete key\")\n",
    "    if(secret ==\"12345\"):\n",
    "     print(\"login successfull\")\n",
    "    else:\n",
    "         print(\"login failed\")\n"
   ]
  },
  {
   "cell_type": "code",
   "execution_count": 18,
   "id": "adcd6cee-d7f8-4c2d-8e3b-3283cac3c3f3",
   "metadata": {},
   "outputs": [
    {
     "name": "stdin",
     "output_type": "stream",
     "text": [
      "enter a username adsn\n",
      "enter a password asd\n",
      "enter a secrete key asd\n"
     ]
    },
    {
     "name": "stdout",
     "output_type": "stream",
     "text": [
      "login failed\n"
     ]
    }
   ],
   "source": [
    "username=input(\"enter a username\")\n",
    "password=input(\"enter a password\")\n",
    "\n",
    "if (username==\"admin\" and password == \"suman\"):\n",
    "    print(\"login successfull\")\n",
    "\n",
    "elif(username!=\"admin\" or password != \"suman\"):\n",
    "    secret=input(\"enter a secrete key\")\n",
    "    if(secret ==\"12345\"):\n",
    "     print(\"login successfull\")\n",
    "    else:\n",
    "         print(\"login failed\")\n"
   ]
  },
  {
   "cell_type": "code",
   "execution_count": 32,
   "id": "3b8341d6-e816-440b-a06e-964f4ff0cbc2",
   "metadata": {},
   "outputs": [
    {
     "name": "stdin",
     "output_type": "stream",
     "text": [
      "english= 44\n",
      "math= 55\n",
      "java= 66\n",
      "c= 77\n",
      "distributed system =  88\n"
     ]
    },
    {
     "name": "stdout",
     "output_type": "stream",
     "text": [
      "total= 330\n",
      "average = 66.0\n",
      "first division\n"
     ]
    }
   ],
   "source": [
    "eng=int(input(\"english=\"))\n",
    "math=int(input(\"math=\"))\n",
    "java=int(input(\"java=\"))\n",
    "c=int(input(\"c=\"))\n",
    "dis=int(input(\"distributed system = \"))\n",
    "total =eng + math + dis+ java+ c\n",
    "print(f\"total= {total}\")\n",
    "avg = (total/5)\n",
    "print(f\"average = {avg}\")\n",
    "if(avg>=80):\n",
    "    print(\"distinsion\")\n",
    "elif(avg>=60 and avg<80):\n",
    "    print(\"first division\")\n",
    "elif(agv>=50 and avg<60):\n",
    "    print(\"second division\")\n",
    "elif(avg>=35 and avg<50):\n",
    "    print(\"third division\")\n",
    "else:\n",
    "    print(\"failed\")"
   ]
  },
  {
   "cell_type": "code",
   "execution_count": 38,
   "id": "c122ca99-a116-4448-a1c4-4e9d2bed94ce",
   "metadata": {},
   "outputs": [
    {
     "name": "stdin",
     "output_type": "stream",
     "text": [
      "enter a age= 15\n"
     ]
    },
    {
     "name": "stdout",
     "output_type": "stream",
     "text": [
      "young\n"
     ]
    }
   ],
   "source": [
    "age=int(input(\"enter a age=\"))\n",
    "if(age>1 and age<=13):\n",
    "    print (\"teenage\")\n",
    "elif(age>13 and age<=18):\n",
    "    print(\"young\")\n",
    "elif(age>18 and age<=35):\n",
    "    print(\"adult\")\n",
    "elif(age>35 and age <= 45):\n",
    "    print(\"old\")\n",
    "else:\n",
    "    print(\"very old\")"
   ]
  },
  {
   "cell_type": "code",
   "execution_count": null,
   "id": "558e3392-7c3e-4e9f-98ad-625fcc705885",
   "metadata": {},
   "outputs": [],
   "source": []
  }
 ],
 "metadata": {
  "kernelspec": {
   "display_name": "Python 3 (ipykernel)",
   "language": "python",
   "name": "python3"
  },
  "language_info": {
   "codemirror_mode": {
    "name": "ipython",
    "version": 3
   },
   "file_extension": ".py",
   "mimetype": "text/x-python",
   "name": "python",
   "nbconvert_exporter": "python",
   "pygments_lexer": "ipython3",
   "version": "3.12.4"
  }
 },
 "nbformat": 4,
 "nbformat_minor": 5
}
