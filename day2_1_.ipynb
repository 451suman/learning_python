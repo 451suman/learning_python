{
 "cells": [
  {
   "cell_type": "code",
   "execution_count": 3,
   "id": "04130436-a51e-4235-8f14-4dd34391ed9e",
   "metadata": {},
   "outputs": [
    {
     "name": "stdout",
     "output_type": "stream",
     "text": [
      "{'id': 1, 'name': 'ram', 'age': 22, 'contact': 646546, 'salary': 456645}\n"
     ]
    }
   ],
   "source": [
    "person={\n",
    "    \"id\":1,\n",
    "    \"name\":\"ram\",\n",
    "    \"age\":22,\n",
    "    'contact':646546,\n",
    "    'salary':456645,\n",
    "}\n",
    "print(person)"
   ]
  },
  {
   "cell_type": "code",
   "execution_count": 9,
   "id": "df5ea743-f410-473e-a651-79a975dacc23",
   "metadata": {},
   "outputs": [
    {
     "ename": "TypeError",
     "evalue": "'builtin_function_or_method' object is not subscriptable",
     "output_type": "error",
     "traceback": [
      "\u001b[1;31m---------------------------------------------------------------------------\u001b[0m",
      "\u001b[1;31mTypeError\u001b[0m                                 Traceback (most recent call last)",
      "Cell \u001b[1;32mIn[9], line 8\u001b[0m\n\u001b[0;32m      1\u001b[0m person\u001b[38;5;241m=\u001b[39m{\n\u001b[0;32m      2\u001b[0m     \u001b[38;5;124m\"\u001b[39m\u001b[38;5;124mid\u001b[39m\u001b[38;5;124m\"\u001b[39m:\u001b[38;5;241m1\u001b[39m,\n\u001b[0;32m      3\u001b[0m     \u001b[38;5;124m\"\u001b[39m\u001b[38;5;124mname\u001b[39m\u001b[38;5;124m\"\u001b[39m:\u001b[38;5;124m\"\u001b[39m\u001b[38;5;124mram\u001b[39m\u001b[38;5;124m\"\u001b[39m,\n\u001b[1;32m   (...)\u001b[0m\n\u001b[0;32m      6\u001b[0m     \u001b[38;5;124m'\u001b[39m\u001b[38;5;124msalary\u001b[39m\u001b[38;5;124m'\u001b[39m:\u001b[38;5;241m456645\u001b[39m,\n\u001b[0;32m      7\u001b[0m }\n\u001b[1;32m----> 8\u001b[0m \u001b[38;5;28;43mprint\u001b[39;49m\u001b[43m[\u001b[49m\u001b[38;5;124;43m'\u001b[39;49m\u001b[38;5;124;43mname\u001b[39;49m\u001b[38;5;124;43m'\u001b[39;49m\u001b[43m]\u001b[49m\n",
      "\u001b[1;31mTypeError\u001b[0m: 'builtin_function_or_method' object is not subscriptable"
     ]
    }
   ],
   "source": [
    "person={\n",
    "    \"id\":1,\n",
    "    \"name\":\"ram\",\n",
    "    \"age\":22,\n",
    "    'contact':646546,\n",
    "    'salary':456645,\n",
    "}\n",
    "print['name']"
   ]
  },
  {
   "cell_type": "code",
   "execution_count": 12,
   "id": "2accb129",
   "metadata": {},
   "outputs": [
    {
     "name": "stdout",
     "output_type": "stream",
     "text": [
      "{'id': 1, 'name': 'ram', 'age': 22, 'contact': 646546, 'salary': 456645, 'email': 'suman@gmail.com'}\n"
     ]
    }
   ],
   "source": [
    "person={\n",
    "    \"id\":1,\n",
    "    \"name\":\"ram\",\n",
    "    \"age\":22,\n",
    "    'contact':646546,\n",
    "    'salary':456645,\n",
    "}\n",
    "person['email']='suman@gmail.com'\n",
    "print(person)"
   ]
  },
  {
   "cell_type": "code",
   "execution_count": 13,
   "id": "55ad3b09",
   "metadata": {},
   "outputs": [
    {
     "name": "stdout",
     "output_type": "stream",
     "text": [
      "{'id': 1, 'name': 'ram', 'contact': 646546, 'salary': 456645}\n"
     ]
    }
   ],
   "source": [
    "person={\n",
    "    \"id\":1,\n",
    "    \"name\":\"ram\",\n",
    "    \"age\":22,\n",
    "    'contact':646546,\n",
    "    'salary':456645,\n",
    "}\n",
    "del person['age']\n",
    "print(person)"
   ]
  },
  {
   "cell_type": "code",
   "execution_count": 15,
   "id": "ed1216f2",
   "metadata": {},
   "outputs": [
    {
     "name": "stdout",
     "output_type": "stream",
     "text": [
      "{}\n"
     ]
    }
   ],
   "source": [
    "person={\n",
    "    \"id\":1,\n",
    "    \"name\":\"ram\",\n",
    "    \"age\":22,\n",
    "    'contact':646546,\n",
    "    'salary':456645,\n",
    "}\n",
    "person.clear()\n",
    "print(person)"
   ]
  },
  {
   "cell_type": "code",
   "execution_count": 1,
   "id": "10809388",
   "metadata": {},
   "outputs": [
    {
     "name": "stdout",
     "output_type": "stream",
     "text": [
      "{'id': 1, 'name': 'ram', 'age': 22, 'contact': 646546, 'salary': 456645, 'email': 'suman@gmail.com'}\n",
      "{'id': 1, 'name': 'ram', 'age': 22, 'contact': 646546, 'salary': 456645, 'email': 'suman@gmail.com'}\n"
     ]
    }
   ],
   "source": [
    "x={\n",
    "    \"id\":1,\n",
    "    \"name\":\"ram\",\n",
    "    \"age\":22,\n",
    "    'contact':646546,\n",
    "    'salary':456645,\n",
    "}\n",
    "y=x\n",
    "y['email']='suman@gmail.com'\n",
    "print(x)\n",
    "print(y) #ys ma both x and y  print garda both le email print garcha"
   ]
  },
  {
   "cell_type": "code",
   "execution_count": 3,
   "id": "e0e6bd39",
   "metadata": {},
   "outputs": [
    {
     "name": "stdout",
     "output_type": "stream",
     "text": [
      "{'id': 1, 'name': 'ram', 'age': 22, 'contact': 646546, 'salary': 456645}\n",
      "{'id': 1, 'name': 'ram', 'age': 22, 'contact': 646546, 'salary': 456645, 'email': 'suman@gmail.com'}\n"
     ]
    }
   ],
   "source": [
    "x={\n",
    "    \"id\":1,\n",
    "    \"name\":\"ram\",\n",
    "    \"age\":22,\n",
    "    'contact':646546,\n",
    "    'salary':456645,\n",
    "}\n",
    "y=x.copy() #copy() prenvents fromprinting email while printing in y\n",
    "y['email']='suman@gmail.com'\n",
    "print(x)\n",
    "print(y)"
   ]
  },
  {
   "cell_type": "code",
   "execution_count": 5,
   "id": "f74a689c",
   "metadata": {},
   "outputs": [
    {
     "name": "stdout",
     "output_type": "stream",
     "text": [
      "dict_keys(['id', 'name', 'age', 'contact', 'salary'])\n"
     ]
    }
   ],
   "source": [
    "x={\n",
    "    \"id\":1, #\"keys\":value\n",
    "    \"name\":\"ram\",\n",
    "    \"age\":22,\n",
    "    'contact':646546,\n",
    "    'salary':456645,\n",
    "}\n",
    "print(x.keys()) #prints only keys"
   ]
  },
  {
   "cell_type": "code",
   "execution_count": 6,
   "id": "34409c5b",
   "metadata": {},
   "outputs": [
    {
     "name": "stdout",
     "output_type": "stream",
     "text": [
      "dict_values([1, 'ram', 22, 646546, 456645])\n"
     ]
    }
   ],
   "source": [
    "x={\n",
    "    \"id\":1, #\"keys\":value\n",
    "    \"name\":\"ram\",\n",
    "    \"age\":22,\n",
    "    'contact':646546,\n",
    "    'salary':456645,\n",
    "}\n",
    "print(x.values()) #prints only Values"
   ]
  },
  {
   "cell_type": "code",
   "execution_count": 7,
   "id": "ce76aeee",
   "metadata": {},
   "outputs": [
    {
     "name": "stdout",
     "output_type": "stream",
     "text": [
      "dict_items([('id', 1), ('name', 'ram'), ('age', 22), ('contact', 646546), ('salary', 456645)])\n"
     ]
    }
   ],
   "source": [
    "x={\n",
    "    \"id\":1, #\"keys\":value\n",
    "    \"name\":\"ram\",\n",
    "    \"age\":22,\n",
    "    'contact':646546,\n",
    "    'salary':456645,\n",
    "}\n",
    "print(x.items()) #prints in the form of ([('keys',value)])"
   ]
  },
  {
   "cell_type": "code",
   "execution_count": 10,
   "id": "cb3e1e93",
   "metadata": {},
   "outputs": [
    {
     "name": "stdout",
     "output_type": "stream",
     "text": [
      "{'id': 1, 'name': 'ram', 'age': 22, 'contact': 646546, 'salary': 456645, 'email': 'suman@gmail.com', 'college': 'danfe'}\n"
     ]
    }
   ],
   "source": [
    "x={\n",
    "    \"id\":1, #\"keys\":value\n",
    "    \"name\":\"ram\",\n",
    "    \"age\":22,\n",
    "    'contact':646546,\n",
    "    'salary':456645,\n",
    "}\n",
    "x.update({\"email\":'suman@gmail.com','college':'danfe'}) #update the dictnary\n",
    "print(x)"
   ]
  },
  {
   "cell_type": "code",
   "execution_count": null,
   "id": "79d22d0b",
   "metadata": {},
   "outputs": [],
   "source": []
  }
 ],
 "metadata": {
  "kernelspec": {
   "display_name": "Python 3 (ipykernel)",
   "language": "python",
   "name": "python3"
  },
  "language_info": {
   "codemirror_mode": {
    "name": "ipython",
    "version": 3
   },
   "file_extension": ".py",
   "mimetype": "text/x-python",
   "name": "python",
   "nbconvert_exporter": "python",
   "pygments_lexer": "ipython3",
   "version": "3.12.4"
  }
 },
 "nbformat": 4,
 "nbformat_minor": 5
}
