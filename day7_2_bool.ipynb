{
 "cells": [
  {
   "cell_type": "code",
   "execution_count": 1,
   "id": "d0f84245-bd86-4b5c-85b7-7c9ec015bfe9",
   "metadata": {},
   "outputs": [
    {
     "data": {
      "text/plain": [
       "False"
      ]
     },
     "execution_count": 1,
     "metadata": {},
     "output_type": "execute_result"
    }
   ],
   "source": [
    "#Boolean value / truthness"
   ]
  },
  {
   "cell_type": "code",
   "execution_count": 7,
   "id": "b35b20dd-bbd5-4c5a-b06e-fb70a247a856",
   "metadata": {},
   "outputs": [
    {
     "data": {
      "text/plain": [
       "False"
      ]
     },
     "execution_count": 7,
     "metadata": {},
     "output_type": "execute_result"
    }
   ],
   "source": [
    "bool(0)"
   ]
  },
  {
   "cell_type": "code",
   "execution_count": 3,
   "id": "c8c769eb-2a32-4efb-9876-5fafb693f910",
   "metadata": {},
   "outputs": [
    {
     "data": {
      "text/plain": [
       "False"
      ]
     },
     "execution_count": 3,
     "metadata": {},
     "output_type": "execute_result"
    }
   ],
   "source": [
    "bool('')"
   ]
  },
  {
   "cell_type": "code",
   "execution_count": 5,
   "id": "489d305a-a336-4db8-bb52-2eb4511ced37",
   "metadata": {},
   "outputs": [
    {
     "data": {
      "text/plain": [
       "False"
      ]
     },
     "execution_count": 5,
     "metadata": {},
     "output_type": "execute_result"
    }
   ],
   "source": [
    "bool(None)"
   ]
  },
  {
   "cell_type": "code",
   "execution_count": 6,
   "id": "e7f419be-45c6-4785-915d-a20f739df4ea",
   "metadata": {},
   "outputs": [
    {
     "data": {
      "text/plain": [
       "False"
      ]
     },
     "execution_count": 6,
     "metadata": {},
     "output_type": "execute_result"
    }
   ],
   "source": [
    "bool(False)"
   ]
  },
  {
   "cell_type": "code",
   "execution_count": 8,
   "id": "bf749f68-8df6-4549-a980-a8e668ab8031",
   "metadata": {},
   "outputs": [],
   "source": [
    "#0,  0.0, NOne, [], {}, set(), False =>boolean value / truthness is false"
   ]
  },
  {
   "cell_type": "code",
   "execution_count": 9,
   "id": "3eba1f24-9583-4c5c-865d-c585ba90009d",
   "metadata": {},
   "outputs": [
    {
     "data": {
      "text/plain": [
       "True"
      ]
     },
     "execution_count": 9,
     "metadata": {},
     "output_type": "execute_result"
    }
   ],
   "source": [
    "bool(-1)"
   ]
  },
  {
   "cell_type": "code",
   "execution_count": 12,
   "id": "b65270c6-7e9d-43b8-9dca-3fd822026f96",
   "metadata": {},
   "outputs": [
    {
     "data": {
      "text/plain": [
       "True"
      ]
     },
     "execution_count": 12,
     "metadata": {},
     "output_type": "execute_result"
    }
   ],
   "source": [
    "bool('0') # it is true because  0 is in the form of string"
   ]
  },
  {
   "cell_type": "code",
   "execution_count": 14,
   "id": "ffd32582-2a07-43b2-8e5d-6a50d263fac5",
   "metadata": {},
   "outputs": [
    {
     "data": {
      "text/plain": [
       "False"
      ]
     },
     "execution_count": 14,
     "metadata": {},
     "output_type": "execute_result"
    }
   ],
   "source": [
    "any([0,'',None,[],{},set(),False])"
   ]
  },
  {
   "cell_type": "code",
   "execution_count": 15,
   "id": "26755ba1-1741-4c85-91cf-05d239ddd84e",
   "metadata": {},
   "outputs": [
    {
     "data": {
      "text/plain": [
       "True"
      ]
     },
     "execution_count": 15,
     "metadata": {},
     "output_type": "execute_result"
    }
   ],
   "source": [
    "any([0,'',None,[],{},set(),False, 1])  # one of the value is true just like OR operator"
   ]
  },
  {
   "cell_type": "code",
   "execution_count": 16,
   "id": "92b053e3-45d9-41fd-863f-0e61e59c162c",
   "metadata": {},
   "outputs": [
    {
     "data": {
      "text/plain": [
       "False"
      ]
     },
     "execution_count": 16,
     "metadata": {},
     "output_type": "execute_result"
    }
   ],
   "source": [
    " all([0,'',None,[],{},set(),False]) # all => ys ma all must be true just like and operator"
   ]
  },
  {
   "cell_type": "code",
   "execution_count": 18,
   "id": "6ffe3030-e4b1-4e6a-9e3c-a29decf4fba4",
   "metadata": {},
   "outputs": [
    {
     "data": {
      "text/plain": [
       "True"
      ]
     },
     "execution_count": 18,
     "metadata": {},
     "output_type": "execute_result"
    }
   ],
   "source": [
    "all([1,True,'hello']) # all => ys ma all must be true just like and operator"
   ]
  },
  {
   "cell_type": "code",
   "execution_count": 19,
   "id": "b2f8af29-6e49-4dd1-b559-403e2d3e500a",
   "metadata": {},
   "outputs": [
    {
     "name": "stdout",
     "output_type": "stream",
     "text": [
      "Help on class filter in module builtins:\n",
      "\n",
      "class filter(object)\n",
      " |  filter(function or None, iterable) --> filter object\n",
      " |\n",
      " |  Return an iterator yielding those items of iterable for which function(item)\n",
      " |  is true. If function is None, return the items that are true.\n",
      " |\n",
      " |  Methods defined here:\n",
      " |\n",
      " |  __getattribute__(self, name, /)\n",
      " |      Return getattr(self, name).\n",
      " |\n",
      " |  __iter__(self, /)\n",
      " |      Implement iter(self).\n",
      " |\n",
      " |  __next__(self, /)\n",
      " |      Implement next(self).\n",
      " |\n",
      " |  __reduce__(...)\n",
      " |      Return state information for pickling.\n",
      " |\n",
      " |  ----------------------------------------------------------------------\n",
      " |  Static methods defined here:\n",
      " |\n",
      " |  __new__(*args, **kwargs)\n",
      " |      Create and return a new object.  See help(type) for accurate signature.\n",
      "\n"
     ]
    }
   ],
   "source": [
    "help(filter)"
   ]
  },
  {
   "cell_type": "code",
   "execution_count": 22,
   "id": "0f80249e-b31b-47c6-a863-5f3d257e3779",
   "metadata": {},
   "outputs": [],
   "source": [
    "#filter  fi=unction helps to filter true value and display it"
   ]
  },
  {
   "cell_type": "code",
   "execution_count": 23,
   "id": "fc45570f-c577-4cee-b1ba-8bbe7f9d4381",
   "metadata": {},
   "outputs": [
    {
     "name": "stdout",
     "output_type": "stream",
     "text": [
      "[1, 2, 5, 'ram', 3.2]\n"
     ]
    }
   ],
   "source": [
    "filtered_list = list(filter(None, [1, 2, 0, False, 5, 'ram', {}, 3.2]))\n",
    "print(filtered_list)\n"
   ]
  },
  {
   "cell_type": "code",
   "execution_count": 37,
   "id": "1f3a80cd-c382-46ac-be0e-f8ca5c7c2c7c",
   "metadata": {},
   "outputs": [
    {
     "name": "stdin",
     "output_type": "stream",
     "text": [
      "number= 4\n"
     ]
    },
    {
     "name": "stdout",
     "output_type": "stream",
     "text": [
      "False\n"
     ]
    }
   ],
   "source": [
    "def check_odd(x):\n",
    "    if x%2!= 0:\n",
    "        return True\n",
    "    else:\n",
    "        return False\n",
    "\n",
    "c=int(input(\"number=\"))\n",
    "print(check_odd(c))"
   ]
  },
  {
   "cell_type": "code",
   "execution_count": 38,
   "id": "bfd77d20-5756-4682-8a3b-da09f5df77f4",
   "metadata": {},
   "outputs": [
    {
     "data": {
      "text/plain": [
       "[1, 3.2]"
      ]
     },
     "execution_count": 38,
     "metadata": {},
     "output_type": "execute_result"
    }
   ],
   "source": [
    "list(filter(check_odd, [1, 2, 0, 3.2]))     \n",
    "#check vaneko function call one by one\n",
    "\n",
    "# and print oonly true value\n"
   ]
  },
  {
   "cell_type": "code",
   "execution_count": 41,
   "id": "db7007a9-41f0-4915-bbd1-2f99d034dbe0",
   "metadata": {},
   "outputs": [
    {
     "data": {
      "text/plain": [
       "False"
      ]
     },
     "execution_count": 41,
     "metadata": {},
     "output_type": "execute_result"
    }
   ],
   "source": [
    "is_odd = lambda n :  n%2==1\n",
    "is_odd(1)\n",
    "# lamda n: condition\n",
    "#LAMBA FUNCTION ALWAYS CHECKS  ONLY TRUE / false  VALUE "
   ]
  },
  {
   "cell_type": "code",
   "execution_count": 42,
   "id": "af32885a-1d03-4b82-9be2-cc1fd1615af6",
   "metadata": {},
   "outputs": [
    {
     "data": {
      "text/plain": [
       "False"
      ]
     },
     "execution_count": 42,
     "metadata": {},
     "output_type": "execute_result"
    }
   ],
   "source": [
    "is_odd(2)"
   ]
  },
  {
   "cell_type": "code",
   "execution_count": 46,
   "id": "4929c039-fee8-41fe-a847-ef94a73100e4",
   "metadata": {},
   "outputs": [
    {
     "data": {
      "text/plain": [
       "[24, 12, 2, 34, 6]"
      ]
     },
     "execution_count": 46,
     "metadata": {},
     "output_type": "execute_result"
    }
   ],
   "source": [
    "list(filter(lambda n: n%2==0,[1,24,23,12,2,34,55,6]))  #return only even numbers"
   ]
  },
  {
   "cell_type": "code",
   "execution_count": 49,
   "id": "dfcba3a4-3896-4d4f-bc07-0c4a118b9d00",
   "metadata": {},
   "outputs": [
    {
     "data": {
      "text/plain": [
       "[1, 4, 9, 16, 25]"
      ]
     },
     "execution_count": 49,
     "metadata": {},
     "output_type": "execute_result"
    }
   ],
   "source": [
    "def square (n):\n",
    "    return n **2\n",
    "\n",
    "\n",
    "list(map(square,[1,2,3,4,5]))"
   ]
  },
  {
   "cell_type": "code",
   "execution_count": 50,
   "id": "e62e8c0f-e72a-4747-9cfc-c714f73c93c7",
   "metadata": {},
   "outputs": [
    {
     "data": {
      "text/plain": [
       "<map at 0x12db25d90c0>"
      ]
     },
     "execution_count": 50,
     "metadata": {},
     "output_type": "execute_result"
    }
   ],
   "source": [
    "map(square,[1,2,3,4,5])"
   ]
  },
  {
   "cell_type": "code",
   "execution_count": 51,
   "id": "b64b651c-bf67-466e-a39c-cd8a9b94bbbc",
   "metadata": {},
   "outputs": [
    {
     "data": {
      "text/plain": [
       "[1, 4, 9, 16, 25]"
      ]
     },
     "execution_count": 51,
     "metadata": {},
     "output_type": "execute_result"
    }
   ],
   "source": [
    "list(map(lambda n: n**2,[1,2,3,4,5]))"
   ]
  },
  {
   "cell_type": "code",
   "execution_count": 52,
   "id": "73ce7373-0aa9-4b52-9cc8-2e779dea155f",
   "metadata": {},
   "outputs": [
    {
     "data": {
      "text/plain": [
       "5"
      ]
     },
     "execution_count": 52,
     "metadata": {},
     "output_type": "execute_result"
    }
   ],
   "source": [
    "addition = lambda x,y : x+y\n",
    "\n",
    "addition(2,3)"
   ]
  },
  {
   "cell_type": "code",
   "execution_count": 54,
   "id": "7f767239-7340-4f9e-89ca-325fc97e2844",
   "metadata": {},
   "outputs": [
    {
     "name": "stdout",
     "output_type": "stream",
     "text": [
      "Help on built-in function reduce in module _functools:\n",
      "\n",
      "reduce(...)\n",
      "    reduce(function, iterable[, initial]) -> value\n",
      "\n",
      "    Apply a function of two arguments cumulatively to the items of a sequence\n",
      "    or iterable, from left to right, so as to reduce the iterable to a single\n",
      "    value.  For example, reduce(lambda x, y: x+y, [1, 2, 3, 4, 5]) calculates\n",
      "    ((((1+2)+3)+4)+5).  If initial is present, it is placed before the items\n",
      "    of the iterable in the calculation, and serves as a default when the\n",
      "    iterable is empty.\n",
      "\n"
     ]
    }
   ],
   "source": [
    "from functools import reduce\n",
    "\n",
    "help (reduce)"
   ]
  },
  {
   "cell_type": "code",
   "execution_count": 56,
   "id": "0d1862a1-c9c7-4fc7-8e3e-fae8af82789b",
   "metadata": {},
   "outputs": [
    {
     "data": {
      "text/plain": [
       "10"
      ]
     },
     "execution_count": 56,
     "metadata": {},
     "output_type": "execute_result"
    }
   ],
   "source": [
    "reduce(addition,[1,2,3,4]) # addition ko function ma gayera print huncah\n"
   ]
  },
  {
   "cell_type": "code",
   "execution_count": 58,
   "id": "db4ce7ea-ac41-4bf7-a947-4001a60f80b9",
   "metadata": {},
   "outputs": [
    {
     "data": {
      "text/plain": [
       "10"
      ]
     },
     "execution_count": 58,
     "metadata": {},
     "output_type": "execute_result"
    }
   ],
   "source": [
    "reduce(lambda x,y: x+y,[1,2,3,4])"
   ]
  },
  {
   "cell_type": "code",
   "execution_count": 59,
   "id": "1d926ba6-2314-4ccc-b9c8-eafe63931a34",
   "metadata": {},
   "outputs": [
    {
     "data": {
      "text/plain": [
       "6"
      ]
     },
     "execution_count": 59,
     "metadata": {},
     "output_type": "execute_result"
    }
   ],
   "source": [
    "reduce(lambda x,y: x*y,[1,2,3])"
   ]
  },
  {
   "cell_type": "code",
   "execution_count": null,
   "id": "fdfe025e-162c-48d9-861f-c1098d491678",
   "metadata": {},
   "outputs": [],
   "source": []
  }
 ],
 "metadata": {
  "kernelspec": {
   "display_name": "Python 3 (ipykernel)",
   "language": "python",
   "name": "python3"
  },
  "language_info": {
   "codemirror_mode": {
    "name": "ipython",
    "version": 3
   },
   "file_extension": ".py",
   "mimetype": "text/x-python",
   "name": "python",
   "nbconvert_exporter": "python",
   "pygments_lexer": "ipython3",
   "version": "3.12.4"
  }
 },
 "nbformat": 4,
 "nbformat_minor": 5
}
