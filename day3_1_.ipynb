{
 "cells": [
  {
   "cell_type": "code",
   "execution_count": 1,
   "metadata": {},
   "outputs": [],
   "source": [
    "marks=int(input(\"enter the marks: \"))\n",
    "if marks<45:\n",
    "    print(\"failed\")\n",
    "    \n",
    "if marks>45:\n",
    "    print(\"pass\")\n",
    "    "
   ]
  },
  {
   "cell_type": "code",
   "execution_count": null,
   "metadata": {},
   "outputs": [],
   "source": []
  },
  {
   "cell_type": "markdown",
   "metadata": {},
   "source": [
    "x = int(input(\"enter the value of x=\"))\n",
    "y = int(input(\"enter the value of y=\"))\n",
    "z = int(input(\"enter the value of z=\"))\n",
    "if (x>y and x>z):\n",
    "    print(\"value of x is geater\")\n",
    "elif  (y>x and y>z):\n",
    "    print(\"value of y is greater\")\n",
    "else:\n",
    "    print(\"value of z is greater\")\n",
    "\n"
   ]
  },
  {
   "cell_type": "code",
   "execution_count": null,
   "metadata": {},
   "outputs": [],
   "source": []
  }
 ],
 "metadata": {
  "kernelspec": {
   "display_name": "Python 3 (ipykernel)",
   "language": "python",
   "name": "python3"
  },
  "language_info": {
   "codemirror_mode": {
    "name": "ipython",
    "version": 3
   },
   "file_extension": ".py",
   "mimetype": "text/x-python",
   "name": "python",
   "nbconvert_exporter": "python",
   "pygments_lexer": "ipython3",
   "version": "3.12.4"
  }
 },
 "nbformat": 4,
 "nbformat_minor": 4
}
