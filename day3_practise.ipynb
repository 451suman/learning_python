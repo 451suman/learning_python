{
 "cells": [
  {
   "cell_type": "code",
   "execution_count": 9,
   "id": "65dc4dc3-9bb2-4202-876b-6ad55ddd3589",
   "metadata": {},
   "outputs": [
    {
     "name": "stdin",
     "output_type": "stream",
     "text": [
      "input the score:  99\n"
     ]
    },
    {
     "name": "stdout",
     "output_type": "stream",
     "text": [
      "A\n"
     ]
    }
   ],
   "source": [
    "# Write a Python program that takes an integer input representing a student's score and prints the corresponding grade based on the following criteria:\n",
    "\n",
    "# A: score >= 90\n",
    "# B: 80 <= score < 90\n",
    "# C: 70 <= score < 80\n",
    "# D: 60 <= score < 70\n",
    "# F: score < 60\n",
    "score = int(input(\"input the score: \"))\n",
    "if 90<=score:\n",
    "    print(\"A\")\n",
    "elif 80<=score:\n",
    "    print(\"B\")\n",
    "elif 70<=score:\n",
    "    print(\"C\")\n",
    "elif 60<=score:\n",
    "    print(\"D\")\n",
    "else:\n",
    "    print(\"F\")"
   ]
  },
  {
   "cell_type": "code",
   "execution_count": 28,
   "id": "ccfc99b3-affd-4327-9d31-6d4631947962",
   "metadata": {},
   "outputs": [
    {
     "name": "stdin",
     "output_type": "stream",
     "text": [
      "enter a year 24140\n"
     ]
    },
    {
     "name": "stdout",
     "output_type": "stream",
     "text": [
      "24140 is a leap year.\n"
     ]
    }
   ],
   "source": [
    "# Question 2: Leap Year Checker\n",
    "# Write a Python program to check if a given year is a leap year. A year is a leap year if:\n",
    "\n",
    "# It is divisible by 4\n",
    "# It is not divisible by 100, unless it is also divisible by 400\n",
    "# Hint: Use nested if and else statements to handle the conditions.\n",
    "\n",
    "leap_year_check =int (input(\"enter a year\"))\n",
    "\n",
    "if leap_year_check%4==0:\n",
    "    if leap_year_check%100==0:\n",
    "        if leap_year_check%400==0:\n",
    "            check= True\n",
    "        else:\n",
    "            check = False\n",
    "    else:\n",
    "        check= True\n",
    "else:\n",
    "    check=False\n",
    "\n",
    "if check:\n",
    "    print(f\"{leap_year_check} is a leap year.\")\n",
    "else:\n",
    "    print(f\"{leap_year_check} is not a leap year.\")"
   ]
  },
  {
   "cell_type": "code",
   "execution_count": 38,
   "id": "164dc55d-f31f-4888-926e-34707125f06c",
   "metadata": {},
   "outputs": [
    {
     "name": "stdin",
     "output_type": "stream",
     "text": [
      "enter a number  0\n"
     ]
    },
    {
     "name": "stdout",
     "output_type": "stream",
     "text": [
      "number is zero\n"
     ]
    }
   ],
   "source": [
    "# Write a Python program that takes an integer input from the user and categorizes it as:\n",
    "\n",
    "# \"Positive\" if the number is greater than 0\n",
    "# \"Negative\" if the number is less than 0\n",
    "# \"Zero\" if the number is exactly 0\n",
    "# Additionally, if the number is positive and even, print \"Even Positive\"; if it is positive and odd, print \"Odd Positive\".\n",
    "\n",
    "num = int( input(\"enter a number \"))\n",
    "if num > 0:\n",
    "    print(\"number is positive\")\n",
    "elif num < 0:\n",
    "    print(\"number is negative\")\n",
    "else:\n",
    "    print(\"number is zero\")\n"
   ]
  },
  {
   "cell_type": "code",
   "execution_count": 46,
   "id": "1079ff02-e53d-4815-ac93-fe669d5f5649",
   "metadata": {},
   "outputs": [
    {
     "name": "stdin",
     "output_type": "stream",
     "text": [
      "enter a total amount 85000\n"
     ]
    },
    {
     "name": "stdout",
     "output_type": "stream",
     "text": [
      " total amount = 85000, discount =10%, cost price =84999.9\n"
     ]
    }
   ],
   "source": [
    "# Write a Python program that calculates the discount on a purchase based on the total amount:\n",
    "\n",
    "# If the total amount is above $1000, a discount of 10% is applied.\n",
    "# If the total amount is between $500 and $1000 (inclusive), a discount of 5% is applied.\n",
    "# If the total amount is less than $500, no discount is applied.\n",
    "\n",
    "total_amount = int(input(\"enter a total amount\"))\n",
    "if total_amount >1000:\n",
    "    discount =10\n",
    "elif total_amount>= 500:\n",
    "    discount = 5\n",
    "else:\n",
    "    discount =0\n",
    "cost_price= total_amount-(discount/100)\n",
    "print(f\" total amount = {total_amount}, discount ={discount}%, cost price ={cost_price}\")\n"
   ]
  },
  {
   "cell_type": "code",
   "execution_count": null,
   "id": "33512759-b76d-4d83-ae4c-574a5c73890d",
   "metadata": {},
   "outputs": [],
   "source": []
  },
  {
   "cell_type": "code",
   "execution_count": 3,
   "id": "6f26f7db-72d9-4c35-8e6a-42f9207ceb06",
   "metadata": {},
   "outputs": [
    {
     "name": "stdout",
     "output_type": "stream",
     "text": [
      "140714792647128\n",
      "0x7ffab73af9d8\n",
      "0x2\n"
     ]
    }
   ],
   "source": [
    "x=2\n",
    "\n",
    "print(hex(x))"
   ]
  },
  {
   "cell_type": "code",
   "execution_count": null,
   "id": "ef3f33b7-2a59-4b35-93ca-6ab857a80c4a",
   "metadata": {},
   "outputs": [],
   "source": []
  }
 ],
 "metadata": {
  "kernelspec": {
   "display_name": "Python 3 (ipykernel)",
   "language": "python",
   "name": "python3"
  },
  "language_info": {
   "codemirror_mode": {
    "name": "ipython",
    "version": 3
   },
   "file_extension": ".py",
   "mimetype": "text/x-python",
   "name": "python",
   "nbconvert_exporter": "python",
   "pygments_lexer": "ipython3",
   "version": "3.12.4"
  }
 },
 "nbformat": 4,
 "nbformat_minor": 5
}
