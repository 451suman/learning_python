{
 "cells": [
  {
   "cell_type": "code",
   "execution_count": 10,
   "id": "68b2fb14-85f3-472c-a546-67bc79a5d7e5",
   "metadata": {},
   "outputs": [
    {
     "name": "stdout",
     "output_type": "stream",
     "text": [
      "pushed item: 1\n",
      "pushed item: 2\n",
      "pushed item: 3\n",
      "pushed item: 4\n",
      "popped item:  4\n",
      "stack after popping an element: ['1', '2', '3']\n"
     ]
    }
   ],
   "source": [
    "# Stack implementation in python\n",
    "\n",
    "\n",
    "# Creating a stack\n",
    "def create_stack():\n",
    "    stack = []\n",
    "    return stack\n",
    "\n",
    "\n",
    "# Creating an empty stack\n",
    "def check_empty(stack):\n",
    "    return len(stack) == 0\n",
    "\n",
    "\n",
    "# Adding items into the stack\n",
    "def push(stack, item):\n",
    "    stack.append(item)\n",
    "    print(\"pushed item: \" + item)\n",
    "\n",
    "\n",
    "# Removing an element from the stack\n",
    "def pop(stack):\n",
    "    if (check_empty(stack)):\n",
    "        return \"stack is empty\"\n",
    "\n",
    "    return stack.pop()\n",
    "\n",
    "\n",
    "stack = create_stack()\n",
    "push(stack, str(1))\n",
    "push(stack, str(2))\n",
    "push(stack, str(3))\n",
    "push(stack, str(4))\n",
    "\n",
    "print(\"popped item: \" , pop(stack))\n",
    "print(\"stack after popping an element: \" + str(stack))\n",
    "\n"
   ]
  },
  {
   "cell_type": "code",
   "execution_count": 20,
   "id": "4eb62e8a-c5ca-4bb1-bc1a-6d5dedbf7c29",
   "metadata": {},
   "outputs": [
    {
     "name": "stdout",
     "output_type": "stream",
     "text": [
      "[5, 5]\n"
     ]
    }
   ],
   "source": [
    "def push(stack, item):\n",
    "    stack.append(item)\n",
    "\n",
    "def pop(stack):\n",
    "    if len(stack) == 0:\n",
    "        print(\"Stack is empty\")\n",
    "    else:\n",
    "       stack.pop()\n",
    "\n",
    "stack = []\n",
    "push(stack, 5)\n",
    "push(stack, 2)\n",
    "push(stack, 5)\n",
    "push(stack, 6)\n",
    "pop(stack)\n",
    "stack.remove(2)\n",
    "\n",
    "print(stack)\n"
   ]
  },
  {
   "cell_type": "code",
   "execution_count": 21,
   "id": "4ea73d20-db71-471e-ae00-17b0544936db",
   "metadata": {},
   "outputs": [
    {
     "name": "stdout",
     "output_type": "stream",
     "text": [
      "['apple', 'banana', 'cherry', 'apple', 'cherry']\n"
     ]
    }
   ],
   "source": [
    "thislist = [\"apple\", \"banana\", \"cherry\", \"apple\", \"cherry\"]\n",
    "print(thislist)\n"
   ]
  },
  {
   "cell_type": "code",
   "execution_count": 24,
   "id": "947c80e5-7d47-49f3-b2da-e97e51a5ec1a",
   "metadata": {},
   "outputs": [
    {
     "name": "stdout",
     "output_type": "stream",
     "text": [
      "False <class 'bool'>\n",
      "True <class 'bool'>\n",
      "True <class 'bool'>\n",
      "False <class 'bool'>\n"
     ]
    }
   ],
   "source": [
    "x = 0\n",
    "y = 1\n",
    "z = \"Hello\"\n",
    "w = \"\"\n",
    "\n",
    "# Cast to boolean\n",
    "a = bool(x)  # Output: False\n",
    "b = bool(y)  # Output: True\n",
    "c = bool(z)  # Output: True\n",
    "d = bool(w)  # Output: False\n",
    "\n",
    "print(a, type(a))\n",
    "print(b, type(b))\n",
    "print(c, type(c))\n",
    "print(d, type(d))\n"
   ]
  },
  {
   "cell_type": "code",
   "execution_count": 27,
   "id": "60fe750f-7385-466c-9855-cc93326316e1",
   "metadata": {},
   "outputs": [
    {
     "name": "stdout",
     "output_type": "stream",
     "text": [
      "{'l', 'H', 'o', 'e'} <class 'set'>\n",
      "{1, 2, 3} <class 'set'>\n",
      "{4, 5, 6} <class 'set'>\n"
     ]
    }
   ],
   "source": [
    "x = \"Hello\"\n",
    "y = [3, 2, 3, 3, 2, 1]\n",
    "z = (4, 5, 6, 6, 5, 4)\n",
    "\n",
    "# Cast to set\n",
    "a = set(x)  # Output: {'H', 'e', 'l', 'o'}\n",
    "b = set(y)  # Output: {1, 2, 3}\n",
    "c = set(z)  # Output: {4, 5, 6}\n",
    "\n",
    "print(a, type(a))\n",
    "print(b, type(b))\n",
    "print(c, type(c))"
   ]
  },
  {
   "cell_type": "code",
   "execution_count": null,
   "id": "dfbc56d8-32dc-46a5-91e5-3953b5da9e76",
   "metadata": {},
   "outputs": [],
   "source": []
  }
 ],
 "metadata": {
  "kernelspec": {
   "display_name": "Python 3 (ipykernel)",
   "language": "python",
   "name": "python3"
  },
  "language_info": {
   "codemirror_mode": {
    "name": "ipython",
    "version": 3
   },
   "file_extension": ".py",
   "mimetype": "text/x-python",
   "name": "python",
   "nbconvert_exporter": "python",
   "pygments_lexer": "ipython3",
   "version": "3.12.4"
  }
 },
 "nbformat": 4,
 "nbformat_minor": 5
}
