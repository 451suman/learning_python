{
 "cells": [
  {
   "cell_type": "code",
   "execution_count": 7,
   "id": "409b5040-6ddf-4552-ae95-28551e73f3a5",
   "metadata": {},
   "outputs": [
    {
     "name": "stdout",
     "output_type": "stream",
     "text": [
      "{'milk': 307.359661, 'bread': 189.260875}\n"
     ]
    }
   ],
   "source": [
    "us_price={'milk':2.03,'bread':1.25}\n",
    "nep_price={}\n",
    "for k,v in us_price.items():\n",
    "    nep_price.update({k:((v*133.99)+(v*133.99)*0.13)})\n",
    "\n",
    "print(nep_price)"
   ]
  },
  {
   "cell_type": "code",
   "execution_count": 17,
   "id": "021e3f9e-522a-4259-8f67-aef0fdbd6a10",
   "metadata": {},
   "outputs": [
    {
     "name": "stdout",
     "output_type": "stream",
     "text": [
      "{'milk': 35.359961000000006, 'bread': 45.28862, 'butter': 45.28862, 'meat': 87.0935, 'mobile': 13399.0}\n"
     ]
    }
   ],
   "source": [
    "us_price={'milk':2.03,'bread':2.6,'butter':2.6,'meat':5,'mobile':500}\n",
    "nep_price={}\n",
    "for k,v in us_price.items():\n",
    "    if v>5:\n",
    "        nep_price.update({k:(v*133.99*0.20)})\n",
    "    else:\n",
    "        nep_price.update({k:(v*133.99*0.13)})\n",
    "        \n",
    "\n",
    "print(nep_price)"
   ]
  },
  {
   "cell_type": "code",
   "execution_count": 20,
   "id": "ca97e904-26c1-4f4c-ba35-2cbc76c4cb54",
   "metadata": {},
   "outputs": [
    {
     "name": "stdout",
     "output_type": "stream",
     "text": [
      "hello\n"
     ]
    }
   ],
   "source": [
    "#pass continue break\n",
    "age = 17\n",
    "if age <18:\n",
    "    pass\n",
    "\n",
    "print(\"hello\")"
   ]
  },
  {
   "cell_type": "code",
   "execution_count": 25,
   "id": "7cf032cc-820d-4597-957a-1d47849d309a",
   "metadata": {},
   "outputs": [
    {
     "name": "stdout",
     "output_type": "stream",
     "text": [
      "30\n"
     ]
    }
   ],
   "source": [
    "numbers= [1,2,6,10,8,9,6]\n",
    "x=0\n",
    "for i in numbers:\n",
    "    if i==6:\n",
    "         pass\n",
    "    else:\n",
    "        x+=i\n",
    "\n",
    "print (x)\n",
    "    "
   ]
  },
  {
   "cell_type": "code",
   "execution_count": 37,
   "id": "72f0fa65-d22e-4f00-84b6-efd6cef3e347",
   "metadata": {},
   "outputs": [
    {
     "name": "stdout",
     "output_type": "stream",
     "text": [
      "42\n",
      "42\n"
     ]
    }
   ],
   "source": [
    "numbers= [1,2,6,10,8,9,6]\n",
    "print(sum(numbers))\n",
    "x=0\n",
    "for i in numbers:\n",
    "    if i==6:\n",
    "        pass\n",
    "\n",
    "    x+=i\n",
    "\n",
    "print (x)"
   ]
  },
  {
   "cell_type": "code",
   "execution_count": 40,
   "id": "fcb0165a-9cea-4c18-ba50-744d211c3491",
   "metadata": {},
   "outputs": [
    {
     "name": "stdout",
     "output_type": "stream",
     "text": [
      "42\n",
      "30\n"
     ]
    }
   ],
   "source": [
    "numbers= [1,2,6,10,8,9,6]\n",
    "print(sum(numbers))\n",
    "x=0\n",
    "for i in numbers:\n",
    "    if i==6:\n",
    "        continue \n",
    "        #skip the curent iteration item\n",
    "        #doesnot run anything after continue\n",
    "    x+=i\n",
    "\n",
    "print (x)"
   ]
  },
  {
   "cell_type": "code",
   "execution_count": 41,
   "id": "18fdb390-6717-45c1-b32a-43036f0ed541",
   "metadata": {},
   "outputs": [
    {
     "name": "stdout",
     "output_type": "stream",
     "text": [
      "42\n",
      "3\n"
     ]
    }
   ],
   "source": [
    "numbers= [1,2,6,10,8,9,6]\n",
    "print(sum(numbers))\n",
    "x=0\n",
    "for i in numbers:\n",
    "    if i==6:\n",
    "        break \n",
    "        #skip the curent iteration item\n",
    "        #doesnot run anything after continue\n",
    "    x+=i\n",
    "\n",
    "print (x)"
   ]
  },
  {
   "cell_type": "code",
   "execution_count": 45,
   "id": "f76c75cc-9bad-4d66-a8d6-f01f843870d4",
   "metadata": {},
   "outputs": [
    {
     "name": "stdout",
     "output_type": "stream",
     "text": [
      "ram eats momo\n",
      "ram eats thupa\n",
      "ram eats chauchau\n",
      "shyam eats momo\n",
      "shyam eats thupa\n",
      "shyam eats chauchau\n",
      "gita eats momo\n",
      "gita eats thupa\n",
      "gita eats chauchau\n"
     ]
    }
   ],
   "source": [
    "names =['ram','shyam','gita']\n",
    "foods =['momo','thupa','chauchau']\n",
    "for name in names:\n",
    "    for food in foods:\n",
    "        print(f\"{name} eats {food}\")"
   ]
  },
  {
   "cell_type": "code",
   "execution_count": null,
   "id": "23e5d5d5-39d4-4a9d-8cb1-e9e035bb8e1d",
   "metadata": {},
   "outputs": [],
   "source": []
  }
 ],
 "metadata": {
  "kernelspec": {
   "display_name": "Python 3 (ipykernel)",
   "language": "python",
   "name": "python3"
  },
  "language_info": {
   "codemirror_mode": {
    "name": "ipython",
    "version": 3
   },
   "file_extension": ".py",
   "mimetype": "text/x-python",
   "name": "python",
   "nbconvert_exporter": "python",
   "pygments_lexer": "ipython3",
   "version": "3.12.4"
  }
 },
 "nbformat": 4,
 "nbformat_minor": 5
}
