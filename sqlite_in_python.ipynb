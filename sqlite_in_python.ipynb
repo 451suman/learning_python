{
 "cells": [
  {
   "cell_type": "code",
   "execution_count": 2,
   "id": "7ce77a5b-6f20-477b-af5f-aa5edc81eec4",
   "metadata": {},
   "outputs": [],
   "source": [
    "import sqlite3"
   ]
  },
  {
   "cell_type": "code",
   "execution_count": 3,
   "id": "01c47ac8-bea8-4c86-ba06-c47b9bf62715",
   "metadata": {},
   "outputs": [],
   "source": [
    "con = sqlite3.connect(\"students2.sqlite3\")"
   ]
  },
  {
   "cell_type": "code",
   "execution_count": 4,
   "id": "8bd8b0a3-af65-413b-b0d9-75278f180b77",
   "metadata": {},
   "outputs": [],
   "source": [
    "cur=con.cursor()"
   ]
  },
  {
   "cell_type": "code",
   "execution_count": 44,
   "id": "e0efa292-fbf7-4a13-904d-6a5231b29185",
   "metadata": {},
   "outputs": [
    {
     "data": {
      "text/plain": [
       "<sqlite3.Cursor at 0x1ec2f7407c0>"
      ]
     },
     "execution_count": 44,
     "metadata": {},
     "output_type": "execute_result"
    }
   ],
   "source": [
    "CREATE_TABLE_QUERY=\"\"\"\n",
    "CREATE TABLE student(\n",
    "\tid int primary key,\n",
    "\tname varchar not null,\n",
    "\taddress varchar not null,\n",
    "\tcollege varchar not null,\n",
    "\tage int not null,\n",
    "\tgender varchar(1) not null,\n",
    "\tfaculty varchar not null\n",
    ");\n",
    "\n",
    "\"\"\"\n",
    "cur.execute(CREATE_TABLE_QUERY)\n"
   ]
  },
  {
   "cell_type": "code",
   "execution_count": 45,
   "id": "7d9cf027-201d-4767-a145-c10eb01ce44a",
   "metadata": {},
   "outputs": [],
   "source": [
    "insert_records = \"\"\"\n",
    "INSERT INTO student \n",
    "(id, name, address, college, age, gender, faculty)\n",
    "VALUES\n",
    "(1, 'ram', 'kathmandu', 'ncit', 18, 'm', 'IT'),\n",
    "(2, 'shyam', 'lalitpur', 'islington', 20, 'm', 'CSIT'),\n",
    "(3, 'gita', 'pokhara', 'ncit', 21, 'f', 'SE'),\n",
    "(4, 'sita', 'kathmandu', 'ioe pulchowk', 24, 'f', 'CE');\n",
    "\"\"\"\n",
    "\n",
    "# Execute the insert records\n",
    "cur.execute(insert_records)\n",
    "\n",
    "# Commit the transaction\n",
    "\n"
   ]
  },
  {
   "cell_type": "code",
   "execution_count": 46,
   "id": "1e5e6844-1aac-4b8f-a93c-6c6472a11887",
   "metadata": {},
   "outputs": [],
   "source": [
    "con.commit() "
   ]
  },
  {
   "cell_type": "code",
   "execution_count": null,
   "id": "950ed57a-d6af-4d80-a4f4-6d119bee77d5",
   "metadata": {},
   "outputs": [],
   "source": [
    "cur.execute()"
   ]
  },
  {
   "cell_type": "code",
   "execution_count": 53,
   "id": "cc1d3cd3-86bf-4f89-888c-8aa91e97326b",
   "metadata": {},
   "outputs": [
    {
     "name": "stdout",
     "output_type": "stream",
     "text": [
      "(1, 'ram', 'kathmandu', 'ncit', 18, 'm', 'IT')\n",
      "(2, 'shyam', 'lalitpur', 'islington', 20, 'm', 'CSIT')\n",
      "(3, 'gita', 'pokhara', 'ncit', 21, 'f', 'SE')\n",
      "(4, 'sita', 'kathmandu', 'ioe pulchowk', 24, 'f', 'CE')\n"
     ]
    }
   ],
   "source": [
    "students = cur.execute(\"\"\"SELECT * FROM student\"\"\")\n",
    "for student in students:\n",
    "    print(student)"
   ]
  },
  {
   "cell_type": "code",
   "execution_count": 54,
   "id": "95dd0c9a-1237-4d08-87dd-496cb145ac57",
   "metadata": {},
   "outputs": [
    {
     "data": {
      "text/plain": [
       "<sqlite3.Cursor at 0x1ec2f7407c0>"
      ]
     },
     "execution_count": 54,
     "metadata": {},
     "output_type": "execute_result"
    }
   ],
   "source": [
    "cur.execute(\"ALTER table student add university varchar not null default 'tu';\")"
   ]
  },
  {
   "cell_type": "code",
   "execution_count": 72,
   "id": "afbec1ea-b947-4430-a232-636d271f8ed5",
   "metadata": {},
   "outputs": [
    {
     "name": "stdin",
     "output_type": "stream",
     "text": [
      "enter a address: lalitpur\n"
     ]
    },
    {
     "name": "stdout",
     "output_type": "stream",
     "text": [
      "(2, 'shyam', 'lalitpur', 'islington', 20, 'm', 'CSIT', 'tu')\n"
     ]
    }
   ],
   "source": [
    "address: input(\"enter a address:\")\n",
    "students=cur.execute(f\"\"\"SELECT * FROM student where address='{address}';\"\"\")\n",
    "for student in students:\n",
    "    print(student)"
   ]
  },
  {
   "cell_type": "code",
   "execution_count": null,
   "id": "b0c3e173-198d-452f-9937-6e5c9a2cecc9",
   "metadata": {},
   "outputs": [],
   "source": []
  },
  {
   "cell_type": "code",
   "execution_count": 9,
   "id": "fd40e03e-cb7f-460e-9f65-9c5d987852ab",
   "metadata": {},
   "outputs": [
    {
     "name": "stdin",
     "output_type": "stream",
     "text": [
      "enter a address: bhaktapur\n"
     ]
    },
    {
     "ename": "NameError",
     "evalue": "name 'a' is not defined",
     "output_type": "error",
     "traceback": [
      "\u001b[1;31m---------------------------------------------------------------------------\u001b[0m",
      "\u001b[1;31mNameError\u001b[0m                                 Traceback (most recent call last)",
      "Cell \u001b[1;32mIn[9], line 2\u001b[0m\n\u001b[0;32m      1\u001b[0m a: \u001b[38;5;28minput\u001b[39m(\u001b[38;5;124m\"\u001b[39m\u001b[38;5;124menter a address:\u001b[39m\u001b[38;5;124m\"\u001b[39m)\n\u001b[1;32m----> 2\u001b[0m students\u001b[38;5;241m=\u001b[39mcur\u001b[38;5;241m.\u001b[39mexecute(\u001b[38;5;124mf\u001b[39m\u001b[38;5;124m\"\"\"\u001b[39m\u001b[38;5;124mSELECT * FROM student where address=\u001b[39m\u001b[38;5;124m'\u001b[39m\u001b[38;5;132;01m{\u001b[39;00m\u001b[43ma\u001b[49m\u001b[38;5;132;01m}\u001b[39;00m\u001b[38;5;124m'\u001b[39m\u001b[38;5;124m;\u001b[39m\u001b[38;5;124m\"\"\"\u001b[39m)\n\u001b[0;32m      3\u001b[0m \u001b[38;5;28;01mfor\u001b[39;00m student \u001b[38;5;129;01min\u001b[39;00m students:\n\u001b[0;32m      4\u001b[0m     \u001b[38;5;28mprint\u001b[39m(student)\n",
      "\u001b[1;31mNameError\u001b[0m: name 'a' is not defined"
     ]
    }
   ],
   "source": [
    "a: input(\"enter a address:\")\n",
    "students=cur.execute(f\"\"\"SELECT * FROM student where address='{a}';\"\"\")\n",
    "for student in students:\n",
    "    print(student)\n",
    "\n",
    "#sql injection"
   ]
  },
  {
   "cell_type": "code",
   "execution_count": null,
   "id": "b62056f3-c9df-4e98-a00a-7c3c5ade700d",
   "metadata": {},
   "outputs": [],
   "source": []
  },
  {
   "cell_type": "code",
   "execution_count": null,
   "id": "9fbf6fd9-c2bc-445d-972e-c34645f56f89",
   "metadata": {},
   "outputs": [],
   "source": []
  },
  {
   "cell_type": "code",
   "execution_count": 6,
   "id": "5d22ba49-f81d-46a8-8593-50c8c8634c7c",
   "metadata": {},
   "outputs": [
    {
     "name": "stdin",
     "output_type": "stream",
     "text": [
      "Enter the address:  kathmandu\n"
     ]
    },
    {
     "name": "stdout",
     "output_type": "stream",
     "text": [
      "(1, 'ram', 'kathmandu', 'ncit', 18, 'm', 'IT', 'tu')\n",
      "(4, 'sita', 'kathmandu', 'ioe pulchowk', 24, 'f', 'CE', 'tu')\n"
     ]
    }
   ],
   "source": [
    "address = input(\"Enter the address: \")\n",
    "students = cur.execute(\"\"\"SELECT * FROM student WHERE address = ?;\"\"\", (address,))\n",
    "\n",
    "for student in students:\n",
    "    print(student)\n"
   ]
  },
  {
   "cell_type": "code",
   "execution_count": null,
   "id": "7c6526c1-7c9f-4976-9256-068959a80dc0",
   "metadata": {},
   "outputs": [],
   "source": []
  },
  {
   "cell_type": "code",
   "execution_count": 7,
   "id": "586de412-8733-4be1-9447-4cab9caa8760",
   "metadata": {},
   "outputs": [],
   "source": [
    "s"
   ]
  },
  {
   "cell_type": "code",
   "execution_count": 10,
   "id": "fbd227c5-edb5-46af-b1c0-d8aedb2e96cc",
   "metadata": {},
   "outputs": [],
   "source": [
    "students=[\n",
    "    (8,'hari bahadur', 'laltipur','ncit',23,'m','SE','PU'),\n",
    "    (9,'madan bahadur', 'kathmandu','british college',24,'m','SIT','UK'),\n",
    "    (10,'maya devi', 'laltipur','ncit',23,'f','SE','PU')\n",
    "]\n",
    "\n",
    "insert_records=\"\"\"\n",
    "    INSERT INTO student('id','name','address','college','age','gender','faculty','university') \n",
    "    VALUES(?,?,?,?,?,?,?,?);\n",
    "\"\"\"\n",
    "for student in students:\n",
    "    cur.execute(insert_records,student)\n",
    "    con.commit()"
   ]
  },
  {
   "cell_type": "code",
   "execution_count": null,
   "id": "58a7fb31-b952-4c35-be10-e1fa86069ce9",
   "metadata": {},
   "outputs": [],
   "source": []
  }
 ],
 "metadata": {
  "kernelspec": {
   "display_name": "Python 3 (ipykernel)",
   "language": "python",
   "name": "python3"
  },
  "language_info": {
   "codemirror_mode": {
    "name": "ipython",
    "version": 3
   },
   "file_extension": ".py",
   "mimetype": "text/x-python",
   "name": "python",
   "nbconvert_exporter": "python",
   "pygments_lexer": "ipython3",
   "version": "3.12.4"
  }
 },
 "nbformat": 4,
 "nbformat_minor": 5
}
