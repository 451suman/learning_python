{
 "cells": [
  {
   "cell_type": "code",
   "execution_count": 4,
   "metadata": {},
   "outputs": [
    {
     "name": "stdout",
     "output_type": "stream",
     "text": [
      "{'ram', 'shyam', 'hari', 'sita', 'gita'}\n"
     ]
    }
   ],
   "source": [
    "tea={'ram','hari','shyam'}\n",
    "coffee = {'shyam','sita','gita'}\n",
    "tea_or_coffee = tea|coffee #union of two sets\n",
    "print (tea_or_coffee) "
   ]
  },
  {
   "cell_type": "code",
   "execution_count": 5,
   "metadata": {},
   "outputs": [
    {
     "name": "stdout",
     "output_type": "stream",
     "text": [
      "{'ram', 'shyam', 'hari', 'sita', 'gita'}\n"
     ]
    }
   ],
   "source": [
    "tea={'ram','hari','shyam'}\n",
    "coffee = {'shyam','sita','gita'}\n",
    "tea_or_coffee = tea.union(coffee) #union of two sets\n",
    "print (tea_or_coffee) "
   ]
  },
  {
   "cell_type": "code",
   "execution_count": 7,
   "metadata": {},
   "outputs": [
    {
     "name": "stdout",
     "output_type": "stream",
     "text": [
      "{'shyam'}\n"
     ]
    }
   ],
   "source": [
    "tea={'ram','hari','shyam'}\n",
    "coffee = {'shyam','sita','gita'}\n",
    "tea_or_coffee = tea&coffee #Intersection of two sets\n",
    "print (tea_or_coffee) "
   ]
  },
  {
   "cell_type": "code",
   "execution_count": 9,
   "metadata": {},
   "outputs": [
    {
     "name": "stdout",
     "output_type": "stream",
     "text": [
      "{'shyam'}\n"
     ]
    }
   ],
   "source": [
    "tea={'ram','hari','shyam'}\n",
    "coffee = {'shyam','sita','gita'}\n",
    "tea_or_coffee = tea.intersection(coffee) #Intersection of two sets\n",
    "print (tea_or_coffee) "
   ]
  },
  {
   "cell_type": "code",
   "execution_count": 14,
   "metadata": {},
   "outputs": [
    {
     "name": "stdout",
     "output_type": "stream",
     "text": [
      "{'ram', 'hari'}\n"
     ]
    }
   ],
   "source": [
    "tea={'ram','hari','shyam'}\n",
    "coffee = {'shyam','sita','gita'}\n",
    "teaOnly = tea-coffee #difference in set tea who only drinks tea only\n",
    "print (teaOnly) "
   ]
  },
  {
   "cell_type": "code",
   "execution_count": 15,
   "metadata": {},
   "outputs": [
    {
     "name": "stdout",
     "output_type": "stream",
     "text": [
      "{'sita', 'gita'}\n"
     ]
    }
   ],
   "source": [
    "tea={'ram','hari','shyam'}\n",
    "coffee = {'shyam','sita','gita'}\n",
    "coffeeOnly = coffee-tea #difference in set coffee who only drinks coffee only\n",
    "print (coffeeOnly) "
   ]
  },
  {
   "cell_type": "code",
   "execution_count": 17,
   "metadata": {},
   "outputs": [
    {
     "name": "stdout",
     "output_type": "stream",
     "text": [
      "{'ram', 'gita', 'hari', 'sita'}\n"
     ]
    }
   ],
   "source": [
    "tea={'ram','hari','shyam'}\n",
    "coffee = {'shyam','sita','gita'}\n",
    "tea_only_OR_coffee_only = tea.symmetric_difference(coffee)  # people who drink tea only and coffee only\n",
    "print (tea_only_OR_coffee_only) "
   ]
  },
  {
   "cell_type": "code",
   "execution_count": 18,
   "metadata": {},
   "outputs": [],
   "source": [
    "# set => mutable datastructures => ca be changed once decelared\n"
   ]
  },
  {
   "cell_type": "code",
   "execution_count": 19,
   "metadata": {},
   "outputs": [
    {
     "name": "stdout",
     "output_type": "stream",
     "text": [
      "{1, 'ram', 3, 4.5, '33', (7, 8, 9), 'shyam', 'hari'}\n"
     ]
    }
   ],
   "source": []
  },
  {
   "cell_type": "code",
   "execution_count": null,
   "metadata": {},
   "outputs": [],
   "source": []
  }
 ],
 "metadata": {
  "kernelspec": {
   "display_name": "Python 3",
   "language": "python",
   "name": "python3"
  },
  "language_info": {
   "codemirror_mode": {
    "name": "ipython",
    "version": 3
   },
   "file_extension": ".py",
   "mimetype": "text/x-python",
   "name": "python",
   "nbconvert_exporter": "python",
   "pygments_lexer": "ipython3",
   "version": "3.12.4"
  }
 },
 "nbformat": 4,
 "nbformat_minor": 2
}
