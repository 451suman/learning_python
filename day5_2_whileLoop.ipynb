{
 "cells": [
  {
   "cell_type": "code",
   "execution_count": 2,
   "id": "0c7261c6-544d-4582-9677-c63f7b956a06",
   "metadata": {},
   "outputs": [
    {
     "name": "stdout",
     "output_type": "stream",
     "text": [
      "ram\n",
      "shyam\n",
      "gita\n",
      "hari\n"
     ]
    }
   ],
   "source": [
    "names=['ram','shyam','gita','hari']\n",
    "i=0\n",
    "while i<len(names):\n",
    "    print(names[i])\n",
    "    i+=1"
   ]
  },
  {
   "cell_type": "code",
   "execution_count": 4,
   "id": "9934c25d-1af3-4e95-a73a-9391af49408d",
   "metadata": {},
   "outputs": [
    {
     "name": "stdout",
     "output_type": "stream",
     "text": [
      "ram\n"
     ]
    }
   ],
   "source": [
    "print (names[0])"
   ]
  },
  {
   "cell_type": "code",
   "execution_count": 12,
   "id": "b0c25b6d-5d24-4473-99f3-a4db9a533f8f",
   "metadata": {},
   "outputs": [
    {
     "name": "stdout",
     "output_type": "stream",
     "text": [
      "10\n"
     ]
    }
   ],
   "source": [
    "numbers = [1,2,3,4]\n",
    "i=0\n",
    "sum=0\n",
    "while i<len(numbers):\n",
    "    sum= sum + int(numbers[i])\n",
    "    i+=1\n",
    "print(sum)"
   ]
  },
  {
   "cell_type": "code",
   "execution_count": 1,
   "id": "cab96bb2-1121-4eea-832d-a91cc494f3d6",
   "metadata": {},
   "outputs": [],
   "source": [
    "# #for\n",
    "# - infinity iteration\n",
    "# - if you know how many times yo are iterating\n",
    "\n",
    "# while \n",
    "# -infinite iteration\n",
    "# it you donot know how many times you are iterating"
   ]
  },
  {
   "cell_type": "code",
   "execution_count": 8,
   "id": "ff4b576b-73bc-40b9-b275-8a4584047261",
   "metadata": {},
   "outputs": [
    {
     "name": "stdin",
     "output_type": "stream",
     "text": [
      "Enter an age greater than 18:  1\n",
      "Age must be greater than 18. Please enter again:  2\n",
      "Age must be greater than 18. Please enter again:  3\n",
      "Age must be greater than 18. Please enter again:  4\n",
      "Age must be greater than 18. Please enter again:  5\n",
      "Age must be greater than 18. Please enter again:  6\n",
      "Age must be greater than 18. Please enter again:  45\n"
     ]
    },
    {
     "name": "stdout",
     "output_type": "stream",
     "text": [
      "Valid age entered: 45\n"
     ]
    }
   ],
   "source": [
    "age = int(input(\"Enter an age greater than 18: \"))\n",
    "\n",
    "while age <= 18:\n",
    "    age = int(input(\"Age must be greater than 18. Please enter again: \"))\n",
    "\n",
    "print(f\"Valid age entered: {age}\")\n"
   ]
  },
  {
   "cell_type": "code",
   "execution_count": null,
   "id": "35e9996a-af7c-4e8e-a962-f261c7bef8c8",
   "metadata": {},
   "outputs": [],
   "source": []
  }
 ],
 "metadata": {
  "kernelspec": {
   "display_name": "Python 3 (ipykernel)",
   "language": "python",
   "name": "python3"
  },
  "language_info": {
   "codemirror_mode": {
    "name": "ipython",
    "version": 3
   },
   "file_extension": ".py",
   "mimetype": "text/x-python",
   "name": "python",
   "nbconvert_exporter": "python",
   "pygments_lexer": "ipython3",
   "version": "3.12.4"
  }
 },
 "nbformat": 4,
 "nbformat_minor": 5
}
