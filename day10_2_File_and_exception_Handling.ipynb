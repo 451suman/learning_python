{
 "cells": [
  {
   "cell_type": "code",
   "execution_count": 2,
   "id": "657f298c-eed0-4e46-a035-4bc5f2158b04",
   "metadata": {},
   "outputs": [],
   "source": [
    "#file Handaling"
   ]
  },
  {
   "cell_type": "code",
   "execution_count": 3,
   "id": "a6991b73-b382-4aac-87d3-02a672e0f0ff",
   "metadata": {},
   "outputs": [],
   "source": [
    "#file Write"
   ]
  },
  {
   "cell_type": "code",
   "execution_count": 7,
   "id": "5e69dd8c-e546-44d2-8cfd-b7b3b11207b8",
   "metadata": {},
   "outputs": [],
   "source": [
    "f=open(\"hello.txt\",\"w\")\n",
    "f.write(\"hello suman msuaasdasdhyakhwo\")\n",
    "f.close()"
   ]
  },
  {
   "cell_type": "code",
   "execution_count": null,
   "id": "7de97e11-ddc6-4a2b-b18a-bee018940701",
   "metadata": {},
   "outputs": [],
   "source": []
  },
  {
   "cell_type": "code",
   "execution_count": 8,
   "id": "14ca892e-b3cd-4b4e-95fd-1e4de8dc3881",
   "metadata": {},
   "outputs": [],
   "source": [
    "#file Read"
   ]
  },
  {
   "cell_type": "code",
   "execution_count": 9,
   "id": "72606be9-2bd1-4009-9460-703e946b8b1a",
   "metadata": {},
   "outputs": [
    {
     "name": "stdout",
     "output_type": "stream",
     "text": [
      "hello suman msuaasdasdhyakhwo\n"
     ]
    }
   ],
   "source": [
    "f=open(\"hello.txt\",\"r\")\n",
    "print(f.read())\n",
    "f.close()"
   ]
  },
  {
   "cell_type": "code",
   "execution_count": null,
   "id": "95e9780a-2901-4728-ba98-f28fa9adfcd9",
   "metadata": {},
   "outputs": [],
   "source": []
  },
  {
   "cell_type": "code",
   "execution_count": 10,
   "id": "a5e94ed9-eefc-4da3-83e6-01b36e6d4fee",
   "metadata": {},
   "outputs": [
    {
     "name": "stdout",
     "output_type": "stream",
     "text": [
      "hello suman msuaasdasdhyakhwo\n"
     ]
    }
   ],
   "source": [
    "f=open(\"hello.txt\",\"r\")\n",
    "print(f.read())\n",
    "f.close()\n",
    "\n"
   ]
  },
  {
   "cell_type": "code",
   "execution_count": null,
   "id": "de75f405-4f4c-472f-b828-5e9ab1ab6785",
   "metadata": {},
   "outputs": [],
   "source": []
  },
  {
   "cell_type": "code",
   "execution_count": 11,
   "id": "8734025a-a280-4c2a-8391-46f7f76f462d",
   "metadata": {},
   "outputs": [],
   "source": [
    "# error / exception Handaling"
   ]
  },
  {
   "cell_type": "code",
   "execution_count": 21,
   "id": "30185e6b-3110-4c42-907a-4cab8247bfe7",
   "metadata": {},
   "outputs": [
    {
     "name": "stdout",
     "output_type": "stream",
     "text": [
      "0.5\n"
     ]
    }
   ],
   "source": [
    "\n",
    "def divide(x,y):\n",
    "    div=x/y\n",
    "    return div\n",
    "\n",
    "print(divide(2,4))\n",
    "\n"
   ]
  },
  {
   "cell_type": "code",
   "execution_count": 33,
   "id": "edd09f89-efdd-41f3-af73-997589204117",
   "metadata": {},
   "outputs": [],
   "source": [
    "\n",
    "def divide(x,y):\n",
    "    try:\n",
    "        div=x/y\n",
    "        return div\n",
    "\n",
    "    except ZeroDivisionError:\n",
    "        print(\"cannot divide by zero\")\n",
    "\n",
    "    except TypeError:\n",
    "        print(\"Invalid data type\")\n",
    "\n",
    "\n",
    "\n"
   ]
  },
  {
   "cell_type": "code",
   "execution_count": 34,
   "id": "7e9269cb-a5dc-4512-b1e3-286d1f0c0f7d",
   "metadata": {},
   "outputs": [
    {
     "name": "stdout",
     "output_type": "stream",
     "text": [
      "Invalid data type\n"
     ]
    }
   ],
   "source": [
    "divide('a',2)"
   ]
  },
  {
   "cell_type": "code",
   "execution_count": 37,
   "id": "67196cc8-f388-4667-b320-bcfa06337159",
   "metadata": {},
   "outputs": [
    {
     "name": "stdout",
     "output_type": "stream",
     "text": [
      "cannot divide by zero\n"
     ]
    }
   ],
   "source": [
    "divide(2,0)"
   ]
  },
  {
   "cell_type": "code",
   "execution_count": null,
   "id": "05c3afae-8555-4322-8d78-e69532aa473d",
   "metadata": {},
   "outputs": [],
   "source": []
  },
  {
   "cell_type": "code",
   "execution_count": null,
   "id": "aa42a0c5-2b5a-4316-95d3-4343730de919",
   "metadata": {},
   "outputs": [],
   "source": []
  },
  {
   "cell_type": "code",
   "execution_count": 40,
   "id": "d4873524-89ec-4792-b895-9edec61623e4",
   "metadata": {},
   "outputs": [
    {
     "name": "stdout",
     "output_type": "stream",
     "text": [
      "unsupported operand type(s) for /: 'str' and 'int'\n",
      "division by zero\n"
     ]
    }
   ],
   "source": [
    "\n",
    "def divide(x,y):\n",
    "    try:\n",
    "        div=x/y\n",
    "        return div\n",
    "\n",
    "    except Exception as e:\n",
    "        print(e)\n",
    "\n",
    "\n"
   ]
  },
  {
   "cell_type": "code",
   "execution_count": 41,
   "id": "bde4c7e8-5c09-499a-8642-2d80a87175e5",
   "metadata": {},
   "outputs": [
    {
     "name": "stdout",
     "output_type": "stream",
     "text": [
      "unsupported operand type(s) for /: 'str' and 'int'\n"
     ]
    }
   ],
   "source": [
    "divide('a',2)"
   ]
  },
  {
   "cell_type": "code",
   "execution_count": 42,
   "id": "cbaa1b10-ced0-4a4d-b7b5-f964194faeb2",
   "metadata": {},
   "outputs": [
    {
     "name": "stdout",
     "output_type": "stream",
     "text": [
      "division by zero\n"
     ]
    }
   ],
   "source": [
    "divide(2,0)"
   ]
  },
  {
   "cell_type": "code",
   "execution_count": 43,
   "id": "70fcda5c-2d43-44f5-b4e9-137fc6c2fb42",
   "metadata": {},
   "outputs": [
    {
     "ename": "SyntaxError",
     "evalue": "incomplete input (2917985294.py, line 1)",
     "output_type": "error",
     "traceback": [
      "\u001b[1;36m  Cell \u001b[1;32mIn[43], line 1\u001b[1;36m\u001b[0m\n\u001b[1;33m    divide(#)\u001b[0m\n\u001b[1;37m             ^\u001b[0m\n\u001b[1;31mSyntaxError\u001b[0m\u001b[1;31m:\u001b[0m incomplete input\n"
     ]
    }
   ],
   "source": [
    "divide(#)"
   ]
  },
  {
   "cell_type": "code",
   "execution_count": null,
   "id": "c4a3b62b-2e9d-4ebb-9cfd-2a285e803ab6",
   "metadata": {},
   "outputs": [],
   "source": []
  },
  {
   "cell_type": "code",
   "execution_count": 48,
   "id": "15db3803-0329-43a0-8d9a-1d2085775f3a",
   "metadata": {},
   "outputs": [
    {
     "name": "stdout",
     "output_type": "stream",
     "text": [
      "Overflow error occurred while calculating exp(1000).\n"
     ]
    }
   ],
   "source": [
    "import math\n",
    "\n",
    "def add(x):\n",
    "    try:\n",
    "        # Calculate a large number\n",
    "        a = math.exp(1000)\n",
    "        # Perform addition\n",
    "        addition = a + x\n",
    "        return addition\n",
    "\n",
    "    except TypeError:\n",
    "        print(\"Invalid data type. Please provide a number.\")\n",
    "    except OverflowError:\n",
    "        print(\"Overflow error occurred while calculating exp(1000).\")\n",
    "    except Exception as e:\n",
    "        print(f\"An error occurred: {e}\")\n",
    "\n",
    "# Correct function call\n",
    "result = add(5)\n",
    "\n"
   ]
  },
  {
   "cell_type": "code",
   "execution_count": 58,
   "id": "57739d3b-7961-439c-9242-749e0c718196",
   "metadata": {},
   "outputs": [
    {
     "name": "stdout",
     "output_type": "stream",
     "text": [
      "No error in program\n",
      "0.2\n",
      "An unexpected error occurred: division by zero\n",
      "An unexpected error occurred: unsupported operand type(s) for /: 'int' and 'str'\n"
     ]
    }
   ],
   "source": [
    "def divide(x, y):\n",
    "    try:\n",
    "        div = x / y\n",
    "    except Exception as e:\n",
    "        print(f\"An unexpected error occurred: {e}\")\n",
    "        return None  # Indicate that an error occurred\n",
    "    else:\n",
    "        print(\"No error in program\")\n",
    "        return div  # Return the result if no errors occurred\n",
    "\n",
    "# Example usage\n",
    "print(divide(1, 5))\n",
    "divide(1, 0)  # This will trigger the ZeroDivisionError\n",
    "divide(1, \"a\")  # This will trigger the TypeError\n"
   ]
  },
  {
   "cell_type": "code",
   "execution_count": 59,
   "id": "645183d6-6dbf-473f-99ed-237460162c52",
   "metadata": {},
   "outputs": [],
   "source": [
    "def divide(x, y):\n",
    "    try:\n",
    "        div = x / y\n",
    "    except Exception as e:\n",
    "        print(f\"An unexpected error occurred: {e}\")\n",
    "        return None  # Indicate that an error occurred\n",
    "    else:\n",
    "        print(\"No error in program\")\n",
    "        return div  # Return the result if no errors occurred\n",
    "    finally:\n",
    "        print(\"i will run no matter what happens in code\")"
   ]
  },
  {
   "cell_type": "code",
   "execution_count": 61,
   "id": "e25f0752-74b1-4275-9d34-d691f988e0bf",
   "metadata": {},
   "outputs": [
    {
     "name": "stdout",
     "output_type": "stream",
     "text": [
      "An unexpected error occurred: unsupported operand type(s) for /: 'int' and 'str'\n",
      "i will run no matter what happens in code\n"
     ]
    }
   ],
   "source": [
    "divide(1, \"a\")  "
   ]
  },
  {
   "cell_type": "code",
   "execution_count": null,
   "id": "56d7c044-470c-4bd2-ac66-6baba09610cf",
   "metadata": {},
   "outputs": [],
   "source": []
  }
 ],
 "metadata": {
  "kernelspec": {
   "display_name": "Python 3 (ipykernel)",
   "language": "python",
   "name": "python3"
  },
  "language_info": {
   "codemirror_mode": {
    "name": "ipython",
    "version": 3
   },
   "file_extension": ".py",
   "mimetype": "text/x-python",
   "name": "python",
   "nbconvert_exporter": "python",
   "pygments_lexer": "ipython3",
   "version": "3.12.4"
  }
 },
 "nbformat": 4,
 "nbformat_minor": 5
}
